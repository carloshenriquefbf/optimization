{
 "cells": [
  {
   "cell_type": "code",
   "execution_count": 11,
   "metadata": {},
   "outputs": [],
   "source": [
    "from sympy import Symbol, diff, hessian\n",
    "import numpy as np "
   ]
  },
  {
   "cell_type": "code",
   "execution_count": 2,
   "metadata": {},
   "outputs": [],
   "source": [
    "n_variaveis = 2\n",
    "\n",
    "x_1 = Symbol('x_1')\n",
    "x_2 = Symbol('x_2')\n",
    "\n",
    "funcao = (x_1**2 + x_2 - 11)**2 + (x_1 + x_2**2 - 7)**2\n",
    "funcao"
   ]
  },
  {
   "cell_type": "code",
   "execution_count": 9,
   "metadata": {},
   "outputs": [],
   "source": [
    "def calcula_gradiente(funcao, variaveis):\n",
    "    return [diff(funcao, variavel) for variavel in variaveis]\n",
    "\n",
    "def calcula_hessiana(funcao, variaveis):\n",
    "  return hessian(funcao, variaveis)"
   ]
  },
  {
   "cell_type": "code",
   "execution_count": 4,
   "metadata": {},
   "outputs": [],
   "source": [
    "gradiente = calcula_gradiente(funcao, [x_1, x_2])\n",
    "gradiente"
   ]
  },
  {
   "cell_type": "code",
   "execution_count": 12,
   "metadata": {},
   "outputs": [],
   "source": [
    "hessiana = calcula_hessiana(funcao, [x_1, x_2])\n",
    "hessiana"
   ]
  },
  {
   "cell_type": "code",
   "execution_count": 35,
   "metadata": {},
   "outputs": [],
   "source": [
    "def substitui_variaveis_funcao(funcao, variaveis, ponto):\n",
    "    return funcao.subs(dict(zip(variaveis, ponto)))\n",
    "\n",
    "def substitui_variaveis_gradiente(gradiente, variaveis, ponto):\n",
    "    return np.array([gradiente_i.subs(dict(zip(variaveis, ponto))) for gradiente_i in gradiente]).astype(np.float64)\n",
    "\n",
    "def substitui_variaveis_hessiana(hessiana, variaveis, ponto):\n",
    "    return np.array(hessiana.subs(dict(zip(variaveis, ponto)))).astype(np.float64)"
   ]
  },
  {
   "cell_type": "markdown",
   "metadata": {},
   "source": [
    "![Armijo's Rule](./img/alg_busca_armijo.png)"
   ]
  },
  {
   "cell_type": "code",
   "execution_count": null,
   "metadata": {},
   "outputs": [],
   "source": [
    "def busca_de_armijo(funcao: any, gradiente: any, variaveis: list, ponto_inicial: np.array, d: np.array, gama: float, eta: float):\n",
    "  \"\"\"\n",
    "  Parametros:\n",
    "    - funcao: função a ser minimizada\n",
    "    - gradiente: gradiente da função a ser minimizada\n",
    "    - variaveis: lista de variáveis da função\n",
    "    - ponto_inicial: ponto inicial\n",
    "    - d: direção de descida\n",
    "    - gama: fator de redução do passo\n",
    "    - eta: fator de ???\n",
    "  \n",
    "  Retorna:\n",
    "    - t: passo ótimo\n",
    "    - iteracoes: número de iterações\n",
    "  \"\"\"\n",
    "  t = 1\n",
    "  iteracoes = 1\n",
    "  while substitui_variaveis_funcao(funcao, variaveis, ponto_inicial + t*d) > substitui_variaveis_funcao(funcao, variaveis, ponto_inicial) + eta*t*np.dot(substitui_variaveis_gradiente(gradiente, variaveis, ponto_inicial), d):\n",
    "    t = gama*t\n",
    "    iteracoes += 1\n",
    "\n",
    "  return t, iteracoes"
   ]
  },
  {
   "cell_type": "markdown",
   "metadata": {},
   "source": [
    "<h2>Método do Gradiente</h2>\n",
    "<img src=\"./img/alg_metodo_gradiente.png\" width=\"500\">\n"
   ]
  },
  {
   "cell_type": "code",
   "execution_count": null,
   "metadata": {},
   "outputs": [],
   "source": [
    "def metodo_do_gradiente(\n",
    "    funcao: any,\n",
    "    gradiente: any, \n",
    "    variaveis: list, \n",
    "    ponto_inicial: np.array,\n",
    "    gama: float,\n",
    "    eta: float,\n",
    "    maximo_iteracoes: int = 1000, \n",
    "    valor_minimo: float = 1e-20):\n",
    "  \n",
    "  \"\"\"\n",
    "  Parametros:\n",
    "    - funcao: função a ser minimizada\n",
    "    - gradiente: gradiente da função a ser minimizada\n",
    "    - variaveis: lista de variáveis da função\n",
    "    - ponto_inicial: ponto inicial\n",
    "    - gama: fator de redução do passo\n",
    "    - eta: fator de ???\n",
    "    - maximo_iteracoes: número máximo de iterações\n",
    "    - valor_minimo: valor mínimo da função para parar a execução\n",
    "  \n",
    "  Retorna:\n",
    "    - ponto: ponto ótimo\n",
    "    - iteracoes: número de iterações\n",
    "    - iteracoes_armijo: número de iterações da busca de armijo\n",
    "  \"\"\"\n",
    "\n",
    "  iteracoes = 0\n",
    "  iteracoes_armijo = 0\n",
    "  ponto = ponto_inicial\n",
    "  while np.linalg.norm(substitui_variaveis_gradiente(gradiente, variaveis, ponto)) > valor_minimo:\n",
    "    d = -substitui_variaveis_gradiente(gradiente, variaveis, ponto)\n",
    "    t, iteracoes_armijo_tmp = busca_de_armijo(funcao, gradiente, variaveis, ponto, d, gama, eta)\n",
    "    iteracoes_armijo += iteracoes_armijo_tmp\n",
    "    ponto = ponto + t*d\n",
    "    if iteracoes > maximo_iteracoes:\n",
    "      print('Número máximo de iterações atingido')\n",
    "      break\n",
    "    iteracoes += 1\n",
    "  \n",
    "  return ponto, iteracoes, iteracoes_armijo"
   ]
  },
  {
   "cell_type": "markdown",
   "metadata": {},
   "source": [
    "<h2>Método de Newton</h2>\n",
    "<img src=\"./img/alg_metodo_newton.png\" width=\"500\">"
   ]
  },
  {
   "cell_type": "code",
   "execution_count": null,
   "metadata": {},
   "outputs": [],
   "source": [
    "def metodo_de_newton(\n",
    "    funcao: any,\n",
    "    gradiente: any,\n",
    "    hessiana: any,\n",
    "    variaveis: list, \n",
    "    ponto_inicial: np.array,\n",
    "    gama: float,\n",
    "    eta: float,\n",
    "    maximo_iteracoes: int = 1000, \n",
    "    valor_minimo: float = 1e-20):\n",
    "  \n",
    "  \"\"\"\n",
    "  Parametros:\n",
    "    - funcao: função a ser minimizada\n",
    "    - gradiente: gradiente da função a ser minimizada\n",
    "    - laplaciano: laplaciano da função a ser minimizada\n",
    "    - variaveis: lista de variáveis da função\n",
    "    - ponto_inicial: ponto inicial\n",
    "    - gama: fator de redução do passo\n",
    "    - eta: fator de ???\n",
    "    - maximo_iteracoes: número máximo de iterações\n",
    "    - valor_minimo: valor mínimo da função para parar a execução\n",
    "  \n",
    "  Retorna:\n",
    "    - ponto: ponto ótimo\n",
    "    - iteracoes: número de iterações\n",
    "    - iteracoes_armijo: número de iterações da busca de armijo\n",
    "  \"\"\"\n",
    "\n",
    "  iteracoes = 0\n",
    "  iteracoes_armijo = 0\n",
    "  ponto = ponto_inicial\n",
    "\n",
    "  while np.linalg.norm(substitui_variaveis_gradiente(ponto)) > valor_minimo:\n",
    "    d = -np.linalg.inv(substitui_variaveis_hessiana(hessiana, variaveis, ponto)) @ substitui_variaveis_gradiente(gradiente, variaveis, ponto)\n",
    "    t, iteracoes_armijo_tmp = busca_de_armijo(funcao, gradiente, variaveis, ponto, d, gama, eta)\n",
    "    iteracoes_armijo += iteracoes_armijo_tmp\n",
    "    ponto = ponto + t*d\n",
    "    if iteracoes > maximo_iteracoes:\n",
    "      print('Número máximo de iterações atingido')\n",
    "      break\n",
    "    iteracoes += 1\n",
    "\n",
    "  return ponto, iteracoes, iteracoes_armijo"
   ]
  },
  {
   "cell_type": "code",
   "execution_count": null,
   "metadata": {},
   "outputs": [],
   "source": []
  },
  {
   "cell_type": "code",
   "execution_count": null,
   "metadata": {},
   "outputs": [],
   "source": []
  },
  {
   "cell_type": "code",
   "execution_count": null,
   "metadata": {},
   "outputs": [],
   "source": []
  },
  {
   "cell_type": "code",
   "execution_count": null,
   "metadata": {},
   "outputs": [],
   "source": []
  },
  {
   "cell_type": "code",
   "execution_count": null,
   "metadata": {},
   "outputs": [],
   "source": []
  },
  {
   "cell_type": "code",
   "execution_count": null,
   "metadata": {},
   "outputs": [],
   "source": []
  },
  {
   "cell_type": "code",
   "execution_count": null,
   "metadata": {},
   "outputs": [],
   "source": [
    "from sympy import symbols\n",
    "\n",
    "# Define the variables x1 and x2\n",
    "x1, x2 = symbols('x1 x2')\n",
    "\n",
    "# Define the function\n",
    "f_x = (1/2) * (x1 - 2)**2 + (x2 - 1)**2\n",
    "f_x\n",
    "print(f_x)\n",
    "# Define the gradient\n",
    "grad_f_x = [f_x.diff(x1), f_x.diff(x2)]\n",
    "print(grad_f_x)\n",
    "\n"
   ]
  },
  {
   "cell_type": "code",
   "execution_count": null,
   "metadata": {},
   "outputs": [],
   "source": [
    "from sympy import symbols\n",
    "\n",
    "# Define the variables x1 and x2\n",
    "variaveis = list(symbols('x1 x2'))\n",
    "print(variaveis)\n",
    "x1, x2 = variaveis\n",
    "\n",
    "# Define the function\n",
    "f_x = (1/2) * (x1 - 2)**2 + (x2 - 1)**2\n",
    "f_x\n",
    "print(f_x)\n",
    "\n",
    "# Define the gradient\n",
    "grad_f_x = calcula_gradiente(f_x, variaveis)\n",
    "print(grad_f_x)\n",
    "\n"
   ]
  },
  {
   "cell_type": "code",
   "execution_count": null,
   "metadata": {},
   "outputs": [],
   "source": [
    "ponto_inicial = np.array([1, 0])\n",
    "d = np.array([3, 1])\n",
    "eta = 0.25\n",
    "gama = 0.8\n",
    "\n",
    "passo_otimo, n_iteracoes = busca_de_armijo(f_x, grad_f_x, variaveis, ponto_inicial, d, gama, eta)"
   ]
  }
 ],
 "metadata": {
  "kernelspec": {
   "display_name": ".venv",
   "language": "python",
   "name": "python3"
  },
  "language_info": {
   "codemirror_mode": {
    "name": "ipython",
    "version": 3
   },
   "file_extension": ".py",
   "mimetype": "text/x-python",
   "name": "python",
   "nbconvert_exporter": "python",
   "pygments_lexer": "ipython3",
   "version": "3.12.4"
  }
 },
 "nbformat": 4,
 "nbformat_minor": 2
}
