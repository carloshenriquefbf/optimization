{
 "cells": [
  {
   "cell_type": "code",
   "execution_count": 92,
   "metadata": {},
   "outputs": [
    {
     "name": "stdout",
     "output_type": "stream",
     "text": [
      "Defaulting to user installation because normal site-packages is not writeable\n",
      "Requirement already satisfied: sympy in /Users/carlos/Library/Python/3.9/lib/python/site-packages (1.13.3)\n",
      "Requirement already satisfied: mpmath<1.4,>=1.1.0 in /Users/carlos/Library/Python/3.9/lib/python/site-packages (from sympy) (1.3.0)\n",
      "\u001b[33mWARNING: You are using pip version 21.2.4; however, version 24.3.1 is available.\n",
      "You should consider upgrading via the '/Library/Developer/CommandLineTools/usr/bin/python3 -m pip install --upgrade pip' command.\u001b[0m\n"
     ]
    }
   ],
   "source": [
    "!pip3 install sympy\n",
    "from sympy import Symbol, diff, hessian\n",
    "import numpy as np"
   ]
  },
  {
   "cell_type": "code",
   "execution_count": 93,
   "metadata": {},
   "outputs": [
    {
     "data": {
      "text/latex": [
       "$\\displaystyle \\left(x_{1} + x_{2}^{2} - 7\\right)^{2} + \\left(x_{1}^{2} + x_{2} - 11\\right)^{2}$"
      ],
      "text/plain": [
       "(x_1 + x_2**2 - 7)**2 + (x_1**2 + x_2 - 11)**2"
      ]
     },
     "execution_count": 93,
     "metadata": {},
     "output_type": "execute_result"
    }
   ],
   "source": [
    "n_variaveis = 2\n",
    "\n",
    "x_1 = Symbol('x_1')\n",
    "x_2 = Symbol('x_2')\n",
    "\n",
    "funcao = (x_1**2 + x_2 - 11)**2 + (x_1 + x_2**2 - 7)**2\n",
    "funcao"
   ]
  },
  {
   "cell_type": "code",
   "execution_count": 94,
   "metadata": {},
   "outputs": [],
   "source": [
    "def calcula_gradiente(funcao, variaveis):\n",
    "    return [diff(funcao, variavel) for variavel in variaveis]\n",
    "\n",
    "def calcula_hessiana(funcao, variaveis):\n",
    "  return hessian(funcao, variaveis)"
   ]
  },
  {
   "cell_type": "code",
   "execution_count": 95,
   "metadata": {},
   "outputs": [
    {
     "data": {
      "text/plain": [
       "[4*x_1*(x_1**2 + x_2 - 11) + 2*x_1 + 2*x_2**2 - 14,\n",
       " 2*x_1**2 + 4*x_2*(x_1 + x_2**2 - 7) + 2*x_2 - 22]"
      ]
     },
     "execution_count": 95,
     "metadata": {},
     "output_type": "execute_result"
    }
   ],
   "source": [
    "gradiente = calcula_gradiente(funcao, [x_1, x_2])\n",
    "gradiente"
   ]
  },
  {
   "cell_type": "code",
   "execution_count": 96,
   "metadata": {},
   "outputs": [
    {
     "data": {
      "text/latex": [
       "$\\displaystyle \\left[\\begin{matrix}12 x_{1}^{2} + 4 x_{2} - 42 & 4 x_{1} + 4 x_{2}\\\\4 x_{1} + 4 x_{2} & 4 x_{1} + 12 x_{2}^{2} - 26\\end{matrix}\\right]$"
      ],
      "text/plain": [
       "Matrix([\n",
       "[12*x_1**2 + 4*x_2 - 42,          4*x_1 + 4*x_2],\n",
       "[         4*x_1 + 4*x_2, 4*x_1 + 12*x_2**2 - 26]])"
      ]
     },
     "execution_count": 96,
     "metadata": {},
     "output_type": "execute_result"
    }
   ],
   "source": [
    "hessiana = calcula_hessiana(funcao, [x_1, x_2])\n",
    "hessiana"
   ]
  },
  {
   "cell_type": "code",
   "execution_count": 97,
   "metadata": {},
   "outputs": [],
   "source": [
    "def substitui_variaveis_funcao(funcao, variaveis, ponto):\n",
    "    return funcao.subs(dict(zip(variaveis, ponto)))\n",
    "\n",
    "def substitui_variaveis_gradiente(gradiente, variaveis, ponto):\n",
    "    return np.array([gradiente_i.subs(dict(zip(variaveis, ponto))) for gradiente_i in gradiente]).astype(np.float64)\n",
    "\n",
    "def substitui_variaveis_hessiana(hessiana, variaveis, ponto):\n",
    "    return np.array(hessiana.subs(dict(zip(variaveis, ponto)))).astype(np.float64)"
   ]
  },
  {
   "cell_type": "code",
   "execution_count": 98,
   "metadata": {},
   "outputs": [],
   "source": [
    "def calcula_bfgs(H, p, q):\n",
    "    termo_2_1 = 1 + ((q.T @ H) @ q) / (p.T @ q)\n",
    "    termo_2_2 = p.T @ p / p.T @ q\n",
    "    termo_2 = termo_2_1 * termo_2_2\n",
    "    termo_3 = ((p @ (q.T @ H)) + ((H @ q) @ p.T)) / (p.T @ q)\n",
    "    return H + termo_2 - termo_3"
   ]
  },
  {
   "cell_type": "code",
   "execution_count": 99,
   "metadata": {},
   "outputs": [],
   "source": [
    "def calcula_dfp(H, p, q):\n",
    "    termo_2 = p.T @ p / p.T @ q\n",
    "    termo_3 = ((H @ q) @ (q.T @ H)) / ((q.T @ H) @ q)\n",
    "    return H + termo_2 - termo_3"
   ]
  },
  {
   "cell_type": "markdown",
   "metadata": {},
   "source": [
    "![Armijo's Rule](./img/alg_busca_armijo.png)"
   ]
  },
  {
   "cell_type": "code",
   "execution_count": 100,
   "metadata": {},
   "outputs": [],
   "source": [
    "def busca_de_armijo(funcao: any, gradiente: any, variaveis: list, ponto_inicial: np.array, d: np.array, gama: float, eta: float):\n",
    "  \"\"\"\n",
    "  Parametros:\n",
    "    - funcao: função a ser minimizada\n",
    "    - gradiente: gradiente da função a ser minimizada\n",
    "    - variaveis: lista de variáveis da função\n",
    "    - ponto_inicial: ponto inicial\n",
    "    - d: direção de descida\n",
    "    - gama: fator de redução do passo\n",
    "    - eta: fator de ???\n",
    "\n",
    "  Retorna:\n",
    "    - t: passo ótimo\n",
    "    - iteracoes: número de iterações\n",
    "  \"\"\"\n",
    "  t = 1\n",
    "  iteracoes = 1\n",
    "  while substitui_variaveis_funcao(funcao, variaveis, ponto_inicial + t*d) > substitui_variaveis_funcao(funcao, variaveis, ponto_inicial) + eta*t*np.dot(substitui_variaveis_gradiente(gradiente, variaveis, ponto_inicial), d):\n",
    "    t = gama*t\n",
    "    iteracoes += 1\n",
    "\n",
    "  return t, iteracoes"
   ]
  },
  {
   "cell_type": "markdown",
   "metadata": {},
   "source": [
    "<h2>Método do Gradiente</h2>\n",
    "<img src=\"./img/alg_metodo_gradiente.png\" width=\"500\">\n"
   ]
  },
  {
   "cell_type": "code",
   "execution_count": 101,
   "metadata": {},
   "outputs": [],
   "source": [
    "def metodo_do_gradiente(\n",
    "    funcao: any,\n",
    "    gradiente: any,\n",
    "    variaveis: list,\n",
    "    ponto_inicial: np.array,\n",
    "    gama: float,\n",
    "    eta: float,\n",
    "    maximo_iteracoes: int = 1000,\n",
    "    valor_minimo: float = 1e-20):\n",
    "\n",
    "  \"\"\"\n",
    "  Parametros:\n",
    "    - funcao: função a ser minimizada\n",
    "    - gradiente: gradiente da função a ser minimizada\n",
    "    - variaveis: lista de variáveis da função\n",
    "    - ponto_inicial: ponto inicial\n",
    "    - gama: fator de redução do passo\n",
    "    - eta: fator de ???\n",
    "    - maximo_iteracoes: número máximo de iterações\n",
    "    - valor_minimo: valor mínimo da função para parar a execução\n",
    "\n",
    "  Retorna:\n",
    "    - ponto: ponto ótimo\n",
    "    - iteracoes: número de iterações\n",
    "    - iteracoes_armijo: número de iterações da busca de armijo\n",
    "  \"\"\"\n",
    "\n",
    "  iteracoes = 0\n",
    "  iteracoes_armijo = 0\n",
    "  ponto = ponto_inicial\n",
    "  while np.linalg.norm(substitui_variaveis_gradiente(gradiente, variaveis, ponto)) > valor_minimo:\n",
    "    d = -substitui_variaveis_gradiente(gradiente, variaveis, ponto)\n",
    "    t, iteracoes_armijo_tmp = busca_de_armijo(funcao, gradiente, variaveis, ponto, d, gama, eta)\n",
    "    iteracoes_armijo += iteracoes_armijo_tmp\n",
    "    ponto = ponto + t*d\n",
    "    if iteracoes > maximo_iteracoes:\n",
    "      print('Número máximo de iterações atingido')\n",
    "      break\n",
    "    iteracoes += 1\n",
    "\n",
    "  return ponto, iteracoes, iteracoes_armijo"
   ]
  },
  {
   "cell_type": "markdown",
   "metadata": {},
   "source": [
    "<h2>Método de Newton</h2>\n",
    "<img src=\"./img/alg_metodo_newton.png\" width=\"500\">"
   ]
  },
  {
   "cell_type": "code",
   "execution_count": 102,
   "metadata": {},
   "outputs": [],
   "source": [
    "def metodo_de_newton(\n",
    "    funcao: any,\n",
    "    gradiente: any,\n",
    "    hessiana: any,\n",
    "    variaveis: list,\n",
    "    ponto_inicial: np.array,\n",
    "    gama: float,\n",
    "    eta: float,\n",
    "    maximo_iteracoes: int = 1000,\n",
    "    valor_minimo: float = 1e-20):\n",
    "\n",
    "  \"\"\"\n",
    "  Parametros:\n",
    "    - funcao: função a ser minimizada\n",
    "    - gradiente: gradiente da função a ser minimizada\n",
    "    - hessiana: hessiana da função a ser minimizada\n",
    "    - variaveis: lista de variáveis da função\n",
    "    - ponto_inicial: ponto inicial\n",
    "    - gama: fator de redução do passo\n",
    "    - eta: fator de ???\n",
    "    - maximo_iteracoes: número máximo de iterações\n",
    "    - valor_minimo: valor mínimo da função para parar a execução\n",
    "\n",
    "  Retorna:\n",
    "    - ponto: ponto ótimo\n",
    "    - iteracoes: número de iterações\n",
    "    - iteracoes_armijo: número de iterações da busca de armijo\n",
    "  \"\"\"\n",
    "\n",
    "  iteracoes = 0\n",
    "  iteracoes_armijo = 0\n",
    "  ponto = ponto_inicial\n",
    "\n",
    "  while np.linalg.norm(substitui_variaveis_gradiente(gradiente, variaveis, ponto)) > valor_minimo:\n",
    "    d = -np.linalg.inv(substitui_variaveis_hessiana(hessiana, variaveis, ponto)) @ substitui_variaveis_gradiente(gradiente, variaveis, ponto)\n",
    "    t, iteracoes_armijo_tmp = busca_de_armijo(funcao, gradiente, variaveis, ponto, d, gama, eta)\n",
    "    iteracoes_armijo += iteracoes_armijo_tmp\n",
    "    ponto = ponto + t*d\n",
    "    if iteracoes > maximo_iteracoes:\n",
    "      print('Número máximo de iterações atingido')\n",
    "      break\n",
    "    iteracoes += 1\n",
    "\n",
    "  return ponto, iteracoes, iteracoes_armijo"
   ]
  },
  {
   "cell_type": "markdown",
   "metadata": {},
   "source": [
    "<h2>Método de Quase-Newton</h2>\n",
    "<img src=\"./img/alg_metodo_quase_newton.png\" width=\"500\">"
   ]
  },
  {
   "cell_type": "code",
   "execution_count": 103,
   "metadata": {},
   "outputs": [],
   "source": [
    "def metodo_de_quase_newton(\n",
    "    funcao: any,\n",
    "    n_variaveis: int,\n",
    "    gradiente: any,\n",
    "    variaveis: list,\n",
    "    ponto_inicial: np.array,\n",
    "    gama: float,\n",
    "    eta: float,\n",
    "    maximo_iteracoes: int = 1000,\n",
    "    valor_minimo: float = 1e-20,\n",
    "    metodo: str = 'dfp'\n",
    "    ):\n",
    "\n",
    "  \"\"\"\n",
    "  Parametros:\n",
    "    - funcao: função a ser minimizada\n",
    "    - gradiente: gradiente da função a ser minimizada\n",
    "    - hessiana: hessiana da função a ser minimizada\n",
    "    - variaveis: lista de variáveis da função\n",
    "    - ponto_inicial: ponto inicial\n",
    "    - gama: fator de redução do passo\n",
    "    - eta: fator de ???\n",
    "    - maximo_iteracoes: número máximo de iterações\n",
    "    - valor_minimo: valor mínimo da função para parar a execução\n",
    "    - metodo: método de atualização\n",
    "\n",
    "  Retorna:\n",
    "    - ponto: ponto ótimo\n",
    "    - iteracoes: número de iterações\n",
    "    - iteracoes_armijo: número de iterações da busca de armijo\n",
    "  \"\"\"\n",
    "\n",
    "  iteracoes = 0\n",
    "  iteracoes_armijo = 0\n",
    "  ponto = ponto_inicial\n",
    "  H = np.eye(n_variaveis)\n",
    "\n",
    "  while np.linalg.norm(substitui_variaveis_gradiente(gradiente, variaveis, ponto)) > valor_minimo:\n",
    "    d = -H @ substitui_variaveis_gradiente(gradiente, variaveis, ponto)\n",
    "    t, iteracoes_armijo_tmp = busca_de_armijo(funcao, gradiente, variaveis, ponto, d, gama, eta)\n",
    "    iteracoes_armijo += iteracoes_armijo_tmp\n",
    "\n",
    "    proximo_ponto = ponto + t*d\n",
    "    p = proximo_ponto - ponto\n",
    "    q = substitui_variaveis_gradiente(gradiente, variaveis, proximo_ponto) - substitui_variaveis_gradiente(gradiente, variaveis, ponto)\n",
    "    ponto = proximo_ponto\n",
    "\n",
    "    if iteracoes > maximo_iteracoes:\n",
    "      print('Número máximo de iterações atingido')\n",
    "      break\n",
    "    iteracoes += 1\n",
    "    H = calcula_dfp(H, p, q) if metodo == 'dfp' else calcula_bfgs(H, p, q)\n",
    "\n",
    "  return ponto, iteracoes, iteracoes_armijo"
   ]
  },
  {
   "cell_type": "markdown",
   "metadata": {},
   "source": []
  },
  {
   "cell_type": "markdown",
   "metadata": {},
   "source": []
  },
  {
   "cell_type": "code",
   "execution_count": null,
   "metadata": {},
   "outputs": [],
   "source": []
  },
  {
   "cell_type": "code",
   "execution_count": null,
   "metadata": {},
   "outputs": [],
   "source": []
  },
  {
   "cell_type": "code",
   "execution_count": null,
   "metadata": {},
   "outputs": [],
   "source": []
  },
  {
   "cell_type": "code",
   "execution_count": null,
   "metadata": {},
   "outputs": [],
   "source": []
  },
  {
   "cell_type": "code",
   "execution_count": null,
   "metadata": {},
   "outputs": [],
   "source": []
  },
  {
   "cell_type": "code",
   "execution_count": 104,
   "metadata": {},
   "outputs": [
    {
     "name": "stdout",
     "output_type": "stream",
     "text": [
      "0.5*(x1 - 2)**2 + (x2 - 1)**2\n",
      "[1.0*x1 - 2.0, 2*x2 - 2]\n"
     ]
    }
   ],
   "source": [
    "from sympy import symbols\n",
    "\n",
    "# Define the variables x1 and x2\n",
    "x1, x2 = symbols('x1 x2')\n",
    "\n",
    "# Define the function\n",
    "f_x = (1/2) * (x1 - 2)**2 + (x2 - 1)**2\n",
    "f_x\n",
    "print(f_x)\n",
    "# Define the gradient\n",
    "grad_f_x = [f_x.diff(x1), f_x.diff(x2)]\n",
    "print(grad_f_x)\n",
    "\n"
   ]
  },
  {
   "cell_type": "code",
   "execution_count": 105,
   "metadata": {},
   "outputs": [
    {
     "name": "stdout",
     "output_type": "stream",
     "text": [
      "[x1, x2]\n",
      "0.5*(x1 - 2)**2 + (x2 - 1)**2\n",
      "[1.0*x1 - 2.0, 2*x2 - 2]\n"
     ]
    }
   ],
   "source": [
    "from sympy import symbols\n",
    "\n",
    "# Define the variables x1 and x2\n",
    "variaveis = list(symbols('x1 x2'))\n",
    "print(variaveis)\n",
    "x1, x2 = variaveis\n",
    "\n",
    "# Define the function\n",
    "f_x = (1/2) * (x1 - 2)**2 + (x2 - 1)**2\n",
    "f_x\n",
    "print(f_x)\n",
    "\n",
    "# Define the gradient\n",
    "grad_f_x = calcula_gradiente(f_x, variaveis)\n",
    "print(grad_f_x)\n",
    "\n"
   ]
  },
  {
   "cell_type": "code",
   "execution_count": 106,
   "metadata": {},
   "outputs": [],
   "source": [
    "ponto_inicial = np.array([4, 1])\n",
    "d = np.array([3, 1])\n",
    "eta = 0.25\n",
    "gama = 0.8\n",
    "\n",
    "passo_otimo, n_iteracoes = busca_de_armijo(f_x, grad_f_x, variaveis, ponto_inicial, d, gama, eta)"
   ]
  },
  {
   "cell_type": "code",
   "execution_count": 107,
   "metadata": {},
   "outputs": [
    {
     "ename": "TypeError",
     "evalue": "Cannot convert expression to float",
     "output_type": "error",
     "traceback": [
      "\u001b[0;31m---------------------------------------------------------------------------\u001b[0m",
      "\u001b[0;31mTypeError\u001b[0m                                 Traceback (most recent call last)",
      "Cell \u001b[0;32mIn[107], line 1\u001b[0m\n\u001b[0;32m----> 1\u001b[0m \u001b[43mmetodo_de_quase_newton\u001b[49m\u001b[43m(\u001b[49m\u001b[43mf_x\u001b[49m\u001b[43m,\u001b[49m\u001b[43m \u001b[49m\u001b[43mn_variaveis\u001b[49m\u001b[43m,\u001b[49m\u001b[43m \u001b[49m\u001b[43mgrad_f_x\u001b[49m\u001b[43m,\u001b[49m\u001b[43m \u001b[49m\u001b[43mhessiana\u001b[49m\u001b[43m,\u001b[49m\u001b[43m \u001b[49m\u001b[43mvariaveis\u001b[49m\u001b[43m,\u001b[49m\u001b[43m \u001b[49m\u001b[43mponto_inicial\u001b[49m\u001b[43m,\u001b[49m\u001b[43m \u001b[49m\u001b[43mgama\u001b[49m\u001b[43m,\u001b[49m\u001b[43m \u001b[49m\u001b[43meta\u001b[49m\u001b[43m,\u001b[49m\u001b[43m \u001b[49m\u001b[43mmetodo\u001b[49m\u001b[38;5;241;43m=\u001b[39;49m\u001b[38;5;124;43m'\u001b[39;49m\u001b[38;5;124;43mbfgs\u001b[39;49m\u001b[38;5;124;43m'\u001b[39;49m\u001b[43m)\u001b[49m\n",
      "Cell \u001b[0;32mIn[103], line 38\u001b[0m, in \u001b[0;36mmetodo_de_quase_newton\u001b[0;34m(funcao, n_variaveis, gradiente, variaveis, ponto_inicial, gama, eta, maximo_iteracoes, valor_minimo, metodo)\u001b[0m\n\u001b[1;32m     35\u001b[0m ponto \u001b[38;5;241m=\u001b[39m ponto_inicial\n\u001b[1;32m     36\u001b[0m H \u001b[38;5;241m=\u001b[39m np\u001b[38;5;241m.\u001b[39meye(n_variaveis)\n\u001b[0;32m---> 38\u001b[0m \u001b[38;5;28;01mwhile\u001b[39;00m np\u001b[38;5;241m.\u001b[39mlinalg\u001b[38;5;241m.\u001b[39mnorm(\u001b[43msubstitui_variaveis_gradiente\u001b[49m\u001b[43m(\u001b[49m\u001b[43mgradiente\u001b[49m\u001b[43m,\u001b[49m\u001b[43m \u001b[49m\u001b[43mvariaveis\u001b[49m\u001b[43m,\u001b[49m\u001b[43m \u001b[49m\u001b[43mponto\u001b[49m\u001b[43m)\u001b[49m) \u001b[38;5;241m>\u001b[39m valor_minimo:\n\u001b[1;32m     39\u001b[0m   d \u001b[38;5;241m=\u001b[39m \u001b[38;5;241m-\u001b[39mH \u001b[38;5;241m@\u001b[39m substitui_variaveis_gradiente(gradiente, variaveis, ponto)\n\u001b[1;32m     40\u001b[0m   t, iteracoes_armijo_tmp \u001b[38;5;241m=\u001b[39m busca_de_armijo(funcao, gradiente, variaveis, ponto, d, gama, eta)\n",
      "Cell \u001b[0;32mIn[97], line 5\u001b[0m, in \u001b[0;36msubstitui_variaveis_gradiente\u001b[0;34m(gradiente, variaveis, ponto)\u001b[0m\n\u001b[1;32m      4\u001b[0m \u001b[38;5;28;01mdef\u001b[39;00m \u001b[38;5;21msubstitui_variaveis_gradiente\u001b[39m(gradiente, variaveis, ponto):\n\u001b[0;32m----> 5\u001b[0m     \u001b[38;5;28;01mreturn\u001b[39;00m \u001b[43mnp\u001b[49m\u001b[38;5;241;43m.\u001b[39;49m\u001b[43marray\u001b[49m\u001b[43m(\u001b[49m\u001b[43m[\u001b[49m\u001b[43mgradiente_i\u001b[49m\u001b[38;5;241;43m.\u001b[39;49m\u001b[43msubs\u001b[49m\u001b[43m(\u001b[49m\u001b[38;5;28;43mdict\u001b[39;49m\u001b[43m(\u001b[49m\u001b[38;5;28;43mzip\u001b[39;49m\u001b[43m(\u001b[49m\u001b[43mvariaveis\u001b[49m\u001b[43m,\u001b[49m\u001b[43m \u001b[49m\u001b[43mponto\u001b[49m\u001b[43m)\u001b[49m\u001b[43m)\u001b[49m\u001b[43m)\u001b[49m\u001b[43m \u001b[49m\u001b[38;5;28;43;01mfor\u001b[39;49;00m\u001b[43m \u001b[49m\u001b[43mgradiente_i\u001b[49m\u001b[43m \u001b[49m\u001b[38;5;129;43;01min\u001b[39;49;00m\u001b[43m \u001b[49m\u001b[43mgradiente\u001b[49m\u001b[43m]\u001b[49m\u001b[43m)\u001b[49m\u001b[38;5;241;43m.\u001b[39;49m\u001b[43mastype\u001b[49m\u001b[43m(\u001b[49m\u001b[43mnp\u001b[49m\u001b[38;5;241;43m.\u001b[39;49m\u001b[43mfloat64\u001b[49m\u001b[43m)\u001b[49m\n",
      "File \u001b[0;32m~/Library/Python/3.9/lib/python/site-packages/sympy/core/expr.py:340\u001b[0m, in \u001b[0;36mExpr.__float__\u001b[0;34m(self)\u001b[0m\n\u001b[1;32m    338\u001b[0m \u001b[38;5;28;01mif\u001b[39;00m result\u001b[38;5;241m.\u001b[39mis_number \u001b[38;5;129;01mand\u001b[39;00m result\u001b[38;5;241m.\u001b[39mas_real_imag()[\u001b[38;5;241m1\u001b[39m]:\n\u001b[1;32m    339\u001b[0m     \u001b[38;5;28;01mraise\u001b[39;00m \u001b[38;5;167;01mTypeError\u001b[39;00m(\u001b[38;5;124m\"\u001b[39m\u001b[38;5;124mCannot convert complex to float\u001b[39m\u001b[38;5;124m\"\u001b[39m)\n\u001b[0;32m--> 340\u001b[0m \u001b[38;5;28;01mraise\u001b[39;00m \u001b[38;5;167;01mTypeError\u001b[39;00m(\u001b[38;5;124m\"\u001b[39m\u001b[38;5;124mCannot convert expression to float\u001b[39m\u001b[38;5;124m\"\u001b[39m)\n",
      "\u001b[0;31mTypeError\u001b[0m: Cannot convert expression to float"
     ]
    }
   ],
   "source": [
    "metodo_de_quase_newton(f_x, n_variaveis, grad_f_x, hessiana, variaveis, ponto_inicial, gama, eta, metodo='bfgs')"
   ]
  }
 ],
 "metadata": {
  "kernelspec": {
   "display_name": ".venv",
   "language": "python",
   "name": "python3"
  },
  "language_info": {
   "codemirror_mode": {
    "name": "ipython",
    "version": 3
   },
   "file_extension": ".py",
   "mimetype": "text/x-python",
   "name": "python",
   "nbconvert_exporter": "python",
   "pygments_lexer": "ipython3",
   "version": "3.9.6"
  }
 },
 "nbformat": 4,
 "nbformat_minor": 2
}
