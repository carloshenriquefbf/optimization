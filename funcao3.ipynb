{
 "cells": [
  {
   "cell_type": "code",
   "execution_count": 351,
   "metadata": {},
   "outputs": [
    {
     "name": "stdout",
     "output_type": "stream",
     "text": [
      "Defaulting to user installation because normal site-packages is not writeable\n",
      "Requirement already satisfied: sympy in /Users/carlos/Library/Python/3.9/lib/python/site-packages (1.13.3)\n",
      "Requirement already satisfied: mpmath<1.4,>=1.1.0 in /Users/carlos/Library/Python/3.9/lib/python/site-packages (from sympy) (1.3.0)\n",
      "\u001b[33mWARNING: You are using pip version 21.2.4; however, version 24.3.1 is available.\n",
      "You should consider upgrading via the '/Library/Developer/CommandLineTools/usr/bin/python3 -m pip install --upgrade pip' command.\u001b[0m\n"
     ]
    }
   ],
   "source": [
    "!pip3 install sympy\n",
    "from sympy import Symbol, diff, hessian\n",
    "import numpy as np"
   ]
  },
  {
   "cell_type": "code",
   "execution_count": 352,
   "metadata": {},
   "outputs": [
    {
     "data": {
      "text/latex": [
       "$\\displaystyle \\left(x_{1} + x_{2}^{2} - 7\\right)^{2} + \\left(x_{1}^{2} + x_{2} - 11\\right)^{2}$"
      ],
      "text/plain": [
       "(x_1 + x_2**2 - 7)**2 + (x_1**2 + x_2 - 11)**2"
      ]
     },
     "execution_count": 352,
     "metadata": {},
     "output_type": "execute_result"
    }
   ],
   "source": [
    "n_variaveis = 2\n",
    "\n",
    "x_1 = Symbol('x_1')\n",
    "x_2 = Symbol('x_2')\n",
    "\n",
    "funcao = (x_1**2 + x_2 - 11)**2 + (x_1 + x_2**2 - 7)**2\n",
    "funcao"
   ]
  },
  {
   "cell_type": "code",
   "execution_count": 353,
   "metadata": {},
   "outputs": [],
   "source": [
    "def calcula_gradiente(funcao, variaveis):\n",
    "    return [diff(funcao, variavel) for variavel in variaveis]\n",
    "\n",
    "def calcula_hessiana(funcao, variaveis):\n",
    "  return hessian(funcao, variaveis)"
   ]
  },
  {
   "cell_type": "code",
   "execution_count": 354,
   "metadata": {},
   "outputs": [
    {
     "data": {
      "text/plain": [
       "[4*x_1*(x_1**2 + x_2 - 11) + 2*x_1 + 2*x_2**2 - 14,\n",
       " 2*x_1**2 + 4*x_2*(x_1 + x_2**2 - 7) + 2*x_2 - 22]"
      ]
     },
     "execution_count": 354,
     "metadata": {},
     "output_type": "execute_result"
    }
   ],
   "source": [
    "gradiente = calcula_gradiente(funcao, [x_1, x_2])\n",
    "gradiente"
   ]
  },
  {
   "cell_type": "code",
   "execution_count": 355,
   "metadata": {},
   "outputs": [
    {
     "data": {
      "text/latex": [
       "$\\displaystyle \\left[\\begin{matrix}12 x_{1}^{2} + 4 x_{2} - 42 & 4 x_{1} + 4 x_{2}\\\\4 x_{1} + 4 x_{2} & 4 x_{1} + 12 x_{2}^{2} - 26\\end{matrix}\\right]$"
      ],
      "text/plain": [
       "Matrix([\n",
       "[12*x_1**2 + 4*x_2 - 42,          4*x_1 + 4*x_2],\n",
       "[         4*x_1 + 4*x_2, 4*x_1 + 12*x_2**2 - 26]])"
      ]
     },
     "execution_count": 355,
     "metadata": {},
     "output_type": "execute_result"
    }
   ],
   "source": [
    "hessiana = calcula_hessiana(funcao, [x_1, x_2])\n",
    "hessiana"
   ]
  },
  {
   "cell_type": "code",
   "execution_count": 356,
   "metadata": {},
   "outputs": [],
   "source": [
    "def substitui_variaveis_funcao(funcao, variaveis, ponto):\n",
    "    return funcao.subs(dict(zip(variaveis, ponto)))\n",
    "\n",
    "def substitui_variaveis_gradiente(gradiente, variaveis, ponto):\n",
    "    return np.array([gradiente_i.subs(dict(zip(variaveis, ponto))) for gradiente_i in gradiente]).astype(np.float64)\n",
    "\n",
    "def substitui_variaveis_hessiana(hessiana, variaveis, ponto):\n",
    "    return np.array(hessiana.subs(dict(zip(variaveis, ponto)))).astype(np.float64)"
   ]
  },
  {
   "cell_type": "markdown",
   "metadata": {},
   "source": [
    "<img src=\"./img/bfgs.jpeg\" width=\"500\">\n"
   ]
  },
  {
   "cell_type": "code",
   "execution_count": 357,
   "metadata": {},
   "outputs": [],
   "source": [
    "def calcula_bfgs(H, p, q):\n",
    "    p = p.reshape(2,1)\n",
    "    q = q.reshape(2,1)\n",
    "\n",
    "    termo_2_1 = (1 + (((q.T @ H) @ q) / (p.T @ q)))\n",
    "    termo_2_2 = (p @ p.T) / (p.T @ q)\n",
    "    termo_2 = termo_2_1 * termo_2_2\n",
    "    termo_3 = ((p @ (q.T @ H)) + ((H @ q) @ p.T)) / (p.T @ q)\n",
    "    return H + termo_2 - termo_3"
   ]
  },
  {
   "cell_type": "markdown",
   "metadata": {},
   "source": [
    "<img src=\"./img/dfp.jpeg\" width=\"500\">\n"
   ]
  },
  {
   "cell_type": "code",
   "execution_count": 358,
   "metadata": {},
   "outputs": [],
   "source": [
    "def calcula_dfp(H, p, q):\n",
    "    p = p.reshape(2,1)\n",
    "    q = q.reshape(2,1)\n",
    "\n",
    "    termo_2 = (p.T @ p) / (p.T @ q)\n",
    "    termo_3 = ((H @ q) @ (q.T @ H)) / ((q.T @ H) @ q)\n",
    "    return H + termo_2 - termo_3"
   ]
  },
  {
   "cell_type": "markdown",
   "metadata": {},
   "source": [
    "![Armijo's Rule](./img/alg_busca_armijo.png)"
   ]
  },
  {
   "cell_type": "code",
   "execution_count": 359,
   "metadata": {},
   "outputs": [],
   "source": [
    "def busca_de_armijo(funcao: any, gradiente: any, variaveis: list, ponto_inicial: np.array, d: np.array, gama: float, eta: float):\n",
    "  \"\"\"\n",
    "  Parametros:\n",
    "    - funcao: função a ser minimizada\n",
    "    - gradiente: gradiente da função a ser minimizada\n",
    "    - variaveis: lista de variáveis da função\n",
    "    - ponto_inicial: ponto inicial\n",
    "    - d: direção de descida\n",
    "    - gama: fator de redução do passo\n",
    "    - eta: fator de ???\n",
    "\n",
    "  Retorna:\n",
    "    - t: passo ótimo\n",
    "    - iteracoes: número de iterações\n",
    "  \"\"\"\n",
    "  t = 1\n",
    "  iteracoes = 1\n",
    "  while substitui_variaveis_funcao(funcao, variaveis, ponto_inicial + t*d) > substitui_variaveis_funcao(funcao, variaveis, ponto_inicial) + eta*t*np.dot(substitui_variaveis_gradiente(gradiente, variaveis, ponto_inicial), d):\n",
    "    t = gama*t\n",
    "    iteracoes += 1\n",
    "\n",
    "  return t, iteracoes"
   ]
  },
  {
   "cell_type": "markdown",
   "metadata": {},
   "source": [
    "<h2>Método do Gradiente</h2>\n",
    "<img src=\"./img/alg_metodo_gradiente.png\" width=\"500\">\n"
   ]
  },
  {
   "cell_type": "code",
   "execution_count": 360,
   "metadata": {},
   "outputs": [],
   "source": [
    "def metodo_do_gradiente(\n",
    "    funcao: any,\n",
    "    gradiente: any,\n",
    "    variaveis: list,\n",
    "    ponto_inicial: np.array,\n",
    "    gama: float,\n",
    "    eta: float,\n",
    "    maximo_iteracoes: int = 1000,\n",
    "    valor_minimo: float = 1e-6):\n",
    "\n",
    "  \"\"\"\n",
    "  Parametros:\n",
    "    - funcao: função a ser minimizada\n",
    "    - gradiente: gradiente da função a ser minimizada\n",
    "    - variaveis: lista de variáveis da função\n",
    "    - ponto_inicial: ponto inicial\n",
    "    - gama: fator de redução do passo\n",
    "    - eta: fator de ???\n",
    "    - maximo_iteracoes: número máximo de iterações\n",
    "    - valor_minimo: valor mínimo da função para parar a execução\n",
    "\n",
    "  Retorna:\n",
    "    - ponto: ponto ótimo\n",
    "    - iteracoes: número de iterações\n",
    "    - iteracoes_armijo: número de iterações da busca de armijo\n",
    "  \"\"\"\n",
    "\n",
    "  iteracoes = 0\n",
    "  iteracoes_armijo = 0\n",
    "  ponto = ponto_inicial\n",
    "  while np.linalg.norm(substitui_variaveis_gradiente(gradiente, variaveis, ponto)) > valor_minimo:\n",
    "    d = -substitui_variaveis_gradiente(gradiente, variaveis, ponto)\n",
    "    t, iteracoes_armijo_tmp = busca_de_armijo(funcao, gradiente, variaveis, ponto, d, gama, eta)\n",
    "    iteracoes_armijo += iteracoes_armijo_tmp\n",
    "    ponto = ponto + t*d\n",
    "    if iteracoes > maximo_iteracoes:\n",
    "      print('Número máximo de iterações atingido')\n",
    "      break\n",
    "    iteracoes += 1\n",
    "\n",
    "  return ponto, iteracoes, iteracoes_armijo"
   ]
  },
  {
   "cell_type": "markdown",
   "metadata": {},
   "source": [
    "<h2>Método de Newton</h2>\n",
    "<img src=\"./img/alg_metodo_newton.png\" width=\"500\">"
   ]
  },
  {
   "cell_type": "code",
   "execution_count": 361,
   "metadata": {},
   "outputs": [],
   "source": [
    "def metodo_de_newton(\n",
    "    funcao: any,\n",
    "    gradiente: any,\n",
    "    hessiana: any,\n",
    "    variaveis: list,\n",
    "    ponto_inicial: np.array,\n",
    "    gama: float,\n",
    "    eta: float,\n",
    "    maximo_iteracoes: int = 1000,\n",
    "    valor_minimo: float = 1e-6):\n",
    "\n",
    "  \"\"\"\n",
    "  Parametros:\n",
    "    - funcao: função a ser minimizada\n",
    "    - gradiente: gradiente da função a ser minimizada\n",
    "    - hessiana: hessiana da função a ser minimizada\n",
    "    - variaveis: lista de variáveis da função\n",
    "    - ponto_inicial: ponto inicial\n",
    "    - gama: fator de redução do passo\n",
    "    - eta: fator de ???\n",
    "    - maximo_iteracoes: número máximo de iterações\n",
    "    - valor_minimo: valor mínimo da função para parar a execução\n",
    "\n",
    "  Retorna:\n",
    "    - ponto: ponto ótimo\n",
    "    - iteracoes: número de iterações\n",
    "    - iteracoes_armijo: número de iterações da busca de armijo\n",
    "  \"\"\"\n",
    "\n",
    "  iteracoes = 0\n",
    "  iteracoes_armijo = 0\n",
    "  ponto = ponto_inicial\n",
    "\n",
    "  while np.linalg.norm(substitui_variaveis_gradiente(gradiente, variaveis, ponto)) > valor_minimo:\n",
    "    d = -np.linalg.inv(substitui_variaveis_hessiana(hessiana, variaveis, ponto)) @ substitui_variaveis_gradiente(gradiente, variaveis, ponto)\n",
    "    t, iteracoes_armijo_tmp = busca_de_armijo(funcao, gradiente, variaveis, ponto, d, gama, eta)\n",
    "    iteracoes_armijo += iteracoes_armijo_tmp\n",
    "    ponto = ponto + t*d\n",
    "    if iteracoes > maximo_iteracoes:\n",
    "      print('Número máximo de iterações atingido')\n",
    "      break\n",
    "    iteracoes += 1\n",
    "\n",
    "  return ponto, iteracoes, iteracoes_armijo"
   ]
  },
  {
   "cell_type": "markdown",
   "metadata": {},
   "source": [
    "<h2>Método de Quase-Newton</h2>\n",
    "<img src=\"./img/alg_metodo_quase_newton.png\" width=\"500\">"
   ]
  },
  {
   "cell_type": "code",
   "execution_count": 362,
   "metadata": {},
   "outputs": [],
   "source": [
    "def metodo_de_quase_newton(\n",
    "    funcao: any,\n",
    "    n_variaveis: int,\n",
    "    gradiente: any,\n",
    "    variaveis: list,\n",
    "    ponto_inicial: np.array,\n",
    "    gama: float,\n",
    "    eta: float,\n",
    "    maximo_iteracoes: int = 1000,\n",
    "    valor_minimo: float = 1e-6,\n",
    "    metodo: str = 'dfp'\n",
    "    ):\n",
    "\n",
    "  \"\"\"\n",
    "  Parametros:\n",
    "    - funcao: função a ser minimizada\n",
    "    - gradiente: gradiente da função a ser minimizada\n",
    "    - hessiana: hessiana da função a ser minimizada\n",
    "    - variaveis: lista de variáveis da função\n",
    "    - ponto_inicial: ponto inicial\n",
    "    - gama: fator de redução do passo\n",
    "    - eta: fator de ???\n",
    "    - maximo_iteracoes: número máximo de iterações\n",
    "    - valor_minimo: valor mínimo da função para parar a execução\n",
    "    - metodo: método de atualização\n",
    "\n",
    "  Retorna:\n",
    "    - ponto: ponto ótimo\n",
    "    - iteracoes: número de iterações\n",
    "    - iteracoes_armijo: número de iterações da busca de armijo\n",
    "  \"\"\"\n",
    "\n",
    "  iteracoes = 0\n",
    "  iteracoes_armijo = 0\n",
    "  ponto = ponto_inicial\n",
    "  H = np.eye(n_variaveis)\n",
    "\n",
    "  while np.linalg.norm(substitui_variaveis_gradiente(gradiente, variaveis, ponto)) > valor_minimo:\n",
    "    d = -H @ substitui_variaveis_gradiente(gradiente, variaveis, ponto)\n",
    "    t, iteracoes_armijo_tmp = busca_de_armijo(funcao, gradiente, variaveis, ponto, d, gama, eta)\n",
    "    iteracoes_armijo += iteracoes_armijo_tmp\n",
    "\n",
    "    proximo_ponto = ponto + t*d\n",
    "    p = proximo_ponto - ponto\n",
    "    q = substitui_variaveis_gradiente(gradiente, variaveis, proximo_ponto) - substitui_variaveis_gradiente(gradiente, variaveis, ponto)\n",
    "    ponto = proximo_ponto\n",
    "\n",
    "    if iteracoes > maximo_iteracoes:\n",
    "      print('Número máximo de iterações atingido')\n",
    "      break\n",
    "    iteracoes += 1\n",
    "    H = calcula_dfp(H, p, q) if metodo == 'dfp' else calcula_bfgs(H, p, q)\n",
    "\n",
    "  return ponto, iteracoes, iteracoes_armijo"
   ]
  },
  {
   "cell_type": "code",
   "execution_count": null,
   "metadata": {},
   "outputs": [],
   "source": []
  },
  {
   "cell_type": "code",
   "execution_count": null,
   "metadata": {},
   "outputs": [],
   "source": []
  },
  {
   "cell_type": "code",
   "execution_count": null,
   "metadata": {},
   "outputs": [],
   "source": []
  },
  {
   "cell_type": "code",
   "execution_count": null,
   "metadata": {},
   "outputs": [],
   "source": []
  },
  {
   "cell_type": "code",
   "execution_count": null,
   "metadata": {},
   "outputs": [],
   "source": []
  },
  {
   "cell_type": "code",
   "execution_count": null,
   "metadata": {},
   "outputs": [],
   "source": []
  },
  {
   "cell_type": "code",
   "execution_count": 371,
   "metadata": {},
   "outputs": [
    {
     "name": "stdout",
     "output_type": "stream",
     "text": [
      "[x_1, x_2]\n",
      "(x_1 + x_2**2 - 7)**2 + (x_1**2 + x_2 - 11)**2\n",
      "[4*x_1*(x_1**2 + x_2 - 11) + 2*x_1 + 2*x_2**2 - 14, 2*x_1**2 + 4*x_2*(x_1 + x_2**2 - 7) + 2*x_2 - 22]\n",
      "Matrix([[12*x_1**2 + 4*x_2 - 42, 4*x_1 + 4*x_2], [4*x_1 + 4*x_2, 4*x_1 + 12*x_2**2 - 26]])\n"
     ]
    }
   ],
   "source": [
    "from sympy import symbols\n",
    "\n",
    "variaveis = list(symbols('x_1 x_2'))\n",
    "print(variaveis)\n",
    "x1, x2 = variaveis\n",
    "\n",
    "# Exemplo do slide\n",
    "#f_x = (1/2) * (x_1 - 2)**2 + (x_2 - 1)**2\n",
    "\n",
    "# Função 3 do trabalho\n",
    "f_x = (x_1**2 + x_2 - 11)**2 + (x_1 + x_2**2 - 7)**2\n",
    "f_x\n",
    "print(f_x)\n",
    "\n",
    "grad_f_x = calcula_gradiente(f_x, variaveis)\n",
    "print(grad_f_x)\n",
    "\n",
    "hess_f_x = calcula_hessiana(f_x, variaveis)\n",
    "print(hess_f_x)\n"
   ]
  },
  {
   "cell_type": "code",
   "execution_count": 384,
   "metadata": {},
   "outputs": [
    {
     "data": {
      "text/plain": [
       "(4.3980465111040014e-16, 15)"
      ]
     },
     "execution_count": 384,
     "metadata": {},
     "output_type": "execute_result"
    }
   ],
   "source": [
    "ponto_inicial = np.array([5, 5])\n",
    "d = np.array([1, 1])\n",
    "eta = 0.02\n",
    "gama = 0.08\n",
    "\n",
    "passo_otimo, n_iteracoes = busca_de_armijo(f_x, grad_f_x, variaveis, ponto_inicial, d, gama, eta)\n",
    "passo_otimo, n_iteracoes"
   ]
  },
  {
   "cell_type": "code",
   "execution_count": 385,
   "metadata": {},
   "outputs": [
    {
     "data": {
      "text/plain": [
       "(array([2.99999999, 2.00000003]), 87, 261)"
      ]
     },
     "execution_count": 385,
     "metadata": {},
     "output_type": "execute_result"
    }
   ],
   "source": [
    "metodo_do_gradiente(f_x, grad_f_x, variaveis, ponto_inicial, gama, eta)"
   ]
  },
  {
   "cell_type": "code",
   "execution_count": 386,
   "metadata": {},
   "outputs": [
    {
     "data": {
      "text/plain": [
       "(array([3., 2.]), 7, 7)"
      ]
     },
     "execution_count": 386,
     "metadata": {},
     "output_type": "execute_result"
    }
   ],
   "source": [
    "metodo_de_newton(f_x, grad_f_x, hess_f_x, variaveis, ponto_inicial, gama, eta)"
   ]
  },
  {
   "cell_type": "code",
   "execution_count": 387,
   "metadata": {},
   "outputs": [
    {
     "data": {
      "text/plain": [
       "(array([3., 2.]), 12, 16)"
      ]
     },
     "execution_count": 387,
     "metadata": {},
     "output_type": "execute_result"
    }
   ],
   "source": [
    "metodo_de_quase_newton(f_x, n_variaveis, grad_f_x, variaveis, ponto_inicial, gama, eta, metodo='bfgs')"
   ]
  }
 ],
 "metadata": {
  "kernelspec": {
   "display_name": ".venv",
   "language": "python",
   "name": "python3"
  },
  "language_info": {
   "codemirror_mode": {
    "name": "ipython",
    "version": 3
   },
   "file_extension": ".py",
   "mimetype": "text/x-python",
   "name": "python",
   "nbconvert_exporter": "python",
   "pygments_lexer": "ipython3",
   "version": "3.9.6"
  }
 },
 "nbformat": 4,
 "nbformat_minor": 2
}
