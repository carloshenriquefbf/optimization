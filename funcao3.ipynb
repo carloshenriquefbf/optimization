{
 "cells": [
  {
   "cell_type": "code",
   "execution_count": 1,
   "metadata": {},
   "outputs": [],
   "source": [
    "from sympy import Symbol, diff\n",
    "import numpy as np "
   ]
  },
  {
   "cell_type": "code",
   "execution_count": 2,
   "metadata": {},
   "outputs": [
    {
     "data": {
      "text/latex": [
       "$\\displaystyle \\left(x_{1} + x_{2}^{2} - 7\\right)^{2} + \\left(x_{1}^{2} + x_{2} - 11\\right)^{2}$"
      ],
      "text/plain": [
       "(x_1 + x_2**2 - 7)**2 + (x_1**2 + x_2 - 11)**2"
      ]
     },
     "execution_count": 2,
     "metadata": {},
     "output_type": "execute_result"
    }
   ],
   "source": [
    "n_variaveis = 2\n",
    "\n",
    "x_1 = Symbol('x_1')\n",
    "x_2 = Symbol('x_2')\n",
    "\n",
    "funcao = (x_1**2 + x_2 - 11)**2 + (x_1 + x_2**2 - 7)**2\n",
    "funcao"
   ]
  },
  {
   "cell_type": "code",
   "execution_count": 3,
   "metadata": {},
   "outputs": [],
   "source": [
    "def calcula_gradiente(funcao, variaveis):\n",
    "    return [diff(funcao, variavel) for variavel in variaveis]"
   ]
  },
  {
   "cell_type": "code",
   "execution_count": 4,
   "metadata": {},
   "outputs": [
    {
     "data": {
      "text/plain": [
       "[4*x_1*(x_1**2 + x_2 - 11) + 2*x_1 + 2*x_2**2 - 14,\n",
       " 2*x_1**2 + 4*x_2*(x_1 + x_2**2 - 7) + 2*x_2 - 22]"
      ]
     },
     "execution_count": 4,
     "metadata": {},
     "output_type": "execute_result"
    }
   ],
   "source": [
    "gradiente = calcula_gradiente(funcao, [x_1, x_2])\n",
    "gradiente"
   ]
  },
  {
   "cell_type": "code",
   "execution_count": 5,
   "metadata": {},
   "outputs": [],
   "source": [
    "def substitui_variaveis_funcao(funcao, variaveis, ponto):\n",
    "    return funcao.subs(dict(zip(variaveis, ponto)))\n",
    "\n",
    "def substitui_variaveis_gradiente(gradiente, variaveis, ponto):\n",
    "    return np.array([gradiente_i.subs(dict(zip(variaveis, ponto))) for gradiente_i in gradiente])"
   ]
  },
  {
   "cell_type": "markdown",
   "metadata": {},
   "source": [
    "![Armijo's Rule](./img/alg_busca_armijo.png)"
   ]
  },
  {
   "cell_type": "code",
   "execution_count": 39,
   "metadata": {},
   "outputs": [],
   "source": [
    "def busca_de_armijo(funcao: any, gradiente: any, variaveis: list, ponto: np.array, d: np.array, gama: float, eta: float):\n",
    "  \"\"\"\n",
    "  Parametros:\n",
    "    - funcao: função a ser minimizada\n",
    "    - gradiente: gradiente da função a ser minimizada\n",
    "    - variaveis: lista de variáveis da função\n",
    "    - ponto: ponto inicial\n",
    "    - d: direção de descida\n",
    "    - gama: fator de redução do passo\n",
    "    - eta: fator de ???\n",
    "  \n",
    "  Retorna:\n",
    "    - t: passo ótimo\n",
    "    - iteracoes: número de iterações\n",
    "  \"\"\"\n",
    "  t = 1\n",
    "  iteracoes = 0\n",
    "  while substitui_variaveis_funcao(funcao, variaveis, ponto + t*d) > substitui_variaveis_funcao(funcao, variaveis, ponto) + eta*t*np.dot(substitui_variaveis_gradiente(gradiente, variaveis, ponto), d):\n",
    "    t = gama*t\n",
    "    iteracoes += 1\n",
    "\n",
    "  return t, iteracoes"
   ]
  },
  {
   "cell_type": "code",
   "execution_count": null,
   "metadata": {},
   "outputs": [],
   "source": []
  },
  {
   "cell_type": "code",
   "execution_count": null,
   "metadata": {},
   "outputs": [],
   "source": []
  },
  {
   "cell_type": "code",
   "execution_count": null,
   "metadata": {},
   "outputs": [],
   "source": []
  },
  {
   "cell_type": "code",
   "execution_count": null,
   "metadata": {},
   "outputs": [],
   "source": []
  },
  {
   "cell_type": "code",
   "execution_count": null,
   "metadata": {},
   "outputs": [],
   "source": []
  },
  {
   "cell_type": "code",
   "execution_count": null,
   "metadata": {},
   "outputs": [],
   "source": []
  },
  {
   "cell_type": "code",
   "execution_count": null,
   "metadata": {},
   "outputs": [],
   "source": []
  },
  {
   "cell_type": "code",
   "execution_count": null,
   "metadata": {},
   "outputs": [],
   "source": []
  },
  {
   "cell_type": "code",
   "execution_count": 42,
   "metadata": {},
   "outputs": [
    {
     "name": "stdout",
     "output_type": "stream",
     "text": [
      "0.5*(x1 - 2)**2 + (x2 - 1)**2\n",
      "[1.0*x1 - 2.0, 2*x2 - 2]\n"
     ]
    }
   ],
   "source": [
    "from sympy import symbols\n",
    "\n",
    "# Define the variables x1 and x2\n",
    "x1, x2 = symbols('x1 x2')\n",
    "\n",
    "# Define the function\n",
    "f_x = (1/2) * (x1 - 2)**2 + (x2 - 1)**2\n",
    "f_x\n",
    "print(f_x)\n",
    "# Define the gradient\n",
    "grad_f_x = [f_x.diff(x1), f_x.diff(x2)]\n",
    "print(grad_f_x)\n",
    "\n"
   ]
  },
  {
   "cell_type": "code",
   "execution_count": 46,
   "metadata": {},
   "outputs": [
    {
     "name": "stdout",
     "output_type": "stream",
     "text": [
      "[x1, x2]\n",
      "0.5*(x1 - 2)**2 + (x2 - 1)**2\n",
      "[1.0*x1 - 2.0, 2*x2 - 2]\n"
     ]
    }
   ],
   "source": [
    "from sympy import symbols\n",
    "\n",
    "# Define the variables x1 and x2\n",
    "variaveis = list(symbols('x1 x2'))\n",
    "print(variaveis)\n",
    "x1, x2 = variaveis\n",
    "\n",
    "# Define the function\n",
    "f_x = (1/2) * (x1 - 2)**2 + (x2 - 1)**2\n",
    "f_x\n",
    "print(f_x)\n",
    "\n",
    "# Define the gradient\n",
    "grad_f_x = calcula_gradiente(f_x, variaveis)\n",
    "print(grad_f_x)\n",
    "\n"
   ]
  },
  {
   "cell_type": "code",
   "execution_count": 48,
   "metadata": {},
   "outputs": [],
   "source": [
    "ponto_inicial = np.array([1, 0])\n",
    "d = np.array([3, 1])\n",
    "eta = 0.25\n",
    "gama = 0.8\n",
    "\n",
    "passo_otimo, n_iteracoes = busca_de_armijo(f_x, grad_f_x, variaveis, ponto_inicial, d, gama, eta)"
   ]
  }
 ],
 "metadata": {
  "kernelspec": {
   "display_name": ".venv",
   "language": "python",
   "name": "python3"
  },
  "language_info": {
   "codemirror_mode": {
    "name": "ipython",
    "version": 3
   },
   "file_extension": ".py",
   "mimetype": "text/x-python",
   "name": "python",
   "nbconvert_exporter": "python",
   "pygments_lexer": "ipython3",
   "version": "3.12.4"
  }
 },
 "nbformat": 4,
 "nbformat_minor": 2
}
