{
 "cells": [
  {
   "cell_type": "code",
   "execution_count": null,
   "metadata": {},
   "outputs": [],
   "source": [
    "%load_ext autoreload\n",
    "%autoreload 2\n",
    "\n",
    "import warnings\n",
    "warnings.filterwarnings('ignore')"
   ]
  },
  {
   "cell_type": "markdown",
   "metadata": {},
   "source": [
    "# Função 3"
   ]
  },
  {
   "cell_type": "code",
   "execution_count": null,
   "metadata": {},
   "outputs": [],
   "source": [
    "from sympy import symbols\n",
    "\n",
    "variaveis = list(symbols('x_1 x_2'))\n",
    "\n",
    "print(\"Variáveis da função 3:\")\n",
    "display(variaveis)"
   ]
  },
  {
   "cell_type": "code",
   "execution_count": null,
   "metadata": {},
   "outputs": [],
   "source": [
    "x_1, x_2 = variaveis\n",
    "\n",
    "f_x = (x_1**2 + x_2 - 11)**2 + (x_1 + x_2**2 - 7)**2\n",
    "\n",
    "print(\"Função 3:\")\n",
    "display(f_x)"
   ]
  },
  {
   "cell_type": "code",
   "execution_count": null,
   "metadata": {},
   "outputs": [],
   "source": [
    "from algoritmos import calcula_gradiente\n",
    "\n",
    "grad_f_x = calcula_gradiente(f_x, variaveis)\n",
    "\n",
    "print(\"Vetor gradiente da função 3:\")\n",
    "display(grad_f_x)"
   ]
  },
  {
   "cell_type": "code",
   "execution_count": null,
   "metadata": {},
   "outputs": [],
   "source": [
    "from algoritmos import calcula_hessiana\n",
    "\n",
    "hess_f_x = calcula_hessiana(f_x, variaveis)\n",
    "\n",
    "print(\"Matriz Hessiana da função 3:\")\n",
    "display(hess_f_x)"
   ]
  },
  {
   "cell_type": "code",
   "execution_count": null,
   "metadata": {},
   "outputs": [],
   "source": [
    "# TODO: Estudo da função: pontos críticos, convexidade, existência de ponto(s) ótimo(s), além de plotar sua função, etc."
   ]
  },
  {
   "cell_type": "code",
   "execution_count": null,
   "metadata": {},
   "outputs": [],
   "source": [
    "# TODO: Achar os melhores valores de gama e eta"
   ]
  },
  {
   "cell_type": "code",
   "execution_count": null,
   "metadata": {},
   "outputs": [],
   "source": [
    "import numpy as np\n",
    "import pandas as pd\n",
    "\n",
    "colunas = ['Ponto inicial', '# de iteracoes', '# de cham. de armijo', 'Ponto otimo', 'Valor otimo', 'Erro de aproximação']\n",
    "\n",
    "pontos = [\n",
    "  np.array([2.9, 2.1]), \n",
    "  np.array([-3.1, -1.9]), \n",
    "  # np.array([30, 20]), \n",
    "  np.array([4, -2]), \n",
    "  np.array([-3, 1]), \n",
    "  np.array([2.5, 1.5]), \n",
    "  np.array([-3.5, 2.5]), \n",
    "  # np.array([0, 0]), \n",
    "  np.array([5, 5]), \n",
    "  np.array([3.9, -0.9])\n",
    "  ]\n",
    "\n",
    "eta = 0.02\n",
    "gama = 0.08\n",
    "\n",
    "df_base = pd.DataFrame(columns=colunas)\n",
    "\n",
    "print(\"Gama:\", gama)\n",
    "print(\"Eta:\", eta)\n",
    "\n",
    "print(\"Pontos a serem testados:\")\n",
    "display(pontos)"
   ]
  },
  {
   "cell_type": "markdown",
   "metadata": {},
   "source": [
    "### Gradiente"
   ]
  },
  {
   "cell_type": "code",
   "execution_count": null,
   "metadata": {},
   "outputs": [],
   "source": [
    "from algoritmos import metodo_do_gradiente\n",
    "from utils import substitui_variaveis_funcao, substitui_variaveis_gradiente\n",
    "\n",
    "df_gradiente = df_base.copy()\n",
    "\n",
    "for ponto in pontos:\n",
    "    ponto_otimo, n_iteracoes, n_iteracoes_armijo = metodo_do_gradiente(f_x, grad_f_x, variaveis, ponto, gama, eta)\n",
    "    valor_otimo = substitui_variaveis_funcao(f_x, variaveis, ponto_otimo)\n",
    "    erro_aproximacao = np.linalg.norm(substitui_variaveis_gradiente(grad_f_x, variaveis, ponto_otimo))\n",
    "    df_gradiente = pd.concat([df_gradiente, pd.DataFrame([[ponto, n_iteracoes, n_iteracoes_armijo, ponto_otimo, valor_otimo, erro_aproximacao]], columns=colunas)])\n",
    "\n",
    "df_gradiente"
   ]
  },
  {
   "cell_type": "markdown",
   "metadata": {},
   "source": [
    "### Newton"
   ]
  },
  {
   "cell_type": "code",
   "execution_count": null,
   "metadata": {},
   "outputs": [],
   "source": [
    "from algoritmos import metodo_de_newton\n",
    "\n",
    "df_newton = df_base.copy()\n",
    "\n",
    "for ponto in pontos:\n",
    "    ponto_otimo, n_iteracoes, n_iteracoes_armijo = metodo_de_newton(f_x, grad_f_x, hess_f_x, variaveis, ponto, gama, eta)\n",
    "    valor_otimo = substitui_variaveis_funcao(f_x, variaveis, ponto_otimo)\n",
    "    erro_aproximacao = np.linalg.norm(substitui_variaveis_gradiente(grad_f_x, variaveis, ponto_otimo))\n",
    "    df_newton = pd.concat([df_newton, pd.DataFrame([[ponto, n_iteracoes, n_iteracoes_armijo, ponto_otimo, valor_otimo, erro_aproximacao]], columns=colunas)])\n",
    "\n",
    "display(df_newton)"
   ]
  },
  {
   "cell_type": "markdown",
   "metadata": {},
   "source": [
    "### Quase-Newton"
   ]
  },
  {
   "cell_type": "code",
   "execution_count": null,
   "metadata": {},
   "outputs": [],
   "source": [
    "from algoritmos import metodo_de_quase_newton\n",
    "\n",
    "df_quase_newton = df_base.copy()\n",
    "\n",
    "for metodo in ['bfgs', 'dfp']:\n",
    "    for ponto in pontos:\n",
    "        ponto_otimo, n_iteracoes, n_iteracoes_armijo = metodo_de_quase_newton(f_x, len(variaveis), grad_f_x, variaveis, ponto, gama, eta, metodo=metodo)\n",
    "        valor_otimo = substitui_variaveis_funcao(f_x, variaveis, ponto_otimo)\n",
    "        erro_aproximacao = np.linalg.norm(substitui_variaveis_gradiente(grad_f_x, variaveis, ponto_otimo))\n",
    "        df_quase_newton = pd.concat([df_quase_newton, pd.DataFrame([[ponto, n_iteracoes, n_iteracoes_armijo, ponto_otimo, valor_otimo, erro_aproximacao]], columns=colunas)])\n",
    "\n",
    "display(df_quase_newton)"
   ]
  },
  {
   "cell_type": "code",
   "execution_count": null,
   "metadata": {},
   "outputs": [],
   "source": [
    "np.nan_to_num(np.array([np.nan, -np.inf]))"
   ]
  }
 ],
 "metadata": {
  "kernelspec": {
   "display_name": ".venv",
   "language": "python",
   "name": "python3"
  },
  "language_info": {
   "codemirror_mode": {
    "name": "ipython",
    "version": 3
   },
   "file_extension": ".py",
   "mimetype": "text/x-python",
   "name": "python",
   "nbconvert_exporter": "python",
   "pygments_lexer": "ipython3",
   "version": "3.12.7"
  }
 },
 "nbformat": 4,
 "nbformat_minor": 2
}
