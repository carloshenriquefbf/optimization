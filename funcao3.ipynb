{
 "cells": [
  {
   "cell_type": "code",
   "execution_count": 239,
   "metadata": {},
   "outputs": [
    {
     "name": "stdout",
     "output_type": "stream",
     "text": [
      "Defaulting to user installation because normal site-packages is not writeable\n",
      "Requirement already satisfied: sympy in /Users/carlos/Library/Python/3.9/lib/python/site-packages (1.13.3)\n",
      "Requirement already satisfied: mpmath<1.4,>=1.1.0 in /Users/carlos/Library/Python/3.9/lib/python/site-packages (from sympy) (1.3.0)\n",
      "\u001b[33mWARNING: You are using pip version 21.2.4; however, version 24.3.1 is available.\n",
      "You should consider upgrading via the '/Library/Developer/CommandLineTools/usr/bin/python3 -m pip install --upgrade pip' command.\u001b[0m\n"
     ]
    }
   ],
   "source": [
    "!pip3 install sympy\n",
    "from sympy import Symbol, diff, hessian\n",
    "import numpy as np"
   ]
  },
  {
   "cell_type": "code",
   "execution_count": 240,
   "metadata": {},
   "outputs": [
    {
     "data": {
      "text/latex": [
       "$\\displaystyle \\left(x_{1} + x_{2}^{2} - 7\\right)^{2} + \\left(x_{1}^{2} + x_{2} - 11\\right)^{2}$"
      ],
      "text/plain": [
       "(x_1 + x_2**2 - 7)**2 + (x_1**2 + x_2 - 11)**2"
      ]
     },
     "execution_count": 240,
     "metadata": {},
     "output_type": "execute_result"
    }
   ],
   "source": [
    "n_variaveis = 2\n",
    "\n",
    "x_1 = Symbol('x_1')\n",
    "x_2 = Symbol('x_2')\n",
    "\n",
    "funcao = (x_1**2 + x_2 - 11)**2 + (x_1 + x_2**2 - 7)**2\n",
    "funcao"
   ]
  },
  {
   "cell_type": "code",
   "execution_count": 241,
   "metadata": {},
   "outputs": [],
   "source": [
    "def calcula_gradiente(funcao, variaveis):\n",
    "    return [diff(funcao, variavel) for variavel in variaveis]\n",
    "\n",
    "def calcula_hessiana(funcao, variaveis):\n",
    "  return hessian(funcao, variaveis)"
   ]
  },
  {
   "cell_type": "code",
   "execution_count": 242,
   "metadata": {},
   "outputs": [
    {
     "data": {
      "text/plain": [
       "[4*x_1*(x_1**2 + x_2 - 11) + 2*x_1 + 2*x_2**2 - 14,\n",
       " 2*x_1**2 + 4*x_2*(x_1 + x_2**2 - 7) + 2*x_2 - 22]"
      ]
     },
     "execution_count": 242,
     "metadata": {},
     "output_type": "execute_result"
    }
   ],
   "source": [
    "gradiente = calcula_gradiente(funcao, [x_1, x_2])\n",
    "gradiente"
   ]
  },
  {
   "cell_type": "code",
   "execution_count": 243,
   "metadata": {},
   "outputs": [
    {
     "data": {
      "text/latex": [
       "$\\displaystyle \\left[\\begin{matrix}12 x_{1}^{2} + 4 x_{2} - 42 & 4 x_{1} + 4 x_{2}\\\\4 x_{1} + 4 x_{2} & 4 x_{1} + 12 x_{2}^{2} - 26\\end{matrix}\\right]$"
      ],
      "text/plain": [
       "Matrix([\n",
       "[12*x_1**2 + 4*x_2 - 42,          4*x_1 + 4*x_2],\n",
       "[         4*x_1 + 4*x_2, 4*x_1 + 12*x_2**2 - 26]])"
      ]
     },
     "execution_count": 243,
     "metadata": {},
     "output_type": "execute_result"
    }
   ],
   "source": [
    "hessiana = calcula_hessiana(funcao, [x_1, x_2])\n",
    "hessiana"
   ]
  },
  {
   "cell_type": "code",
   "execution_count": 244,
   "metadata": {},
   "outputs": [],
   "source": [
    "def substitui_variaveis_funcao(funcao, variaveis, ponto):\n",
    "    return funcao.subs(dict(zip(variaveis, ponto)))\n",
    "\n",
    "def substitui_variaveis_gradiente(gradiente, variaveis, ponto):\n",
    "    return np.array([gradiente_i.subs(dict(zip(variaveis, ponto))) for gradiente_i in gradiente]).astype(np.float64)\n",
    "\n",
    "def substitui_variaveis_hessiana(hessiana, variaveis, ponto):\n",
    "    return np.array(hessiana.subs(dict(zip(variaveis, ponto)))).astype(np.float64)"
   ]
  },
  {
   "cell_type": "code",
   "execution_count": 245,
   "metadata": {},
   "outputs": [],
   "source": [
    "def calcula_bfgs(H, p, q):\n",
    "    termo_2_1 = (1 + (((q.T @ H) @ q) / (p.T @ q)))\n",
    "    termo_2_2 = (p @ p.T) / (p.T @ q)\n",
    "    termo_2 = termo_2_1 * termo_2_2\n",
    "    termo_3 = ((p @ (q.T @ H)) + ((H @ q) @ p.T)) / (p.T @ q)\n",
    "    return H + termo_2 - termo_3"
   ]
  },
  {
   "cell_type": "code",
   "execution_count": 246,
   "metadata": {},
   "outputs": [],
   "source": [
    "def calcula_dfp(H, p, q):\n",
    "    termo_2 = (p.T @ p) / (p.T @ q)\n",
    "    termo_3 = ((H @ q) @ (q.T @ H)) / ((q.T @ H) @ q)\n",
    "    return H + termo_2 - termo_3"
   ]
  },
  {
   "cell_type": "markdown",
   "metadata": {},
   "source": [
    "![Armijo's Rule](./img/alg_busca_armijo.png)"
   ]
  },
  {
   "cell_type": "code",
   "execution_count": 247,
   "metadata": {},
   "outputs": [],
   "source": [
    "def busca_de_armijo(funcao: any, gradiente: any, variaveis: list, ponto_inicial: np.array, d: np.array, gama: float, eta: float):\n",
    "  \"\"\"\n",
    "  Parametros:\n",
    "    - funcao: função a ser minimizada\n",
    "    - gradiente: gradiente da função a ser minimizada\n",
    "    - variaveis: lista de variáveis da função\n",
    "    - ponto_inicial: ponto inicial\n",
    "    - d: direção de descida\n",
    "    - gama: fator de redução do passo\n",
    "    - eta: fator de ???\n",
    "\n",
    "  Retorna:\n",
    "    - t: passo ótimo\n",
    "    - iteracoes: número de iterações\n",
    "  \"\"\"\n",
    "  t = 1\n",
    "  iteracoes = 1\n",
    "  while substitui_variaveis_funcao(funcao, variaveis, ponto_inicial + t*d) > substitui_variaveis_funcao(funcao, variaveis, ponto_inicial) + eta*t*np.dot(substitui_variaveis_gradiente(gradiente, variaveis, ponto_inicial), d):\n",
    "    t = gama*t\n",
    "    iteracoes += 1\n",
    "\n",
    "  return t, iteracoes"
   ]
  },
  {
   "cell_type": "markdown",
   "metadata": {},
   "source": [
    "<h2>Método do Gradiente</h2>\n",
    "<img src=\"./img/alg_metodo_gradiente.png\" width=\"500\">\n"
   ]
  },
  {
   "cell_type": "code",
   "execution_count": 248,
   "metadata": {},
   "outputs": [],
   "source": [
    "def metodo_do_gradiente(\n",
    "    funcao: any,\n",
    "    gradiente: any,\n",
    "    variaveis: list,\n",
    "    ponto_inicial: np.array,\n",
    "    gama: float,\n",
    "    eta: float,\n",
    "    maximo_iteracoes: int = 1000,\n",
    "    valor_minimo: float = 1e-20):\n",
    "\n",
    "  \"\"\"\n",
    "  Parametros:\n",
    "    - funcao: função a ser minimizada\n",
    "    - gradiente: gradiente da função a ser minimizada\n",
    "    - variaveis: lista de variáveis da função\n",
    "    - ponto_inicial: ponto inicial\n",
    "    - gama: fator de redução do passo\n",
    "    - eta: fator de ???\n",
    "    - maximo_iteracoes: número máximo de iterações\n",
    "    - valor_minimo: valor mínimo da função para parar a execução\n",
    "\n",
    "  Retorna:\n",
    "    - ponto: ponto ótimo\n",
    "    - iteracoes: número de iterações\n",
    "    - iteracoes_armijo: número de iterações da busca de armijo\n",
    "  \"\"\"\n",
    "\n",
    "  iteracoes = 0\n",
    "  iteracoes_armijo = 0\n",
    "  ponto = ponto_inicial\n",
    "  while np.linalg.norm(substitui_variaveis_gradiente(gradiente, variaveis, ponto)) > valor_minimo:\n",
    "    d = -substitui_variaveis_gradiente(gradiente, variaveis, ponto)\n",
    "    t, iteracoes_armijo_tmp = busca_de_armijo(funcao, gradiente, variaveis, ponto, d, gama, eta)\n",
    "    iteracoes_armijo += iteracoes_armijo_tmp\n",
    "    ponto = ponto + t*d\n",
    "    if iteracoes > maximo_iteracoes:\n",
    "      print('Número máximo de iterações atingido')\n",
    "      break\n",
    "    iteracoes += 1\n",
    "\n",
    "  return ponto, iteracoes, iteracoes_armijo"
   ]
  },
  {
   "cell_type": "markdown",
   "metadata": {},
   "source": [
    "<h2>Método de Newton</h2>\n",
    "<img src=\"./img/alg_metodo_newton.png\" width=\"500\">"
   ]
  },
  {
   "cell_type": "code",
   "execution_count": 249,
   "metadata": {},
   "outputs": [],
   "source": [
    "def metodo_de_newton(\n",
    "    funcao: any,\n",
    "    gradiente: any,\n",
    "    hessiana: any,\n",
    "    variaveis: list,\n",
    "    ponto_inicial: np.array,\n",
    "    gama: float,\n",
    "    eta: float,\n",
    "    maximo_iteracoes: int = 1000,\n",
    "    valor_minimo: float = 1e-20):\n",
    "\n",
    "  \"\"\"\n",
    "  Parametros:\n",
    "    - funcao: função a ser minimizada\n",
    "    - gradiente: gradiente da função a ser minimizada\n",
    "    - hessiana: hessiana da função a ser minimizada\n",
    "    - variaveis: lista de variáveis da função\n",
    "    - ponto_inicial: ponto inicial\n",
    "    - gama: fator de redução do passo\n",
    "    - eta: fator de ???\n",
    "    - maximo_iteracoes: número máximo de iterações\n",
    "    - valor_minimo: valor mínimo da função para parar a execução\n",
    "\n",
    "  Retorna:\n",
    "    - ponto: ponto ótimo\n",
    "    - iteracoes: número de iterações\n",
    "    - iteracoes_armijo: número de iterações da busca de armijo\n",
    "  \"\"\"\n",
    "\n",
    "  iteracoes = 0\n",
    "  iteracoes_armijo = 0\n",
    "  ponto = ponto_inicial\n",
    "\n",
    "  while np.linalg.norm(substitui_variaveis_gradiente(gradiente, variaveis, ponto)) > valor_minimo:\n",
    "    d = -np.linalg.inv(substitui_variaveis_hessiana(hessiana, variaveis, ponto)) @ substitui_variaveis_gradiente(gradiente, variaveis, ponto)\n",
    "    t, iteracoes_armijo_tmp = busca_de_armijo(funcao, gradiente, variaveis, ponto, d, gama, eta)\n",
    "    iteracoes_armijo += iteracoes_armijo_tmp\n",
    "    ponto = ponto + t*d\n",
    "    if iteracoes > maximo_iteracoes:\n",
    "      print('Número máximo de iterações atingido')\n",
    "      break\n",
    "    iteracoes += 1\n",
    "\n",
    "  return ponto, iteracoes, iteracoes_armijo"
   ]
  },
  {
   "cell_type": "markdown",
   "metadata": {},
   "source": [
    "<h2>Método de Quase-Newton</h2>\n",
    "<img src=\"./img/alg_metodo_quase_newton.png\" width=\"500\">"
   ]
  },
  {
   "cell_type": "code",
   "execution_count": 250,
   "metadata": {},
   "outputs": [],
   "source": [
    "def metodo_de_quase_newton(\n",
    "    funcao: any,\n",
    "    n_variaveis: int,\n",
    "    gradiente: any,\n",
    "    variaveis: list,\n",
    "    ponto_inicial: np.array,\n",
    "    gama: float,\n",
    "    eta: float,\n",
    "    maximo_iteracoes: int = 1000,\n",
    "    valor_minimo: float = 1e-20,\n",
    "    metodo: str = 'dfp'\n",
    "    ):\n",
    "\n",
    "  \"\"\"\n",
    "  Parametros:\n",
    "    - funcao: função a ser minimizada\n",
    "    - gradiente: gradiente da função a ser minimizada\n",
    "    - hessiana: hessiana da função a ser minimizada\n",
    "    - variaveis: lista de variáveis da função\n",
    "    - ponto_inicial: ponto inicial\n",
    "    - gama: fator de redução do passo\n",
    "    - eta: fator de ???\n",
    "    - maximo_iteracoes: número máximo de iterações\n",
    "    - valor_minimo: valor mínimo da função para parar a execução\n",
    "    - metodo: método de atualização\n",
    "\n",
    "  Retorna:\n",
    "    - ponto: ponto ótimo\n",
    "    - iteracoes: número de iterações\n",
    "    - iteracoes_armijo: número de iterações da busca de armijo\n",
    "  \"\"\"\n",
    "\n",
    "  iteracoes = 0\n",
    "  iteracoes_armijo = 0\n",
    "  ponto = ponto_inicial\n",
    "  H = np.eye(n_variaveis)\n",
    "\n",
    "  while np.linalg.norm(substitui_variaveis_gradiente(gradiente, variaveis, ponto)) > valor_minimo:\n",
    "    d = -H @ substitui_variaveis_gradiente(gradiente, variaveis, ponto)\n",
    "    print(d)\n",
    "    t, iteracoes_armijo_tmp = busca_de_armijo(funcao, gradiente, variaveis, ponto, d, gama, eta)\n",
    "    iteracoes_armijo += iteracoes_armijo_tmp\n",
    "\n",
    "    proximo_ponto = ponto + t*d\n",
    "    p = proximo_ponto - ponto\n",
    "    q = substitui_variaveis_gradiente(gradiente, variaveis, proximo_ponto) - substitui_variaveis_gradiente(gradiente, variaveis, ponto)\n",
    "    ponto = proximo_ponto\n",
    "\n",
    "    if iteracoes > maximo_iteracoes:\n",
    "      print('Número máximo de iterações atingido')\n",
    "      break\n",
    "    iteracoes += 1\n",
    "    H = calcula_dfp(H, p, q) if metodo == 'dfp' else calcula_bfgs(H, p, q)\n",
    "\n",
    "  return ponto, iteracoes, iteracoes_armijo"
   ]
  },
  {
   "cell_type": "markdown",
   "metadata": {},
   "source": []
  },
  {
   "cell_type": "markdown",
   "metadata": {},
   "source": []
  },
  {
   "cell_type": "code",
   "execution_count": null,
   "metadata": {},
   "outputs": [],
   "source": []
  },
  {
   "cell_type": "code",
   "execution_count": null,
   "metadata": {},
   "outputs": [],
   "source": []
  },
  {
   "cell_type": "code",
   "execution_count": null,
   "metadata": {},
   "outputs": [],
   "source": []
  },
  {
   "cell_type": "code",
   "execution_count": null,
   "metadata": {},
   "outputs": [],
   "source": []
  },
  {
   "cell_type": "code",
   "execution_count": null,
   "metadata": {},
   "outputs": [],
   "source": []
  },
  {
   "cell_type": "code",
   "execution_count": 251,
   "metadata": {},
   "outputs": [
    {
     "name": "stdout",
     "output_type": "stream",
     "text": [
      "0.5*(x1 - 2)**2 + (x2 - 1)**2\n",
      "[1.0*x1 - 2.0, 2*x2 - 2]\n"
     ]
    }
   ],
   "source": [
    "from sympy import symbols\n",
    "\n",
    "# Define the variables x1 and x2\n",
    "x1, x2 = symbols('x1 x2')\n",
    "\n",
    "# Define the function\n",
    "f_x = (1/2) * (x1 - 2)**2 + (x2 - 1)**2\n",
    "f_x\n",
    "print(f_x)\n",
    "# Define the gradient\n",
    "grad_f_x = [f_x.diff(x1), f_x.diff(x2)]\n",
    "print(grad_f_x)\n",
    "\n"
   ]
  },
  {
   "cell_type": "code",
   "execution_count": 252,
   "metadata": {},
   "outputs": [
    {
     "name": "stdout",
     "output_type": "stream",
     "text": [
      "[x1, x2]\n",
      "0.5*(x1 - 2)**2 + (x2 - 1)**2\n",
      "[1.0*x1 - 2.0, 2*x2 - 2]\n",
      "Matrix([[1.00000000000000, 0], [0, 2]])\n"
     ]
    }
   ],
   "source": [
    "from sympy import symbols\n",
    "\n",
    "# Define the variables x1 and x2\n",
    "variaveis = list(symbols('x1 x2'))\n",
    "print(variaveis)\n",
    "x1, x2 = variaveis\n",
    "\n",
    "# Define the function\n",
    "f_x = (1/2) * (x1 - 2)**2 + (x2 - 1)**2\n",
    "f_x\n",
    "print(f_x)\n",
    "\n",
    "# Define the gradient\n",
    "grad_f_x = calcula_gradiente(f_x, variaveis)\n",
    "print(grad_f_x)\n",
    "\n",
    "# Define the hessian\n",
    "hess_f_x = calcula_hessiana(f_x, variaveis)\n",
    "print(hess_f_x)\n"
   ]
  },
  {
   "cell_type": "code",
   "execution_count": 271,
   "metadata": {},
   "outputs": [
    {
     "data": {
      "text/plain": [
       "(3.518437208883201e-17, 16)"
      ]
     },
     "execution_count": 271,
     "metadata": {},
     "output_type": "execute_result"
    }
   ],
   "source": [
    "ponto_inicial = np.array([2.01, 1.01])\n",
    "d = np.array([3, 1])\n",
    "eta = 0.02\n",
    "gama = 0.08\n",
    "hessiana = calcula_hessiana(f_x, variaveis)\n",
    "\n",
    "passo_otimo, n_iteracoes = busca_de_armijo(f_x, grad_f_x, variaveis, ponto_inicial, d, gama, eta)\n",
    "passo_otimo, n_iteracoes"
   ]
  },
  {
   "cell_type": "code",
   "execution_count": 272,
   "metadata": {},
   "outputs": [
    {
     "name": "stdout",
     "output_type": "stream",
     "text": [
      "Número máximo de iterações atingido\n"
     ]
    },
    {
     "data": {
      "text/plain": [
       "(array([2., 1.]), 1001, 12753)"
      ]
     },
     "execution_count": 272,
     "metadata": {},
     "output_type": "execute_result"
    }
   ],
   "source": [
    "metodo_do_gradiente(f_x, grad_f_x, variaveis, ponto_inicial, gama, eta)"
   ]
  },
  {
   "cell_type": "code",
   "execution_count": 273,
   "metadata": {},
   "outputs": [
    {
     "data": {
      "text/plain": [
       "(array([2., 1.]), 1, 1)"
      ]
     },
     "execution_count": 273,
     "metadata": {},
     "output_type": "execute_result"
    }
   ],
   "source": [
    "metodo_de_newton(f_x, grad_f_x, hessiana, variaveis, ponto_inicial, gama, eta)"
   ]
  },
  {
   "cell_type": "code",
   "execution_count": 274,
   "metadata": {},
   "outputs": [
    {
     "name": "stdout",
     "output_type": "stream",
     "text": [
      "[-0.01 -0.02]\n",
      "[-0.00790123  0.01209877]\n",
      "[ 0.00510039 -0.00699837]\n",
      "[-0.01174532 -0.00474695]\n",
      "[nan nan]\n"
     ]
    },
    {
     "name": "stderr",
     "output_type": "stream",
     "text": [
      "/var/folders/7b/0y05t52516g_yryyhc0cvctr0000gn/T/ipykernel_18367/1330231186.py:2: RuntimeWarning: invalid value encountered in scalar divide\n",
      "  termo_2_1 = (1 + (((q.T @ H) @ q) / (p.T @ q)))\n",
      "/var/folders/7b/0y05t52516g_yryyhc0cvctr0000gn/T/ipykernel_18367/1330231186.py:3: RuntimeWarning: invalid value encountered in scalar divide\n",
      "  termo_2_2 = (p @ p.T) / (p.T @ q)\n",
      "/var/folders/7b/0y05t52516g_yryyhc0cvctr0000gn/T/ipykernel_18367/1330231186.py:5: RuntimeWarning: invalid value encountered in scalar divide\n",
      "  termo_3 = ((p @ (q.T @ H)) + ((H @ q) @ p.T)) / (p.T @ q)\n"
     ]
    },
    {
     "ename": "TypeError",
     "evalue": "Invalid NaN comparison",
     "output_type": "error",
     "traceback": [
      "\u001b[0;31m---------------------------------------------------------------------------\u001b[0m",
      "\u001b[0;31mTypeError\u001b[0m                                 Traceback (most recent call last)",
      "Cell \u001b[0;32mIn[274], line 1\u001b[0m\n\u001b[0;32m----> 1\u001b[0m \u001b[43mmetodo_de_quase_newton\u001b[49m\u001b[43m(\u001b[49m\u001b[43mf_x\u001b[49m\u001b[43m,\u001b[49m\u001b[43m \u001b[49m\u001b[43mn_variaveis\u001b[49m\u001b[43m,\u001b[49m\u001b[43m \u001b[49m\u001b[43mgrad_f_x\u001b[49m\u001b[43m,\u001b[49m\u001b[43m \u001b[49m\u001b[43mvariaveis\u001b[49m\u001b[43m,\u001b[49m\u001b[43m \u001b[49m\u001b[43mponto_inicial\u001b[49m\u001b[43m,\u001b[49m\u001b[43m \u001b[49m\u001b[43mgama\u001b[49m\u001b[43m,\u001b[49m\u001b[43m \u001b[49m\u001b[43meta\u001b[49m\u001b[43m,\u001b[49m\u001b[43m \u001b[49m\u001b[43mmetodo\u001b[49m\u001b[38;5;241;43m=\u001b[39;49m\u001b[38;5;124;43m'\u001b[39;49m\u001b[38;5;124;43mbfgs\u001b[39;49m\u001b[38;5;124;43m'\u001b[39;49m\u001b[43m)\u001b[49m\n",
      "Cell \u001b[0;32mIn[250], line 41\u001b[0m, in \u001b[0;36mmetodo_de_quase_newton\u001b[0;34m(funcao, n_variaveis, gradiente, variaveis, ponto_inicial, gama, eta, maximo_iteracoes, valor_minimo, metodo)\u001b[0m\n\u001b[1;32m     39\u001b[0m d \u001b[38;5;241m=\u001b[39m \u001b[38;5;241m-\u001b[39mH \u001b[38;5;241m@\u001b[39m substitui_variaveis_gradiente(gradiente, variaveis, ponto)\n\u001b[1;32m     40\u001b[0m \u001b[38;5;28mprint\u001b[39m(d)\n\u001b[0;32m---> 41\u001b[0m t, iteracoes_armijo_tmp \u001b[38;5;241m=\u001b[39m \u001b[43mbusca_de_armijo\u001b[49m\u001b[43m(\u001b[49m\u001b[43mfuncao\u001b[49m\u001b[43m,\u001b[49m\u001b[43m \u001b[49m\u001b[43mgradiente\u001b[49m\u001b[43m,\u001b[49m\u001b[43m \u001b[49m\u001b[43mvariaveis\u001b[49m\u001b[43m,\u001b[49m\u001b[43m \u001b[49m\u001b[43mponto\u001b[49m\u001b[43m,\u001b[49m\u001b[43m \u001b[49m\u001b[43md\u001b[49m\u001b[43m,\u001b[49m\u001b[43m \u001b[49m\u001b[43mgama\u001b[49m\u001b[43m,\u001b[49m\u001b[43m \u001b[49m\u001b[43meta\u001b[49m\u001b[43m)\u001b[49m\n\u001b[1;32m     42\u001b[0m iteracoes_armijo \u001b[38;5;241m+\u001b[39m\u001b[38;5;241m=\u001b[39m iteracoes_armijo_tmp\n\u001b[1;32m     44\u001b[0m proximo_ponto \u001b[38;5;241m=\u001b[39m ponto \u001b[38;5;241m+\u001b[39m t\u001b[38;5;241m*\u001b[39md\n",
      "Cell \u001b[0;32mIn[247], line 18\u001b[0m, in \u001b[0;36mbusca_de_armijo\u001b[0;34m(funcao, gradiente, variaveis, ponto_inicial, d, gama, eta)\u001b[0m\n\u001b[1;32m     16\u001b[0m t \u001b[38;5;241m=\u001b[39m \u001b[38;5;241m1\u001b[39m\n\u001b[1;32m     17\u001b[0m iteracoes \u001b[38;5;241m=\u001b[39m \u001b[38;5;241m1\u001b[39m\n\u001b[0;32m---> 18\u001b[0m \u001b[38;5;28;01mwhile\u001b[39;00m \u001b[43msubstitui_variaveis_funcao\u001b[49m\u001b[43m(\u001b[49m\u001b[43mfuncao\u001b[49m\u001b[43m,\u001b[49m\u001b[43m \u001b[49m\u001b[43mvariaveis\u001b[49m\u001b[43m,\u001b[49m\u001b[43m \u001b[49m\u001b[43mponto_inicial\u001b[49m\u001b[43m \u001b[49m\u001b[38;5;241;43m+\u001b[39;49m\u001b[43m \u001b[49m\u001b[43mt\u001b[49m\u001b[38;5;241;43m*\u001b[39;49m\u001b[43md\u001b[49m\u001b[43m)\u001b[49m\u001b[43m \u001b[49m\u001b[38;5;241;43m>\u001b[39;49m\u001b[43m \u001b[49m\u001b[43msubstitui_variaveis_funcao\u001b[49m\u001b[43m(\u001b[49m\u001b[43mfuncao\u001b[49m\u001b[43m,\u001b[49m\u001b[43m \u001b[49m\u001b[43mvariaveis\u001b[49m\u001b[43m,\u001b[49m\u001b[43m \u001b[49m\u001b[43mponto_inicial\u001b[49m\u001b[43m)\u001b[49m\u001b[43m \u001b[49m\u001b[38;5;241;43m+\u001b[39;49m\u001b[43m \u001b[49m\u001b[43meta\u001b[49m\u001b[38;5;241;43m*\u001b[39;49m\u001b[43mt\u001b[49m\u001b[38;5;241;43m*\u001b[39;49m\u001b[43mnp\u001b[49m\u001b[38;5;241;43m.\u001b[39;49m\u001b[43mdot\u001b[49m\u001b[43m(\u001b[49m\u001b[43msubstitui_variaveis_gradiente\u001b[49m\u001b[43m(\u001b[49m\u001b[43mgradiente\u001b[49m\u001b[43m,\u001b[49m\u001b[43m \u001b[49m\u001b[43mvariaveis\u001b[49m\u001b[43m,\u001b[49m\u001b[43m \u001b[49m\u001b[43mponto_inicial\u001b[49m\u001b[43m)\u001b[49m\u001b[43m,\u001b[49m\u001b[43m \u001b[49m\u001b[43md\u001b[49m\u001b[43m)\u001b[49m:\n\u001b[1;32m     19\u001b[0m   t \u001b[38;5;241m=\u001b[39m gama\u001b[38;5;241m*\u001b[39mt\n\u001b[1;32m     20\u001b[0m   iteracoes \u001b[38;5;241m+\u001b[39m\u001b[38;5;241m=\u001b[39m \u001b[38;5;241m1\u001b[39m\n",
      "File \u001b[0;32m~/Library/Python/3.9/lib/python/site-packages/sympy/core/decorators.py:236\u001b[0m, in \u001b[0;36m_SympifyWrapper.make_wrapped.<locals>._func\u001b[0;34m(self, other)\u001b[0m\n\u001b[1;32m    234\u001b[0m \u001b[38;5;28;01mif\u001b[39;00m \u001b[38;5;129;01mnot\u001b[39;00m \u001b[38;5;28misinstance\u001b[39m(other, expectedcls):\n\u001b[1;32m    235\u001b[0m     \u001b[38;5;28;01mreturn\u001b[39;00m retval\n\u001b[0;32m--> 236\u001b[0m \u001b[38;5;28;01mreturn\u001b[39;00m \u001b[43mfunc\u001b[49m\u001b[43m(\u001b[49m\u001b[38;5;28;43mself\u001b[39;49m\u001b[43m,\u001b[49m\u001b[43m \u001b[49m\u001b[43mother\u001b[49m\u001b[43m)\u001b[49m\n",
      "File \u001b[0;32m~/Library/Python/3.9/lib/python/site-packages/sympy/core/expr.py:360\u001b[0m, in \u001b[0;36mExpr.__gt__\u001b[0;34m(self, other)\u001b[0m\n\u001b[1;32m    357\u001b[0m \u001b[38;5;129m@sympify_return\u001b[39m([(\u001b[38;5;124m'\u001b[39m\u001b[38;5;124mother\u001b[39m\u001b[38;5;124m'\u001b[39m, \u001b[38;5;124m'\u001b[39m\u001b[38;5;124mExpr\u001b[39m\u001b[38;5;124m'\u001b[39m)], \u001b[38;5;28mNotImplemented\u001b[39m)\n\u001b[1;32m    358\u001b[0m \u001b[38;5;28;01mdef\u001b[39;00m \u001b[38;5;21m__gt__\u001b[39m(\u001b[38;5;28mself\u001b[39m, other):\n\u001b[1;32m    359\u001b[0m     \u001b[38;5;28;01mfrom\u001b[39;00m \u001b[38;5;21;01m.\u001b[39;00m\u001b[38;5;21;01mrelational\u001b[39;00m \u001b[38;5;28;01mimport\u001b[39;00m StrictGreaterThan\n\u001b[0;32m--> 360\u001b[0m     \u001b[38;5;28;01mreturn\u001b[39;00m \u001b[43mStrictGreaterThan\u001b[49m\u001b[43m(\u001b[49m\u001b[38;5;28;43mself\u001b[39;49m\u001b[43m,\u001b[49m\u001b[43m \u001b[49m\u001b[43mother\u001b[49m\u001b[43m)\u001b[49m\n",
      "File \u001b[0;32m~/Library/Python/3.9/lib/python/site-packages/sympy/core/relational.py:843\u001b[0m, in \u001b[0;36m_Inequality.__new__\u001b[0;34m(cls, lhs, rhs, **options)\u001b[0m\n\u001b[1;32m    841\u001b[0m         \u001b[38;5;28;01mraise\u001b[39;00m \u001b[38;5;167;01mTypeError\u001b[39;00m(\u001b[38;5;124m\"\u001b[39m\u001b[38;5;124mInvalid comparison of non-real \u001b[39m\u001b[38;5;132;01m%s\u001b[39;00m\u001b[38;5;124m\"\u001b[39m \u001b[38;5;241m%\u001b[39m me)\n\u001b[1;32m    842\u001b[0m     \u001b[38;5;28;01mif\u001b[39;00m me \u001b[38;5;129;01mis\u001b[39;00m S\u001b[38;5;241m.\u001b[39mNaN:\n\u001b[0;32m--> 843\u001b[0m         \u001b[38;5;28;01mraise\u001b[39;00m \u001b[38;5;167;01mTypeError\u001b[39;00m(\u001b[38;5;124m\"\u001b[39m\u001b[38;5;124mInvalid NaN comparison\u001b[39m\u001b[38;5;124m\"\u001b[39m)\n\u001b[1;32m    844\u001b[0m \u001b[38;5;66;03m# First we invoke the appropriate inequality method of `lhs`\u001b[39;00m\n\u001b[1;32m    845\u001b[0m \u001b[38;5;66;03m# (e.g., `lhs.__lt__`).  That method will try to reduce to\u001b[39;00m\n\u001b[1;32m    846\u001b[0m \u001b[38;5;66;03m# boolean or raise an exception.  It may keep calling\u001b[39;00m\n\u001b[0;32m   (...)\u001b[0m\n\u001b[1;32m    850\u001b[0m \u001b[38;5;66;03m# exception).  In that case, it must call us with\u001b[39;00m\n\u001b[1;32m    851\u001b[0m \u001b[38;5;66;03m# `evaluate=False` to prevent infinite recursion.\u001b[39;00m\n\u001b[1;32m    852\u001b[0m \u001b[38;5;28;01mreturn\u001b[39;00m \u001b[38;5;28mcls\u001b[39m\u001b[38;5;241m.\u001b[39m_eval_relation(lhs, rhs, \u001b[38;5;241m*\u001b[39m\u001b[38;5;241m*\u001b[39moptions)\n",
      "\u001b[0;31mTypeError\u001b[0m: Invalid NaN comparison"
     ]
    }
   ],
   "source": [
    "metodo_de_quase_newton(f_x, n_variaveis, grad_f_x, variaveis, ponto_inicial, gama, eta, metodo='bfgs')"
   ]
  }
 ],
 "metadata": {
  "kernelspec": {
   "display_name": ".venv",
   "language": "python",
   "name": "python3"
  },
  "language_info": {
   "codemirror_mode": {
    "name": "ipython",
    "version": 3
   },
   "file_extension": ".py",
   "mimetype": "text/x-python",
   "name": "python",
   "nbconvert_exporter": "python",
   "pygments_lexer": "ipython3",
   "version": "3.9.6"
  }
 },
 "nbformat": 4,
 "nbformat_minor": 2
}
