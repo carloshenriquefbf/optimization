{
 "cells": [
  {
   "cell_type": "code",
   "execution_count": 1,
   "metadata": {},
   "outputs": [],
   "source": [
    "%load_ext autoreload\n",
    "%autoreload 2\n",
    "\n",
    "import warnings\n",
    "warnings.filterwarnings('ignore')"
   ]
  },
  {
   "cell_type": "markdown",
   "metadata": {},
   "source": [
    "# Função 1"
   ]
  },
  {
   "cell_type": "code",
   "execution_count": 2,
   "metadata": {},
   "outputs": [
    {
     "name": "stdout",
     "output_type": "stream",
     "text": [
      "Variáveis da função 1:\n"
     ]
    },
    {
     "data": {
      "text/plain": [
       "[x1, x2, x3, x4, x5, x6, x7]"
      ]
     },
     "metadata": {},
     "output_type": "display_data"
    }
   ],
   "source": [
    "from sympy import symbols\n",
    "\n",
    "variaveis = list(symbols('x1:8'))\n",
    "\n",
    "print(\"Variáveis da função 1:\")\n",
    "display(variaveis)"
   ]
  },
  {
   "cell_type": "code",
   "execution_count": 3,
   "metadata": {},
   "outputs": [
    {
     "name": "stdout",
     "output_type": "stream",
     "text": [
      "Função 1:\n"
     ]
    },
    {
     "data": {
      "text/latex": [
       "$\\displaystyle \\left(1 - x_{1}\\right)^{2} + \\left(1 - x_{2}\\right)^{2} + \\left(1 - x_{3}\\right)^{2} + \\left(1 - x_{4}\\right)^{2} + \\left(1 - x_{5}\\right)^{2} + \\left(1 - x_{6}\\right)^{2} + 100 \\left(- x_{1}^{2} + x_{2}\\right)^{2} + 100 \\left(- x_{2}^{2} + x_{3}\\right)^{2} + 100 \\left(- x_{3}^{2} + x_{4}\\right)^{2} + 100 \\left(- x_{4}^{2} + x_{5}\\right)^{2} + 100 \\left(- x_{5}^{2} + x_{6}\\right)^{2} + 100 \\left(- x_{6}^{2} + x_{7}\\right)^{2}$"
      ],
      "text/plain": [
       "(1 - x1)**2 + (1 - x2)**2 + (1 - x3)**2 + (1 - x4)**2 + (1 - x5)**2 + (1 - x6)**2 + 100*(-x1**2 + x2)**2 + 100*(-x2**2 + x3)**2 + 100*(-x3**2 + x4)**2 + 100*(-x4**2 + x5)**2 + 100*(-x5**2 + x6)**2 + 100*(-x6**2 + x7)**2"
      ]
     },
     "metadata": {},
     "output_type": "display_data"
    }
   ],
   "source": [
    "f_x = sum([100 * (variaveis[i+1] - variaveis[i]**2)**2 + (1 - variaveis[i])**2 for i in range(len(variaveis)-1)])\n",
    "\n",
    "print(\"Função 1:\")\n",
    "display(f_x)"
   ]
  },
  {
   "cell_type": "code",
   "execution_count": 4,
   "metadata": {},
   "outputs": [
    {
     "name": "stdout",
     "output_type": "stream",
     "text": [
      "Vetor gradiente da função 1:\n"
     ]
    },
    {
     "data": {
      "text/plain": [
       "[-400*x1*(-x1**2 + x2) + 2*x1 - 2,\n",
       " -200*x1**2 - 400*x2*(-x2**2 + x3) + 202*x2 - 2,\n",
       " -200*x2**2 - 400*x3*(-x3**2 + x4) + 202*x3 - 2,\n",
       " -200*x3**2 - 400*x4*(-x4**2 + x5) + 202*x4 - 2,\n",
       " -200*x4**2 - 400*x5*(-x5**2 + x6) + 202*x5 - 2,\n",
       " -200*x5**2 - 400*x6*(-x6**2 + x7) + 202*x6 - 2,\n",
       " -200*x6**2 + 200*x7]"
      ]
     },
     "metadata": {},
     "output_type": "display_data"
    }
   ],
   "source": [
    "from algoritmos import calcula_gradiente\n",
    "\n",
    "grad_f_x = calcula_gradiente(f_x, variaveis)\n",
    "\n",
    "print(\"Vetor gradiente da função 1:\")\n",
    "display(grad_f_x)"
   ]
  },
  {
   "cell_type": "code",
   "execution_count": 5,
   "metadata": {},
   "outputs": [
    {
     "name": "stdout",
     "output_type": "stream",
     "text": [
      "Matriz Hessiana da função 1:\n"
     ]
    },
    {
     "data": {
      "text/latex": [
       "$\\displaystyle \\left[\\begin{matrix}1200 x_{1}^{2} - 400 x_{2} + 2 & - 400 x_{1} & 0 & 0 & 0 & 0 & 0\\\\- 400 x_{1} & 1200 x_{2}^{2} - 400 x_{3} + 202 & - 400 x_{2} & 0 & 0 & 0 & 0\\\\0 & - 400 x_{2} & 1200 x_{3}^{2} - 400 x_{4} + 202 & - 400 x_{3} & 0 & 0 & 0\\\\0 & 0 & - 400 x_{3} & 1200 x_{4}^{2} - 400 x_{5} + 202 & - 400 x_{4} & 0 & 0\\\\0 & 0 & 0 & - 400 x_{4} & 1200 x_{5}^{2} - 400 x_{6} + 202 & - 400 x_{5} & 0\\\\0 & 0 & 0 & 0 & - 400 x_{5} & 1200 x_{6}^{2} - 400 x_{7} + 202 & - 400 x_{6}\\\\0 & 0 & 0 & 0 & 0 & - 400 x_{6} & 200\\end{matrix}\\right]$"
      ],
      "text/plain": [
       "Matrix([\n",
       "[1200*x1**2 - 400*x2 + 2,                   -400*x1,                         0,                         0,                         0,                         0,       0],\n",
       "[                -400*x1, 1200*x2**2 - 400*x3 + 202,                   -400*x2,                         0,                         0,                         0,       0],\n",
       "[                      0,                   -400*x2, 1200*x3**2 - 400*x4 + 202,                   -400*x3,                         0,                         0,       0],\n",
       "[                      0,                         0,                   -400*x3, 1200*x4**2 - 400*x5 + 202,                   -400*x4,                         0,       0],\n",
       "[                      0,                         0,                         0,                   -400*x4, 1200*x5**2 - 400*x6 + 202,                   -400*x5,       0],\n",
       "[                      0,                         0,                         0,                         0,                   -400*x5, 1200*x6**2 - 400*x7 + 202, -400*x6],\n",
       "[                      0,                         0,                         0,                         0,                         0,                   -400*x6,     200]])"
      ]
     },
     "metadata": {},
     "output_type": "display_data"
    }
   ],
   "source": [
    "from algoritmos import calcula_hessiana\n",
    "\n",
    "hess_f_x = calcula_hessiana(f_x, variaveis)\n",
    "\n",
    "print(\"Matriz Hessiana da função 1:\")\n",
    "display(hess_f_x)"
   ]
  },
  {
   "cell_type": "code",
   "execution_count": 6,
   "metadata": {},
   "outputs": [],
   "source": [
    "# TODO: Estudo da função: pontos críticos, convexidade, existência de ponto(s) ótimo(s), além de plotar sua função, etc."
   ]
  },
  {
   "cell_type": "code",
   "execution_count": 7,
   "metadata": {},
   "outputs": [],
   "source": [
    "# TODO: Achar os melhores valores de gama e eta"
   ]
  },
  {
   "cell_type": "code",
   "execution_count": 8,
   "metadata": {},
   "outputs": [
    {
     "name": "stdout",
     "output_type": "stream",
     "text": [
      "Gama: 0.08\n",
      "Eta: 0.02\n",
      "Pontos a serem testados:\n"
     ]
    },
    {
     "data": {
      "text/plain": [
       "[array([2.9, 2.1]),\n",
       " array([-3.1, -1.9]),\n",
       " array([ 4, -2]),\n",
       " array([-3,  1]),\n",
       " array([2.5, 1.5]),\n",
       " array([-3.5,  2.5]),\n",
       " array([5, 5]),\n",
       " array([ 3.9, -0.9])]"
      ]
     },
     "metadata": {},
     "output_type": "display_data"
    }
   ],
   "source": [
    "import numpy as np\n",
    "import pandas as pd\n",
    "\n",
    "colunas = ['Algoritmo', 'Ponto inicial', '# de iteracoes', '# de cham. de armijo', 'Ponto otimo', 'Valor otimo', 'Erro de aproximação']\n",
    "\n",
    "pontos = [\n",
    "  np.array([2.9, 2.1]), \n",
    "  np.array([-3.1, -1.9]), \n",
    "  # np.array([30, 20]), \n",
    "  np.array([4, -2]), \n",
    "  np.array([-3, 1]), \n",
    "  np.array([2.5, 1.5]), \n",
    "  np.array([-3.5, 2.5]), \n",
    "  # np.array([0, 0]), \n",
    "  np.array([5, 5]), \n",
    "  np.array([3.9, -0.9])\n",
    "  ]\n",
    "\n",
    "eta = 0.02\n",
    "gama = 0.08\n",
    "\n",
    "df_base = pd.DataFrame(columns=colunas)\n",
    "\n",
    "print(\"Gama:\", gama)\n",
    "print(\"Eta:\", eta)\n",
    "\n",
    "print(\"Pontos a serem testados:\")\n",
    "display(pontos)"
   ]
  },
  {
   "cell_type": "markdown",
   "metadata": {},
   "source": [
    "### Gradiente"
   ]
  },
  {
   "cell_type": "code",
   "execution_count": 9,
   "metadata": {},
   "outputs": [
    {
     "ename": "TypeError",
     "evalue": "Cannot convert expression to float",
     "output_type": "error",
     "traceback": [
      "\u001b[0;31m---------------------------------------------------------------------------\u001b[0m",
      "\u001b[0;31mTypeError\u001b[0m                                 Traceback (most recent call last)",
      "Cell \u001b[0;32mIn[9], line 7\u001b[0m\n\u001b[1;32m      4\u001b[0m df_gradiente \u001b[38;5;241m=\u001b[39m df_base\u001b[38;5;241m.\u001b[39mcopy()\n\u001b[1;32m      6\u001b[0m \u001b[38;5;28;01mfor\u001b[39;00m ponto \u001b[38;5;129;01min\u001b[39;00m pontos:\n\u001b[0;32m----> 7\u001b[0m     ponto_otimo, n_iteracoes, n_iteracoes_armijo \u001b[38;5;241m=\u001b[39m \u001b[43mmetodo_do_gradiente\u001b[49m\u001b[43m(\u001b[49m\u001b[43mf_x\u001b[49m\u001b[43m,\u001b[49m\u001b[43m \u001b[49m\u001b[43mgrad_f_x\u001b[49m\u001b[43m,\u001b[49m\u001b[43m \u001b[49m\u001b[43mvariaveis\u001b[49m\u001b[43m,\u001b[49m\u001b[43m \u001b[49m\u001b[43mponto\u001b[49m\u001b[43m,\u001b[49m\u001b[43m \u001b[49m\u001b[43mgama\u001b[49m\u001b[43m,\u001b[49m\u001b[43m \u001b[49m\u001b[43meta\u001b[49m\u001b[43m)\u001b[49m\n\u001b[1;32m      8\u001b[0m     valor_otimo \u001b[38;5;241m=\u001b[39m substitui_variaveis_funcao(f_x, variaveis, ponto_otimo)\n\u001b[1;32m      9\u001b[0m     erro_aproximacao \u001b[38;5;241m=\u001b[39m np\u001b[38;5;241m.\u001b[39mlinalg\u001b[38;5;241m.\u001b[39mnorm(substitui_variaveis_gradiente(grad_f_x, variaveis, ponto_otimo))\n",
      "File \u001b[0;32m~/Github/UFRJ/cos360-optimization/algoritmos.py:89\u001b[0m, in \u001b[0;36mmetodo_do_gradiente\u001b[0;34m(funcao, gradiente, variaveis, ponto_inicial, gama, eta, maximo_iteracoes, valor_minimo)\u001b[0m\n\u001b[1;32m     86\u001b[0m iteracoes_armijo \u001b[38;5;241m=\u001b[39m \u001b[38;5;241m0\u001b[39m\n\u001b[1;32m     87\u001b[0m ponto \u001b[38;5;241m=\u001b[39m ponto_inicial\n\u001b[1;32m     88\u001b[0m \u001b[38;5;28;01mwhile\u001b[39;00m (\n\u001b[0;32m---> 89\u001b[0m     np\u001b[38;5;241m.\u001b[39mlinalg\u001b[38;5;241m.\u001b[39mnorm(\u001b[43msubstitui_variaveis_gradiente\u001b[49m\u001b[43m(\u001b[49m\u001b[43mgradiente\u001b[49m\u001b[43m,\u001b[49m\u001b[43m \u001b[49m\u001b[43mvariaveis\u001b[49m\u001b[43m,\u001b[49m\u001b[43m \u001b[49m\u001b[43mponto\u001b[49m\u001b[43m)\u001b[49m)\n\u001b[1;32m     90\u001b[0m     \u001b[38;5;241m>\u001b[39m valor_minimo\n\u001b[1;32m     91\u001b[0m ):\n\u001b[1;32m     92\u001b[0m     d \u001b[38;5;241m=\u001b[39m \u001b[38;5;241m-\u001b[39msubstitui_variaveis_gradiente(gradiente, variaveis, ponto)\n\u001b[1;32m     93\u001b[0m     t, iteracoes_armijo_tmp \u001b[38;5;241m=\u001b[39m busca_de_armijo(\n\u001b[1;32m     94\u001b[0m         funcao, gradiente, variaveis, ponto, d, gama, eta\n\u001b[1;32m     95\u001b[0m     )\n",
      "File \u001b[0;32m~/Github/UFRJ/cos360-optimization/utils.py:11\u001b[0m, in \u001b[0;36msubstitui_variaveis_gradiente\u001b[0;34m(gradiente, variaveis, ponto)\u001b[0m\n\u001b[1;32m      8\u001b[0m \u001b[38;5;28;01mdef\u001b[39;00m \u001b[38;5;21msubstitui_variaveis_gradiente\u001b[39m(gradiente, variaveis, ponto):\n\u001b[1;32m      9\u001b[0m     \u001b[38;5;28;01mreturn\u001b[39;00m \u001b[43mnp\u001b[49m\u001b[38;5;241;43m.\u001b[39;49m\u001b[43marray\u001b[49m\u001b[43m(\u001b[49m\n\u001b[1;32m     10\u001b[0m \u001b[43m        \u001b[49m\u001b[43m[\u001b[49m\u001b[43mgradiente_i\u001b[49m\u001b[38;5;241;43m.\u001b[39;49m\u001b[43msubs\u001b[49m\u001b[43m(\u001b[49m\u001b[38;5;28;43mdict\u001b[39;49m\u001b[43m(\u001b[49m\u001b[38;5;28;43mzip\u001b[39;49m\u001b[43m(\u001b[49m\u001b[43mvariaveis\u001b[49m\u001b[43m,\u001b[49m\u001b[43m \u001b[49m\u001b[43mponto\u001b[49m\u001b[43m)\u001b[49m\u001b[43m)\u001b[49m\u001b[43m)\u001b[49m\u001b[43m \u001b[49m\u001b[38;5;28;43;01mfor\u001b[39;49;00m\u001b[43m \u001b[49m\u001b[43mgradiente_i\u001b[49m\u001b[43m \u001b[49m\u001b[38;5;129;43;01min\u001b[39;49;00m\u001b[43m \u001b[49m\u001b[43mgradiente\u001b[49m\u001b[43m]\u001b[49m\n\u001b[0;32m---> 11\u001b[0m \u001b[43m    \u001b[49m\u001b[43m)\u001b[49m\u001b[38;5;241;43m.\u001b[39;49m\u001b[43mastype\u001b[49m\u001b[43m(\u001b[49m\u001b[43mnp\u001b[49m\u001b[38;5;241;43m.\u001b[39;49m\u001b[43mfloat64\u001b[49m\u001b[43m)\u001b[49m\n",
      "File \u001b[0;32m~/Github/UFRJ/cos360-optimization/.venv/lib/python3.12/site-packages/sympy/core/expr.py:340\u001b[0m, in \u001b[0;36mExpr.__float__\u001b[0;34m(self)\u001b[0m\n\u001b[1;32m    338\u001b[0m \u001b[38;5;28;01mif\u001b[39;00m result\u001b[38;5;241m.\u001b[39mis_number \u001b[38;5;129;01mand\u001b[39;00m result\u001b[38;5;241m.\u001b[39mas_real_imag()[\u001b[38;5;241m1\u001b[39m]:\n\u001b[1;32m    339\u001b[0m     \u001b[38;5;28;01mraise\u001b[39;00m \u001b[38;5;167;01mTypeError\u001b[39;00m(\u001b[38;5;124m\"\u001b[39m\u001b[38;5;124mCannot convert complex to float\u001b[39m\u001b[38;5;124m\"\u001b[39m)\n\u001b[0;32m--> 340\u001b[0m \u001b[38;5;28;01mraise\u001b[39;00m \u001b[38;5;167;01mTypeError\u001b[39;00m(\u001b[38;5;124m\"\u001b[39m\u001b[38;5;124mCannot convert expression to float\u001b[39m\u001b[38;5;124m\"\u001b[39m)\n",
      "\u001b[0;31mTypeError\u001b[0m: Cannot convert expression to float"
     ]
    }
   ],
   "source": [
    "from algoritmos import metodo_do_gradiente\n",
    "from utils import substitui_variaveis_funcao, substitui_variaveis_gradiente\n",
    "\n",
    "df_gradiente = df_base.copy()\n",
    "\n",
    "for ponto in pontos:\n",
    "    ponto_otimo, n_iteracoes, n_iteracoes_armijo = metodo_do_gradiente(f_x, grad_f_x, variaveis, ponto, gama, eta)\n",
    "    valor_otimo = substitui_variaveis_funcao(f_x, variaveis, ponto_otimo)\n",
    "    erro_aproximacao = np.linalg.norm(substitui_variaveis_gradiente(grad_f_x, variaveis, ponto_otimo))\n",
    "    df_gradiente = pd.concat([df_gradiente, pd.DataFrame([['gradiente', ponto, n_iteracoes, n_iteracoes_armijo, ponto_otimo, valor_otimo, erro_aproximacao]], columns=colunas)])\n",
    "\n",
    "df_gradiente"
   ]
  },
  {
   "cell_type": "markdown",
   "metadata": {},
   "source": [
    "### Newton"
   ]
  },
  {
   "cell_type": "code",
   "execution_count": 10,
   "metadata": {},
   "outputs": [
    {
     "ename": "TypeError",
     "evalue": "Cannot convert expression to float",
     "output_type": "error",
     "traceback": [
      "\u001b[0;31m---------------------------------------------------------------------------\u001b[0m",
      "\u001b[0;31mTypeError\u001b[0m                                 Traceback (most recent call last)",
      "Cell \u001b[0;32mIn[10], line 6\u001b[0m\n\u001b[1;32m      3\u001b[0m df_newton \u001b[38;5;241m=\u001b[39m df_base\u001b[38;5;241m.\u001b[39mcopy()\n\u001b[1;32m      5\u001b[0m \u001b[38;5;28;01mfor\u001b[39;00m ponto \u001b[38;5;129;01min\u001b[39;00m pontos:\n\u001b[0;32m----> 6\u001b[0m     ponto_otimo, n_iteracoes, n_iteracoes_armijo \u001b[38;5;241m=\u001b[39m \u001b[43mmetodo_de_newton\u001b[49m\u001b[43m(\u001b[49m\u001b[43mf_x\u001b[49m\u001b[43m,\u001b[49m\u001b[43m \u001b[49m\u001b[43mgrad_f_x\u001b[49m\u001b[43m,\u001b[49m\u001b[43m \u001b[49m\u001b[43mhess_f_x\u001b[49m\u001b[43m,\u001b[49m\u001b[43m \u001b[49m\u001b[43mvariaveis\u001b[49m\u001b[43m,\u001b[49m\u001b[43m \u001b[49m\u001b[43mponto\u001b[49m\u001b[43m,\u001b[49m\u001b[43m \u001b[49m\u001b[43mgama\u001b[49m\u001b[43m,\u001b[49m\u001b[43m \u001b[49m\u001b[43meta\u001b[49m\u001b[43m)\u001b[49m\n\u001b[1;32m      7\u001b[0m     valor_otimo \u001b[38;5;241m=\u001b[39m substitui_variaveis_funcao(f_x, variaveis, ponto_otimo)\n\u001b[1;32m      8\u001b[0m     erro_aproximacao \u001b[38;5;241m=\u001b[39m np\u001b[38;5;241m.\u001b[39mlinalg\u001b[38;5;241m.\u001b[39mnorm(substitui_variaveis_gradiente(grad_f_x, variaveis, ponto_otimo))\n",
      "File \u001b[0;32m~/Github/UFRJ/cos360-optimization/algoritmos.py:141\u001b[0m, in \u001b[0;36mmetodo_de_newton\u001b[0;34m(funcao, gradiente, hessiana, variaveis, ponto_inicial, gama, eta, maximo_iteracoes, valor_minimo)\u001b[0m\n\u001b[1;32m    137\u001b[0m iteracoes_armijo \u001b[38;5;241m=\u001b[39m \u001b[38;5;241m0\u001b[39m\n\u001b[1;32m    138\u001b[0m ponto \u001b[38;5;241m=\u001b[39m ponto_inicial\n\u001b[1;32m    140\u001b[0m \u001b[38;5;28;01mwhile\u001b[39;00m (\n\u001b[0;32m--> 141\u001b[0m     np\u001b[38;5;241m.\u001b[39mlinalg\u001b[38;5;241m.\u001b[39mnorm(\u001b[43msubstitui_variaveis_gradiente\u001b[49m\u001b[43m(\u001b[49m\u001b[43mgradiente\u001b[49m\u001b[43m,\u001b[49m\u001b[43m \u001b[49m\u001b[43mvariaveis\u001b[49m\u001b[43m,\u001b[49m\u001b[43m \u001b[49m\u001b[43mponto\u001b[49m\u001b[43m)\u001b[49m)\n\u001b[1;32m    142\u001b[0m     \u001b[38;5;241m>\u001b[39m valor_minimo\n\u001b[1;32m    143\u001b[0m ):\n\u001b[1;32m    144\u001b[0m     d \u001b[38;5;241m=\u001b[39m \u001b[38;5;241m-\u001b[39mnp\u001b[38;5;241m.\u001b[39mlinalg\u001b[38;5;241m.\u001b[39minv(\n\u001b[1;32m    145\u001b[0m         substitui_variaveis_hessiana(hessiana, variaveis, ponto)\n\u001b[1;32m    146\u001b[0m     ) \u001b[38;5;241m@\u001b[39m substitui_variaveis_gradiente(gradiente, variaveis, ponto)\n\u001b[1;32m    147\u001b[0m     t, iteracoes_armijo_tmp \u001b[38;5;241m=\u001b[39m busca_de_armijo(\n\u001b[1;32m    148\u001b[0m         funcao, gradiente, variaveis, ponto, d, gama, eta\n\u001b[1;32m    149\u001b[0m     )\n",
      "File \u001b[0;32m~/Github/UFRJ/cos360-optimization/utils.py:11\u001b[0m, in \u001b[0;36msubstitui_variaveis_gradiente\u001b[0;34m(gradiente, variaveis, ponto)\u001b[0m\n\u001b[1;32m      8\u001b[0m \u001b[38;5;28;01mdef\u001b[39;00m \u001b[38;5;21msubstitui_variaveis_gradiente\u001b[39m(gradiente, variaveis, ponto):\n\u001b[1;32m      9\u001b[0m     \u001b[38;5;28;01mreturn\u001b[39;00m \u001b[43mnp\u001b[49m\u001b[38;5;241;43m.\u001b[39;49m\u001b[43marray\u001b[49m\u001b[43m(\u001b[49m\n\u001b[1;32m     10\u001b[0m \u001b[43m        \u001b[49m\u001b[43m[\u001b[49m\u001b[43mgradiente_i\u001b[49m\u001b[38;5;241;43m.\u001b[39;49m\u001b[43msubs\u001b[49m\u001b[43m(\u001b[49m\u001b[38;5;28;43mdict\u001b[39;49m\u001b[43m(\u001b[49m\u001b[38;5;28;43mzip\u001b[39;49m\u001b[43m(\u001b[49m\u001b[43mvariaveis\u001b[49m\u001b[43m,\u001b[49m\u001b[43m \u001b[49m\u001b[43mponto\u001b[49m\u001b[43m)\u001b[49m\u001b[43m)\u001b[49m\u001b[43m)\u001b[49m\u001b[43m \u001b[49m\u001b[38;5;28;43;01mfor\u001b[39;49;00m\u001b[43m \u001b[49m\u001b[43mgradiente_i\u001b[49m\u001b[43m \u001b[49m\u001b[38;5;129;43;01min\u001b[39;49;00m\u001b[43m \u001b[49m\u001b[43mgradiente\u001b[49m\u001b[43m]\u001b[49m\n\u001b[0;32m---> 11\u001b[0m \u001b[43m    \u001b[49m\u001b[43m)\u001b[49m\u001b[38;5;241;43m.\u001b[39;49m\u001b[43mastype\u001b[49m\u001b[43m(\u001b[49m\u001b[43mnp\u001b[49m\u001b[38;5;241;43m.\u001b[39;49m\u001b[43mfloat64\u001b[49m\u001b[43m)\u001b[49m\n",
      "File \u001b[0;32m~/Github/UFRJ/cos360-optimization/.venv/lib/python3.12/site-packages/sympy/core/expr.py:340\u001b[0m, in \u001b[0;36mExpr.__float__\u001b[0;34m(self)\u001b[0m\n\u001b[1;32m    338\u001b[0m \u001b[38;5;28;01mif\u001b[39;00m result\u001b[38;5;241m.\u001b[39mis_number \u001b[38;5;129;01mand\u001b[39;00m result\u001b[38;5;241m.\u001b[39mas_real_imag()[\u001b[38;5;241m1\u001b[39m]:\n\u001b[1;32m    339\u001b[0m     \u001b[38;5;28;01mraise\u001b[39;00m \u001b[38;5;167;01mTypeError\u001b[39;00m(\u001b[38;5;124m\"\u001b[39m\u001b[38;5;124mCannot convert complex to float\u001b[39m\u001b[38;5;124m\"\u001b[39m)\n\u001b[0;32m--> 340\u001b[0m \u001b[38;5;28;01mraise\u001b[39;00m \u001b[38;5;167;01mTypeError\u001b[39;00m(\u001b[38;5;124m\"\u001b[39m\u001b[38;5;124mCannot convert expression to float\u001b[39m\u001b[38;5;124m\"\u001b[39m)\n",
      "\u001b[0;31mTypeError\u001b[0m: Cannot convert expression to float"
     ]
    }
   ],
   "source": [
    "from algoritmos import metodo_de_newton\n",
    "\n",
    "df_newton = df_base.copy()\n",
    "\n",
    "for ponto in pontos:\n",
    "    ponto_otimo, n_iteracoes, n_iteracoes_armijo = metodo_de_newton(f_x, grad_f_x, hess_f_x, variaveis, ponto, gama, eta)\n",
    "    valor_otimo = substitui_variaveis_funcao(f_x, variaveis, ponto_otimo)\n",
    "    erro_aproximacao = np.linalg.norm(substitui_variaveis_gradiente(grad_f_x, variaveis, ponto_otimo))\n",
    "    df_newton = pd.concat([df_newton, pd.DataFrame([['newton', ponto, n_iteracoes, n_iteracoes_armijo, ponto_otimo, valor_otimo, erro_aproximacao]], columns=colunas)])\n",
    "\n",
    "display(df_newton)"
   ]
  },
  {
   "cell_type": "markdown",
   "metadata": {},
   "source": [
    "### Quase-Newton"
   ]
  },
  {
   "cell_type": "code",
   "execution_count": 11,
   "metadata": {},
   "outputs": [
    {
     "ename": "TypeError",
     "evalue": "Cannot convert expression to float",
     "output_type": "error",
     "traceback": [
      "\u001b[0;31m---------------------------------------------------------------------------\u001b[0m",
      "\u001b[0;31mTypeError\u001b[0m                                 Traceback (most recent call last)",
      "Cell \u001b[0;32mIn[11], line 7\u001b[0m\n\u001b[1;32m      5\u001b[0m \u001b[38;5;28;01mfor\u001b[39;00m metodo \u001b[38;5;129;01min\u001b[39;00m [\u001b[38;5;124m'\u001b[39m\u001b[38;5;124mbfgs\u001b[39m\u001b[38;5;124m'\u001b[39m, \u001b[38;5;124m'\u001b[39m\u001b[38;5;124mdfp\u001b[39m\u001b[38;5;124m'\u001b[39m]:\n\u001b[1;32m      6\u001b[0m     \u001b[38;5;28;01mfor\u001b[39;00m ponto \u001b[38;5;129;01min\u001b[39;00m pontos:\n\u001b[0;32m----> 7\u001b[0m         ponto_otimo, n_iteracoes, n_iteracoes_armijo \u001b[38;5;241m=\u001b[39m \u001b[43mmetodo_de_quase_newton\u001b[49m\u001b[43m(\u001b[49m\u001b[43mf_x\u001b[49m\u001b[43m,\u001b[49m\u001b[43m \u001b[49m\u001b[38;5;28;43mlen\u001b[39;49m\u001b[43m(\u001b[49m\u001b[43mvariaveis\u001b[49m\u001b[43m)\u001b[49m\u001b[43m,\u001b[49m\u001b[43m \u001b[49m\u001b[43mgrad_f_x\u001b[49m\u001b[43m,\u001b[49m\u001b[43m \u001b[49m\u001b[43mvariaveis\u001b[49m\u001b[43m,\u001b[49m\u001b[43m \u001b[49m\u001b[43mponto\u001b[49m\u001b[43m,\u001b[49m\u001b[43m \u001b[49m\u001b[43mgama\u001b[49m\u001b[43m,\u001b[49m\u001b[43m \u001b[49m\u001b[43meta\u001b[49m\u001b[43m,\u001b[49m\u001b[43m \u001b[49m\u001b[43mmetodo\u001b[49m\u001b[38;5;241;43m=\u001b[39;49m\u001b[43mmetodo\u001b[49m\u001b[43m)\u001b[49m\n\u001b[1;32m      8\u001b[0m         valor_otimo \u001b[38;5;241m=\u001b[39m substitui_variaveis_funcao(f_x, variaveis, ponto_otimo)\n\u001b[1;32m      9\u001b[0m         erro_aproximacao \u001b[38;5;241m=\u001b[39m np\u001b[38;5;241m.\u001b[39mlinalg\u001b[38;5;241m.\u001b[39mnorm(substitui_variaveis_gradiente(grad_f_x, variaveis, ponto_otimo))\n",
      "File \u001b[0;32m~/Github/UFRJ/cos360-optimization/algoritmos.py:198\u001b[0m, in \u001b[0;36mmetodo_de_quase_newton\u001b[0;34m(funcao, n_variaveis, gradiente, variaveis, ponto_inicial, gama, eta, maximo_iteracoes, valor_minimo, metodo)\u001b[0m\n\u001b[1;32m    194\u001b[0m ponto \u001b[38;5;241m=\u001b[39m ponto_inicial\n\u001b[1;32m    195\u001b[0m H \u001b[38;5;241m=\u001b[39m np\u001b[38;5;241m.\u001b[39meye(n_variaveis)\n\u001b[1;32m    197\u001b[0m \u001b[38;5;28;01mwhile\u001b[39;00m (\n\u001b[0;32m--> 198\u001b[0m     np\u001b[38;5;241m.\u001b[39mlinalg\u001b[38;5;241m.\u001b[39mnorm(\u001b[43msubstitui_variaveis_gradiente\u001b[49m\u001b[43m(\u001b[49m\u001b[43mgradiente\u001b[49m\u001b[43m,\u001b[49m\u001b[43m \u001b[49m\u001b[43mvariaveis\u001b[49m\u001b[43m,\u001b[49m\u001b[43m \u001b[49m\u001b[43mponto\u001b[49m\u001b[43m)\u001b[49m)\n\u001b[1;32m    199\u001b[0m     \u001b[38;5;241m>\u001b[39m valor_minimo\n\u001b[1;32m    200\u001b[0m ):\n\u001b[1;32m    201\u001b[0m     d \u001b[38;5;241m=\u001b[39m \u001b[38;5;241m-\u001b[39mH \u001b[38;5;241m@\u001b[39m substitui_variaveis_gradiente(gradiente, variaveis, ponto)\n\u001b[1;32m    202\u001b[0m     t, iteracoes_armijo_tmp \u001b[38;5;241m=\u001b[39m busca_de_armijo(\n\u001b[1;32m    203\u001b[0m         funcao, gradiente, variaveis, ponto, d, gama, eta\n\u001b[1;32m    204\u001b[0m     )\n",
      "File \u001b[0;32m~/Github/UFRJ/cos360-optimization/utils.py:11\u001b[0m, in \u001b[0;36msubstitui_variaveis_gradiente\u001b[0;34m(gradiente, variaveis, ponto)\u001b[0m\n\u001b[1;32m      8\u001b[0m \u001b[38;5;28;01mdef\u001b[39;00m \u001b[38;5;21msubstitui_variaveis_gradiente\u001b[39m(gradiente, variaveis, ponto):\n\u001b[1;32m      9\u001b[0m     \u001b[38;5;28;01mreturn\u001b[39;00m \u001b[43mnp\u001b[49m\u001b[38;5;241;43m.\u001b[39;49m\u001b[43marray\u001b[49m\u001b[43m(\u001b[49m\n\u001b[1;32m     10\u001b[0m \u001b[43m        \u001b[49m\u001b[43m[\u001b[49m\u001b[43mgradiente_i\u001b[49m\u001b[38;5;241;43m.\u001b[39;49m\u001b[43msubs\u001b[49m\u001b[43m(\u001b[49m\u001b[38;5;28;43mdict\u001b[39;49m\u001b[43m(\u001b[49m\u001b[38;5;28;43mzip\u001b[39;49m\u001b[43m(\u001b[49m\u001b[43mvariaveis\u001b[49m\u001b[43m,\u001b[49m\u001b[43m \u001b[49m\u001b[43mponto\u001b[49m\u001b[43m)\u001b[49m\u001b[43m)\u001b[49m\u001b[43m)\u001b[49m\u001b[43m \u001b[49m\u001b[38;5;28;43;01mfor\u001b[39;49;00m\u001b[43m \u001b[49m\u001b[43mgradiente_i\u001b[49m\u001b[43m \u001b[49m\u001b[38;5;129;43;01min\u001b[39;49;00m\u001b[43m \u001b[49m\u001b[43mgradiente\u001b[49m\u001b[43m]\u001b[49m\n\u001b[0;32m---> 11\u001b[0m \u001b[43m    \u001b[49m\u001b[43m)\u001b[49m\u001b[38;5;241;43m.\u001b[39;49m\u001b[43mastype\u001b[49m\u001b[43m(\u001b[49m\u001b[43mnp\u001b[49m\u001b[38;5;241;43m.\u001b[39;49m\u001b[43mfloat64\u001b[49m\u001b[43m)\u001b[49m\n",
      "File \u001b[0;32m~/Github/UFRJ/cos360-optimization/.venv/lib/python3.12/site-packages/sympy/core/expr.py:340\u001b[0m, in \u001b[0;36mExpr.__float__\u001b[0;34m(self)\u001b[0m\n\u001b[1;32m    338\u001b[0m \u001b[38;5;28;01mif\u001b[39;00m result\u001b[38;5;241m.\u001b[39mis_number \u001b[38;5;129;01mand\u001b[39;00m result\u001b[38;5;241m.\u001b[39mas_real_imag()[\u001b[38;5;241m1\u001b[39m]:\n\u001b[1;32m    339\u001b[0m     \u001b[38;5;28;01mraise\u001b[39;00m \u001b[38;5;167;01mTypeError\u001b[39;00m(\u001b[38;5;124m\"\u001b[39m\u001b[38;5;124mCannot convert complex to float\u001b[39m\u001b[38;5;124m\"\u001b[39m)\n\u001b[0;32m--> 340\u001b[0m \u001b[38;5;28;01mraise\u001b[39;00m \u001b[38;5;167;01mTypeError\u001b[39;00m(\u001b[38;5;124m\"\u001b[39m\u001b[38;5;124mCannot convert expression to float\u001b[39m\u001b[38;5;124m\"\u001b[39m)\n",
      "\u001b[0;31mTypeError\u001b[0m: Cannot convert expression to float"
     ]
    }
   ],
   "source": [
    "from algoritmos import metodo_de_quase_newton\n",
    "\n",
    "df_quase_newton = df_base.copy()\n",
    "\n",
    "for metodo in ['bfgs', 'dfp']:\n",
    "    for ponto in pontos:\n",
    "        ponto_otimo, n_iteracoes, n_iteracoes_armijo = metodo_de_quase_newton(f_x, len(variaveis), grad_f_x, variaveis, ponto, gama, eta, metodo=metodo)\n",
    "        valor_otimo = substitui_variaveis_funcao(f_x, variaveis, ponto_otimo)\n",
    "        erro_aproximacao = np.linalg.norm(substitui_variaveis_gradiente(grad_f_x, variaveis, ponto_otimo))\n",
    "        df_quase_newton = pd.concat([df_quase_newton, pd.DataFrame([[f'quase-newtown ({metodo})', ponto, n_iteracoes, n_iteracoes_armijo, ponto_otimo, valor_otimo, erro_aproximacao]], columns=colunas)])\n",
    "\n",
    "display(df_quase_newton)"
   ]
  },
  {
   "cell_type": "markdown",
   "metadata": {},
   "source": [
    "## Tabela geral"
   ]
  },
  {
   "cell_type": "code",
   "execution_count": 12,
   "metadata": {},
   "outputs": [
    {
     "data": {
      "text/html": [
       "<div>\n",
       "<style scoped>\n",
       "    .dataframe tbody tr th:only-of-type {\n",
       "        vertical-align: middle;\n",
       "    }\n",
       "\n",
       "    .dataframe tbody tr th {\n",
       "        vertical-align: top;\n",
       "    }\n",
       "\n",
       "    .dataframe thead th {\n",
       "        text-align: right;\n",
       "    }\n",
       "</style>\n",
       "<table border=\"1\" class=\"dataframe\">\n",
       "  <thead>\n",
       "    <tr style=\"text-align: right;\">\n",
       "      <th></th>\n",
       "      <th>Algoritmo</th>\n",
       "      <th>Ponto inicial</th>\n",
       "      <th># de iteracoes</th>\n",
       "      <th># de cham. de armijo</th>\n",
       "      <th>Ponto otimo</th>\n",
       "      <th>Valor otimo</th>\n",
       "      <th>Erro de aproximação</th>\n",
       "    </tr>\n",
       "  </thead>\n",
       "  <tbody>\n",
       "  </tbody>\n",
       "</table>\n",
       "</div>"
      ],
      "text/plain": [
       "Empty DataFrame\n",
       "Columns: [Algoritmo, Ponto inicial, # de iteracoes, # de cham. de armijo, Ponto otimo, Valor otimo, Erro de aproximação]\n",
       "Index: []"
      ]
     },
     "execution_count": 12,
     "metadata": {},
     "output_type": "execute_result"
    }
   ],
   "source": [
    "df_all = pd.concat([df_gradiente, df_newton, df_quase_newton])\n",
    "df_all"
   ]
  }
 ],
 "metadata": {
  "kernelspec": {
   "display_name": ".venv",
   "language": "python",
   "name": "python3"
  },
  "language_info": {
   "codemirror_mode": {
    "name": "ipython",
    "version": 3
   },
   "file_extension": ".py",
   "mimetype": "text/x-python",
   "name": "python",
   "nbconvert_exporter": "python",
   "pygments_lexer": "ipython3",
   "version": "3.12.7"
  }
 },
 "nbformat": 4,
 "nbformat_minor": 2
}
