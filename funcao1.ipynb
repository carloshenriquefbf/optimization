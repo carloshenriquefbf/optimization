{
 "cells": [
  {
   "cell_type": "code",
   "execution_count": 1,
   "metadata": {},
   "outputs": [],
   "source": [
    "%load_ext autoreload\n",
    "%autoreload 2\n",
    "\n",
    "import warnings\n",
    "warnings.filterwarnings('ignore')"
   ]
  },
  {
   "cell_type": "markdown",
   "metadata": {},
   "source": [
    "# Função 1"
   ]
  },
  {
   "cell_type": "code",
   "execution_count": 2,
   "metadata": {},
   "outputs": [
    {
     "name": "stdout",
     "output_type": "stream",
     "text": [
      "Variáveis da função 1:\n"
     ]
    },
    {
     "data": {
      "text/plain": [
       "[x1, x2, x3, x4, x5, x6, x7]"
      ]
     },
     "metadata": {},
     "output_type": "display_data"
    }
   ],
   "source": [
    "from sympy import symbols\n",
    "\n",
    "variaveis = list(symbols('x1:8'))\n",
    "\n",
    "print(\"Variáveis da função 1:\")\n",
    "display(variaveis)"
   ]
  },
  {
   "cell_type": "code",
   "execution_count": 3,
   "metadata": {},
   "outputs": [
    {
     "name": "stdout",
     "output_type": "stream",
     "text": [
      "Função 1:\n"
     ]
    },
    {
     "data": {
      "text/latex": [
       "$\\displaystyle \\left(1 - x_{1}\\right)^{2} + \\left(1 - x_{2}\\right)^{2} + \\left(1 - x_{3}\\right)^{2} + \\left(1 - x_{4}\\right)^{2} + \\left(1 - x_{5}\\right)^{2} + \\left(1 - x_{6}\\right)^{2} + 100 \\left(- x_{1}^{2} + x_{2}\\right)^{2} + 100 \\left(- x_{2}^{2} + x_{3}\\right)^{2} + 100 \\left(- x_{3}^{2} + x_{4}\\right)^{2} + 100 \\left(- x_{4}^{2} + x_{5}\\right)^{2} + 100 \\left(- x_{5}^{2} + x_{6}\\right)^{2} + 100 \\left(- x_{6}^{2} + x_{7}\\right)^{2}$"
      ],
      "text/plain": [
       "(1 - x1)**2 + (1 - x2)**2 + (1 - x3)**2 + (1 - x4)**2 + (1 - x5)**2 + (1 - x6)**2 + 100*(-x1**2 + x2)**2 + 100*(-x2**2 + x3)**2 + 100*(-x3**2 + x4)**2 + 100*(-x4**2 + x5)**2 + 100*(-x5**2 + x6)**2 + 100*(-x6**2 + x7)**2"
      ]
     },
     "metadata": {},
     "output_type": "display_data"
    }
   ],
   "source": [
    "f_x = sum([100 * (variaveis[i+1] - variaveis[i]**2)**2 + (1 - variaveis[i])**2 for i in range(len(variaveis)-1)])\n",
    "\n",
    "print(\"Função 1:\")\n",
    "display(f_x)"
   ]
  },
  {
   "cell_type": "code",
   "execution_count": 4,
   "metadata": {},
   "outputs": [
    {
     "name": "stdout",
     "output_type": "stream",
     "text": [
      "Vetor gradiente da função 1:\n"
     ]
    },
    {
     "data": {
      "text/plain": [
       "[-400*x1*(-x1**2 + x2) + 2*x1 - 2,\n",
       " -200*x1**2 - 400*x2*(-x2**2 + x3) + 202*x2 - 2,\n",
       " -200*x2**2 - 400*x3*(-x3**2 + x4) + 202*x3 - 2,\n",
       " -200*x3**2 - 400*x4*(-x4**2 + x5) + 202*x4 - 2,\n",
       " -200*x4**2 - 400*x5*(-x5**2 + x6) + 202*x5 - 2,\n",
       " -200*x5**2 - 400*x6*(-x6**2 + x7) + 202*x6 - 2,\n",
       " -200*x6**2 + 200*x7]"
      ]
     },
     "metadata": {},
     "output_type": "display_data"
    }
   ],
   "source": [
    "from algoritmos import calcula_gradiente\n",
    "\n",
    "grad_f_x = calcula_gradiente(f_x, variaveis)\n",
    "\n",
    "print(\"Vetor gradiente da função 1:\")\n",
    "display(grad_f_x)"
   ]
  },
  {
   "cell_type": "code",
   "execution_count": 5,
   "metadata": {},
   "outputs": [
    {
     "name": "stdout",
     "output_type": "stream",
     "text": [
      "Matriz Hessiana da função 1:\n"
     ]
    },
    {
     "data": {
      "text/latex": [
       "$\\displaystyle \\left[\\begin{matrix}1200 x_{1}^{2} - 400 x_{2} + 2 & - 400 x_{1} & 0 & 0 & 0 & 0 & 0\\\\- 400 x_{1} & 1200 x_{2}^{2} - 400 x_{3} + 202 & - 400 x_{2} & 0 & 0 & 0 & 0\\\\0 & - 400 x_{2} & 1200 x_{3}^{2} - 400 x_{4} + 202 & - 400 x_{3} & 0 & 0 & 0\\\\0 & 0 & - 400 x_{3} & 1200 x_{4}^{2} - 400 x_{5} + 202 & - 400 x_{4} & 0 & 0\\\\0 & 0 & 0 & - 400 x_{4} & 1200 x_{5}^{2} - 400 x_{6} + 202 & - 400 x_{5} & 0\\\\0 & 0 & 0 & 0 & - 400 x_{5} & 1200 x_{6}^{2} - 400 x_{7} + 202 & - 400 x_{6}\\\\0 & 0 & 0 & 0 & 0 & - 400 x_{6} & 200\\end{matrix}\\right]$"
      ],
      "text/plain": [
       "Matrix([\n",
       "[1200*x1**2 - 400*x2 + 2,                   -400*x1,                         0,                         0,                         0,                         0,       0],\n",
       "[                -400*x1, 1200*x2**2 - 400*x3 + 202,                   -400*x2,                         0,                         0,                         0,       0],\n",
       "[                      0,                   -400*x2, 1200*x3**2 - 400*x4 + 202,                   -400*x3,                         0,                         0,       0],\n",
       "[                      0,                         0,                   -400*x3, 1200*x4**2 - 400*x5 + 202,                   -400*x4,                         0,       0],\n",
       "[                      0,                         0,                         0,                   -400*x4, 1200*x5**2 - 400*x6 + 202,                   -400*x5,       0],\n",
       "[                      0,                         0,                         0,                         0,                   -400*x5, 1200*x6**2 - 400*x7 + 202, -400*x6],\n",
       "[                      0,                         0,                         0,                         0,                         0,                   -400*x6,     200]])"
      ]
     },
     "metadata": {},
     "output_type": "display_data"
    }
   ],
   "source": [
    "from algoritmos import calcula_hessiana\n",
    "\n",
    "hess_f_x = calcula_hessiana(f_x, variaveis)\n",
    "\n",
    "print(\"Matriz Hessiana da função 1:\")\n",
    "display(hess_f_x)"
   ]
  },
  {
   "cell_type": "code",
   "execution_count": 6,
   "metadata": {},
   "outputs": [],
   "source": [
    "# TODO: Estudo da função: pontos críticos, convexidade, existência de ponto(s) ótimo(s), além de plotar sua função, etc."
   ]
  },
  {
   "cell_type": "code",
   "execution_count": 7,
   "metadata": {},
   "outputs": [],
   "source": [
    "# TODO: Achar os melhores valores de gama e eta"
   ]
  },
  {
   "cell_type": "code",
   "execution_count": 13,
   "metadata": {},
   "outputs": [
    {
     "name": "stdout",
     "output_type": "stream",
     "text": [
      "Gama: 0.08\n",
      "Eta: 0.02\n",
      "Pontos a serem testados:\n"
     ]
    },
    {
     "data": {
      "text/plain": [
       "[array([2.9, 2.1, 3.9, 4.9, 5.9, 6.9, 7.9])]"
      ]
     },
     "metadata": {},
     "output_type": "display_data"
    }
   ],
   "source": [
    "import numpy as np\n",
    "import pandas as pd\n",
    "\n",
    "colunas = ['Algoritmo', 'Ponto inicial', '# de iteracoes', '# de cham. de armijo', 'Ponto otimo', 'Valor otimo', 'Erro de aproximação']\n",
    "\n",
    "pontos = [\n",
    "  np.array([2.9, 2.1, 3.9, 4.9, 5.9, 6.9, 7.9]), \n",
    "  ]\n",
    "\n",
    "eta = 0.02\n",
    "gama = 0.08\n",
    "\n",
    "df_base = pd.DataFrame(columns=colunas)\n",
    "\n",
    "print(\"Gama:\", gama)\n",
    "print(\"Eta:\", eta)\n",
    "\n",
    "print(\"Pontos a serem testados:\")\n",
    "display(pontos)"
   ]
  },
  {
   "cell_type": "markdown",
   "metadata": {},
   "source": [
    "### Gradiente"
   ]
  },
  {
   "cell_type": "code",
   "execution_count": null,
   "metadata": {},
   "outputs": [
    {
     "data": {
      "text/html": [
       "<div>\n",
       "<style scoped>\n",
       "    .dataframe tbody tr th:only-of-type {\n",
       "        vertical-align: middle;\n",
       "    }\n",
       "\n",
       "    .dataframe tbody tr th {\n",
       "        vertical-align: top;\n",
       "    }\n",
       "\n",
       "    .dataframe thead th {\n",
       "        text-align: right;\n",
       "    }\n",
       "</style>\n",
       "<table border=\"1\" class=\"dataframe\">\n",
       "  <thead>\n",
       "    <tr style=\"text-align: right;\">\n",
       "      <th></th>\n",
       "      <th>Algoritmo</th>\n",
       "      <th>Ponto inicial</th>\n",
       "      <th># de iteracoes</th>\n",
       "      <th># de cham. de armijo</th>\n",
       "      <th>Ponto otimo</th>\n",
       "      <th>Valor otimo</th>\n",
       "      <th>Erro de aproximação</th>\n",
       "    </tr>\n",
       "  </thead>\n",
       "  <tbody>\n",
       "    <tr>\n",
       "      <th>0</th>\n",
       "      <td>gradiente</td>\n",
       "      <td>[2.9, 2.1, 3.9, 4.9, 5.9, 6.9, 7.9]</td>\n",
       "      <td>10000</td>\n",
       "      <td>47368</td>\n",
       "      <td>[0.007229192774381424, -0.6865131427838477, 0....</td>\n",
       "      <td>88.3681680922443</td>\n",
       "      <td>3.184499</td>\n",
       "    </tr>\n",
       "  </tbody>\n",
       "</table>\n",
       "</div>"
      ],
      "text/plain": [
       "   Algoritmo                        Ponto inicial # de iteracoes  \\\n",
       "0  gradiente  [2.9, 2.1, 3.9, 4.9, 5.9, 6.9, 7.9]          10000   \n",
       "\n",
       "  # de cham. de armijo                                        Ponto otimo  \\\n",
       "0                47368  [0.007229192774381424, -0.6865131427838477, 0....   \n",
       "\n",
       "        Valor otimo  Erro de aproximação  \n",
       "0  88.3681680922443             3.184499  "
      ]
     },
     "execution_count": 25,
     "metadata": {},
     "output_type": "execute_result"
    }
   ],
   "source": [
    "from algoritmos import metodo_do_gradiente\n",
    "from utils import substitui_variaveis_funcao, substitui_variaveis_gradiente\n",
    "\n",
    "df_gradiente = df_base.copy()\n",
    "\n",
    "for ponto in pontos:\n",
    "    ponto_otimo, n_iteracoes, n_iteracoes_armijo = metodo_do_gradiente(f_x, grad_f_x, variaveis, ponto, gama, eta)\n",
    "    valor_otimo = substitui_variaveis_funcao(f_x, variaveis, ponto_otimo)\n",
    "    erro_aproximacao = np.linalg.norm(substitui_variaveis_gradiente(grad_f_x, variaveis, ponto_otimo))\n",
    "    df_gradiente = pd.concat([df_gradiente, pd.DataFrame([['gradiente', ponto, n_iteracoes, n_iteracoes_armijo, ponto_otimo, valor_otimo, erro_aproximacao]], columns=colunas)])\n",
    "\n",
    "df_gradiente"
   ]
  },
  {
   "cell_type": "markdown",
   "metadata": {},
   "source": [
    "### Newton"
   ]
  },
  {
   "cell_type": "code",
   "execution_count": 15,
   "metadata": {},
   "outputs": [
    {
     "data": {
      "text/html": [
       "<div>\n",
       "<style scoped>\n",
       "    .dataframe tbody tr th:only-of-type {\n",
       "        vertical-align: middle;\n",
       "    }\n",
       "\n",
       "    .dataframe tbody tr th {\n",
       "        vertical-align: top;\n",
       "    }\n",
       "\n",
       "    .dataframe thead th {\n",
       "        text-align: right;\n",
       "    }\n",
       "</style>\n",
       "<table border=\"1\" class=\"dataframe\">\n",
       "  <thead>\n",
       "    <tr style=\"text-align: right;\">\n",
       "      <th></th>\n",
       "      <th>Algoritmo</th>\n",
       "      <th>Ponto inicial</th>\n",
       "      <th># de iteracoes</th>\n",
       "      <th># de cham. de armijo</th>\n",
       "      <th>Ponto otimo</th>\n",
       "      <th>Valor otimo</th>\n",
       "      <th>Erro de aproximação</th>\n",
       "    </tr>\n",
       "  </thead>\n",
       "  <tbody>\n",
       "    <tr>\n",
       "      <th>0</th>\n",
       "      <td>newton</td>\n",
       "      <td>[2.9, 2.1, 3.9, 4.9, 5.9, 6.9, 7.9]</td>\n",
       "      <td>178</td>\n",
       "      <td>344</td>\n",
       "      <td>[1.0000000000707099, 1.000000000141737, 1.0000...</td>\n",
       "      <td>6.93455489685290e-18</td>\n",
       "      <td>5.888488e-09</td>\n",
       "    </tr>\n",
       "  </tbody>\n",
       "</table>\n",
       "</div>"
      ],
      "text/plain": [
       "  Algoritmo                        Ponto inicial # de iteracoes  \\\n",
       "0    newton  [2.9, 2.1, 3.9, 4.9, 5.9, 6.9, 7.9]            178   \n",
       "\n",
       "  # de cham. de armijo                                        Ponto otimo  \\\n",
       "0                  344  [1.0000000000707099, 1.000000000141737, 1.0000...   \n",
       "\n",
       "            Valor otimo  Erro de aproximação  \n",
       "0  6.93455489685290e-18         5.888488e-09  "
      ]
     },
     "metadata": {},
     "output_type": "display_data"
    }
   ],
   "source": [
    "from algoritmos import metodo_de_newton\n",
    "\n",
    "df_newton = df_base.copy()\n",
    "\n",
    "for ponto in pontos:\n",
    "    ponto_otimo, n_iteracoes, n_iteracoes_armijo = metodo_de_newton(f_x, grad_f_x, hess_f_x, variaveis, ponto, gama, eta)\n",
    "    valor_otimo = substitui_variaveis_funcao(f_x, variaveis, ponto_otimo)\n",
    "    erro_aproximacao = np.linalg.norm(substitui_variaveis_gradiente(grad_f_x, variaveis, ponto_otimo))\n",
    "    df_newton = pd.concat([df_newton, pd.DataFrame([['newton', ponto, n_iteracoes, n_iteracoes_armijo, ponto_otimo, valor_otimo, erro_aproximacao]], columns=colunas)])\n",
    "\n",
    "display(df_newton)"
   ]
  },
  {
   "cell_type": "markdown",
   "metadata": {},
   "source": [
    "### Quase-Newton"
   ]
  },
  {
   "cell_type": "code",
   "execution_count": 20,
   "metadata": {},
   "outputs": [
    {
     "data": {
      "text/html": [
       "<div>\n",
       "<style scoped>\n",
       "    .dataframe tbody tr th:only-of-type {\n",
       "        vertical-align: middle;\n",
       "    }\n",
       "\n",
       "    .dataframe tbody tr th {\n",
       "        vertical-align: top;\n",
       "    }\n",
       "\n",
       "    .dataframe thead th {\n",
       "        text-align: right;\n",
       "    }\n",
       "</style>\n",
       "<table border=\"1\" class=\"dataframe\">\n",
       "  <thead>\n",
       "    <tr style=\"text-align: right;\">\n",
       "      <th></th>\n",
       "      <th>Algoritmo</th>\n",
       "      <th>Ponto inicial</th>\n",
       "      <th># de iteracoes</th>\n",
       "      <th># de cham. de armijo</th>\n",
       "      <th>Ponto otimo</th>\n",
       "      <th>Valor otimo</th>\n",
       "      <th>Erro de aproximação</th>\n",
       "    </tr>\n",
       "  </thead>\n",
       "  <tbody>\n",
       "    <tr>\n",
       "      <th>0</th>\n",
       "      <td>quase-newtown (bfgs)</td>\n",
       "      <td>[2.9, 2.1, 3.9, 4.9, 5.9, 6.9, 7.9]</td>\n",
       "      <td>108</td>\n",
       "      <td>159</td>\n",
       "      <td>[0.999999999892512, 0.9999999998147001, 0.9999...</td>\n",
       "      <td>1.69996716984094e-17</td>\n",
       "      <td>1.368225e-07</td>\n",
       "    </tr>\n",
       "    <tr>\n",
       "      <th>0</th>\n",
       "      <td>quase-newtown (dfp)</td>\n",
       "      <td>[2.9, 2.1, 3.9, 4.9, 5.9, 6.9, 7.9]</td>\n",
       "      <td>1000</td>\n",
       "      <td>16842</td>\n",
       "      <td>[1.7170574862324475, 1.1857484596600392, 1.956...</td>\n",
       "      <td>3010.90422095069</td>\n",
       "      <td>4.568595e+03</td>\n",
       "    </tr>\n",
       "  </tbody>\n",
       "</table>\n",
       "</div>"
      ],
      "text/plain": [
       "              Algoritmo                        Ponto inicial # de iteracoes  \\\n",
       "0  quase-newtown (bfgs)  [2.9, 2.1, 3.9, 4.9, 5.9, 6.9, 7.9]            108   \n",
       "0   quase-newtown (dfp)  [2.9, 2.1, 3.9, 4.9, 5.9, 6.9, 7.9]           1000   \n",
       "\n",
       "  # de cham. de armijo                                        Ponto otimo  \\\n",
       "0                  159  [0.999999999892512, 0.9999999998147001, 0.9999...   \n",
       "0                16842  [1.7170574862324475, 1.1857484596600392, 1.956...   \n",
       "\n",
       "            Valor otimo  Erro de aproximação  \n",
       "0  1.69996716984094e-17         1.368225e-07  \n",
       "0      3010.90422095069         4.568595e+03  "
      ]
     },
     "metadata": {},
     "output_type": "display_data"
    }
   ],
   "source": [
    "from algoritmos import metodo_de_quase_newton\n",
    "\n",
    "df_quase_newton = df_base.copy()\n",
    "\n",
    "for metodo in ['bfgs', 'dfp']:\n",
    "    for ponto in pontos:\n",
    "        ponto_otimo, n_iteracoes, n_iteracoes_armijo = metodo_de_quase_newton(f_x, len(variaveis), grad_f_x, variaveis, ponto, gama, eta, metodo=metodo)\n",
    "        valor_otimo = substitui_variaveis_funcao(f_x, variaveis, ponto_otimo)\n",
    "        erro_aproximacao = np.linalg.norm(substitui_variaveis_gradiente(grad_f_x, variaveis, ponto_otimo))\n",
    "        df_quase_newton = pd.concat([df_quase_newton, pd.DataFrame([[f'quase-newtown ({metodo})', ponto, n_iteracoes, n_iteracoes_armijo, ponto_otimo, valor_otimo, erro_aproximacao]], columns=colunas)])\n",
    "\n",
    "display(df_quase_newton)"
   ]
  },
  {
   "cell_type": "markdown",
   "metadata": {},
   "source": [
    "## Tabela geral"
   ]
  },
  {
   "cell_type": "code",
   "execution_count": 21,
   "metadata": {},
   "outputs": [
    {
     "data": {
      "text/html": [
       "<div>\n",
       "<style scoped>\n",
       "    .dataframe tbody tr th:only-of-type {\n",
       "        vertical-align: middle;\n",
       "    }\n",
       "\n",
       "    .dataframe tbody tr th {\n",
       "        vertical-align: top;\n",
       "    }\n",
       "\n",
       "    .dataframe thead th {\n",
       "        text-align: right;\n",
       "    }\n",
       "</style>\n",
       "<table border=\"1\" class=\"dataframe\">\n",
       "  <thead>\n",
       "    <tr style=\"text-align: right;\">\n",
       "      <th></th>\n",
       "      <th>Algoritmo</th>\n",
       "      <th>Ponto inicial</th>\n",
       "      <th># de iteracoes</th>\n",
       "      <th># de cham. de armijo</th>\n",
       "      <th>Ponto otimo</th>\n",
       "      <th>Valor otimo</th>\n",
       "      <th>Erro de aproximação</th>\n",
       "    </tr>\n",
       "  </thead>\n",
       "  <tbody>\n",
       "    <tr>\n",
       "      <th>0</th>\n",
       "      <td>gradiente</td>\n",
       "      <td>[2.9, 2.1, 3.9, 4.9, 5.9, 6.9, 7.9]</td>\n",
       "      <td>1000</td>\n",
       "      <td>4742</td>\n",
       "      <td>[0.006992746163843586, -0.7099349068493341, 1....</td>\n",
       "      <td>92.9721245930694</td>\n",
       "      <td>3.360583e+00</td>\n",
       "    </tr>\n",
       "    <tr>\n",
       "      <th>0</th>\n",
       "      <td>newton</td>\n",
       "      <td>[2.9, 2.1, 3.9, 4.9, 5.9, 6.9, 7.9]</td>\n",
       "      <td>178</td>\n",
       "      <td>344</td>\n",
       "      <td>[1.0000000000707099, 1.000000000141737, 1.0000...</td>\n",
       "      <td>6.93455489685290e-18</td>\n",
       "      <td>5.888488e-09</td>\n",
       "    </tr>\n",
       "    <tr>\n",
       "      <th>0</th>\n",
       "      <td>quase-newtown (bfgs)</td>\n",
       "      <td>[2.9, 2.1, 3.9, 4.9, 5.9, 6.9, 7.9]</td>\n",
       "      <td>108</td>\n",
       "      <td>159</td>\n",
       "      <td>[0.999999999892512, 0.9999999998147001, 0.9999...</td>\n",
       "      <td>1.69996716984094e-17</td>\n",
       "      <td>1.368225e-07</td>\n",
       "    </tr>\n",
       "    <tr>\n",
       "      <th>0</th>\n",
       "      <td>quase-newtown (dfp)</td>\n",
       "      <td>[2.9, 2.1, 3.9, 4.9, 5.9, 6.9, 7.9]</td>\n",
       "      <td>1000</td>\n",
       "      <td>16842</td>\n",
       "      <td>[1.7170574862324475, 1.1857484596600392, 1.956...</td>\n",
       "      <td>3010.90422095069</td>\n",
       "      <td>4.568595e+03</td>\n",
       "    </tr>\n",
       "  </tbody>\n",
       "</table>\n",
       "</div>"
      ],
      "text/plain": [
       "              Algoritmo                        Ponto inicial # de iteracoes  \\\n",
       "0             gradiente  [2.9, 2.1, 3.9, 4.9, 5.9, 6.9, 7.9]           1000   \n",
       "0                newton  [2.9, 2.1, 3.9, 4.9, 5.9, 6.9, 7.9]            178   \n",
       "0  quase-newtown (bfgs)  [2.9, 2.1, 3.9, 4.9, 5.9, 6.9, 7.9]            108   \n",
       "0   quase-newtown (dfp)  [2.9, 2.1, 3.9, 4.9, 5.9, 6.9, 7.9]           1000   \n",
       "\n",
       "  # de cham. de armijo                                        Ponto otimo  \\\n",
       "0                 4742  [0.006992746163843586, -0.7099349068493341, 1....   \n",
       "0                  344  [1.0000000000707099, 1.000000000141737, 1.0000...   \n",
       "0                  159  [0.999999999892512, 0.9999999998147001, 0.9999...   \n",
       "0                16842  [1.7170574862324475, 1.1857484596600392, 1.956...   \n",
       "\n",
       "            Valor otimo  Erro de aproximação  \n",
       "0      92.9721245930694         3.360583e+00  \n",
       "0  6.93455489685290e-18         5.888488e-09  \n",
       "0  1.69996716984094e-17         1.368225e-07  \n",
       "0      3010.90422095069         4.568595e+03  "
      ]
     },
     "execution_count": 21,
     "metadata": {},
     "output_type": "execute_result"
    }
   ],
   "source": [
    "df_all = pd.concat([df_gradiente, df_newton, df_quase_newton])\n",
    "df_all"
   ]
  }
 ],
 "metadata": {
  "kernelspec": {
   "display_name": ".venv",
   "language": "python",
   "name": "python3"
  },
  "language_info": {
   "codemirror_mode": {
    "name": "ipython",
    "version": 3
   },
   "file_extension": ".py",
   "mimetype": "text/x-python",
   "name": "python",
   "nbconvert_exporter": "python",
   "pygments_lexer": "ipython3",
   "version": "3.12.7"
  }
 },
 "nbformat": 4,
 "nbformat_minor": 2
}
