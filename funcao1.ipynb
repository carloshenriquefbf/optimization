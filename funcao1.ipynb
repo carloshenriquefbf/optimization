{
 "cells": [
  {
   "cell_type": "markdown",
   "metadata": {},
   "source": [
    "# Função 1"
   ]
  },
  {
   "cell_type": "code",
   "execution_count": 1,
   "metadata": {},
   "outputs": [
    {
     "name": "stdout",
     "output_type": "stream",
     "text": [
      "Variáveis da função 1:\n"
     ]
    },
    {
     "data": {
      "text/plain": [
       "[x1, x2, x3, x4, x5, x6, x7]"
      ]
     },
     "metadata": {},
     "output_type": "display_data"
    }
   ],
   "source": [
    "from sympy import symbols\n",
    "\n",
    "variaveis = list(symbols('x1:8'))\n",
    "\n",
    "print(\"Variáveis da função 1:\")\n",
    "display(variaveis)"
   ]
  },
  {
   "cell_type": "code",
   "execution_count": 2,
   "metadata": {},
   "outputs": [
    {
     "name": "stdout",
     "output_type": "stream",
     "text": [
      "Função 1:\n"
     ]
    },
    {
     "data": {
      "text/latex": [
       "$\\displaystyle \\left(1 - x_{1}\\right)^{2} + \\left(1 - x_{2}\\right)^{2} + \\left(1 - x_{3}\\right)^{2} + \\left(1 - x_{4}\\right)^{2} + \\left(1 - x_{5}\\right)^{2} + \\left(1 - x_{6}\\right)^{2} + 100 \\left(- x_{1}^{2} + x_{2}\\right)^{2} + 100 \\left(- x_{2}^{2} + x_{3}\\right)^{2} + 100 \\left(- x_{3}^{2} + x_{4}\\right)^{2} + 100 \\left(- x_{4}^{2} + x_{5}\\right)^{2} + 100 \\left(- x_{5}^{2} + x_{6}\\right)^{2} + 100 \\left(- x_{6}^{2} + x_{7}\\right)^{2}$"
      ],
      "text/plain": [
       "(1 - x1)**2 + (1 - x2)**2 + (1 - x3)**2 + (1 - x4)**2 + (1 - x5)**2 + (1 - x6)**2 + 100*(-x1**2 + x2)**2 + 100*(-x2**2 + x3)**2 + 100*(-x3**2 + x4)**2 + 100*(-x4**2 + x5)**2 + 100*(-x5**2 + x6)**2 + 100*(-x6**2 + x7)**2"
      ]
     },
     "metadata": {},
     "output_type": "display_data"
    }
   ],
   "source": [
    "f_x = sum([100 * (variaveis[i+1] - variaveis[i]**2)**2 + (1 - variaveis[i])**2 for i in range(len(variaveis)-1)])\n",
    "\n",
    "print(\"Função 1:\")\n",
    "display(f_x)"
   ]
  },
  {
   "cell_type": "code",
   "execution_count": 3,
   "metadata": {},
   "outputs": [
    {
     "name": "stdout",
     "output_type": "stream",
     "text": [
      "Vetor gradiente da função 1:\n"
     ]
    },
    {
     "data": {
      "text/plain": [
       "[-400*x1*(-x1**2 + x2) + 2*x1 - 2,\n",
       " -200*x1**2 - 400*x2*(-x2**2 + x3) + 202*x2 - 2,\n",
       " -200*x2**2 - 400*x3*(-x3**2 + x4) + 202*x3 - 2,\n",
       " -200*x3**2 - 400*x4*(-x4**2 + x5) + 202*x4 - 2,\n",
       " -200*x4**2 - 400*x5*(-x5**2 + x6) + 202*x5 - 2,\n",
       " -200*x5**2 - 400*x6*(-x6**2 + x7) + 202*x6 - 2,\n",
       " -200*x6**2 + 200*x7]"
      ]
     },
     "metadata": {},
     "output_type": "display_data"
    }
   ],
   "source": [
    "from algoritmos import calcula_gradiente\n",
    "\n",
    "grad_f_x = calcula_gradiente(f_x, variaveis)\n",
    "\n",
    "print(\"Vetor gradiente da função 1:\")\n",
    "display(grad_f_x)"
   ]
  },
  {
   "cell_type": "code",
   "execution_count": 4,
   "metadata": {},
   "outputs": [
    {
     "name": "stdout",
     "output_type": "stream",
     "text": [
      "Matriz Hessiana da função 1:\n"
     ]
    },
    {
     "data": {
      "text/latex": [
       "$\\displaystyle \\left[\\begin{matrix}1200 x_{1}^{2} - 400 x_{2} + 2 & - 400 x_{1} & 0 & 0 & 0 & 0 & 0\\\\- 400 x_{1} & 1200 x_{2}^{2} - 400 x_{3} + 202 & - 400 x_{2} & 0 & 0 & 0 & 0\\\\0 & - 400 x_{2} & 1200 x_{3}^{2} - 400 x_{4} + 202 & - 400 x_{3} & 0 & 0 & 0\\\\0 & 0 & - 400 x_{3} & 1200 x_{4}^{2} - 400 x_{5} + 202 & - 400 x_{4} & 0 & 0\\\\0 & 0 & 0 & - 400 x_{4} & 1200 x_{5}^{2} - 400 x_{6} + 202 & - 400 x_{5} & 0\\\\0 & 0 & 0 & 0 & - 400 x_{5} & 1200 x_{6}^{2} - 400 x_{7} + 202 & - 400 x_{6}\\\\0 & 0 & 0 & 0 & 0 & - 400 x_{6} & 200\\end{matrix}\\right]$"
      ],
      "text/plain": [
       "Matrix([\n",
       "[1200*x1**2 - 400*x2 + 2,                   -400*x1,                         0,                         0,                         0,                         0,       0],\n",
       "[                -400*x1, 1200*x2**2 - 400*x3 + 202,                   -400*x2,                         0,                         0,                         0,       0],\n",
       "[                      0,                   -400*x2, 1200*x3**2 - 400*x4 + 202,                   -400*x3,                         0,                         0,       0],\n",
       "[                      0,                         0,                   -400*x3, 1200*x4**2 - 400*x5 + 202,                   -400*x4,                         0,       0],\n",
       "[                      0,                         0,                         0,                   -400*x4, 1200*x5**2 - 400*x6 + 202,                   -400*x5,       0],\n",
       "[                      0,                         0,                         0,                         0,                   -400*x5, 1200*x6**2 - 400*x7 + 202, -400*x6],\n",
       "[                      0,                         0,                         0,                         0,                         0,                   -400*x6,     200]])"
      ]
     },
     "metadata": {},
     "output_type": "display_data"
    }
   ],
   "source": [
    "from algoritmos import calcula_hessiana\n",
    "\n",
    "hess_f_x = calcula_hessiana(f_x, variaveis)\n",
    "\n",
    "print(\"Matriz Hessiana da função 1:\")\n",
    "display(hess_f_x)"
   ]
  }
 ],
 "metadata": {
  "kernelspec": {
   "display_name": ".venv",
   "language": "python",
   "name": "python3"
  },
  "language_info": {
   "codemirror_mode": {
    "name": "ipython",
    "version": 3
   },
   "file_extension": ".py",
   "mimetype": "text/x-python",
   "name": "python",
   "nbconvert_exporter": "python",
   "pygments_lexer": "ipython3",
   "version": "3.12.7"
  }
 },
 "nbformat": 4,
 "nbformat_minor": 2
}
