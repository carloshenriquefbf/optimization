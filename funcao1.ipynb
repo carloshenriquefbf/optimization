{
 "cells": [
  {
   "cell_type": "code",
   "execution_count": 22,
   "metadata": {},
   "outputs": [
    {
     "name": "stdout",
     "output_type": "stream",
     "text": [
      "The autoreload extension is already loaded. To reload it, use:\n",
      "  %reload_ext autoreload\n"
     ]
    }
   ],
   "source": [
    "%load_ext autoreload\n",
    "%autoreload 2\n",
    "\n",
    "import warnings\n",
    "warnings.filterwarnings('ignore')"
   ]
  },
  {
   "cell_type": "markdown",
   "metadata": {},
   "source": [
    "# Função 1"
   ]
  },
  {
   "cell_type": "code",
   "execution_count": 23,
   "metadata": {},
   "outputs": [
    {
     "name": "stdout",
     "output_type": "stream",
     "text": [
      "Variáveis da função 1:\n"
     ]
    },
    {
     "data": {
      "text/plain": [
       "[x1, x2, x3, x4, x5, x6, x7]"
      ]
     },
     "metadata": {},
     "output_type": "display_data"
    }
   ],
   "source": [
    "from sympy import symbols\n",
    "\n",
    "variaveis = list(symbols('x1:8'))\n",
    "\n",
    "print(\"Variáveis da função 1:\")\n",
    "display(variaveis)"
   ]
  },
  {
   "cell_type": "code",
   "execution_count": 24,
   "metadata": {},
   "outputs": [
    {
     "name": "stdout",
     "output_type": "stream",
     "text": [
      "Função 1:\n"
     ]
    },
    {
     "data": {
      "text/latex": [
       "$\\displaystyle \\left(1 - x_{1}\\right)^{2} + \\left(1 - x_{2}\\right)^{2} + \\left(1 - x_{3}\\right)^{2} + \\left(1 - x_{4}\\right)^{2} + \\left(1 - x_{5}\\right)^{2} + \\left(1 - x_{6}\\right)^{2} + 100 \\left(- x_{1}^{2} + x_{2}\\right)^{2} + 100 \\left(- x_{2}^{2} + x_{3}\\right)^{2} + 100 \\left(- x_{3}^{2} + x_{4}\\right)^{2} + 100 \\left(- x_{4}^{2} + x_{5}\\right)^{2} + 100 \\left(- x_{5}^{2} + x_{6}\\right)^{2} + 100 \\left(- x_{6}^{2} + x_{7}\\right)^{2}$"
      ],
      "text/plain": [
       "(1 - x1)**2 + (1 - x2)**2 + (1 - x3)**2 + (1 - x4)**2 + (1 - x5)**2 + (1 - x6)**2 + 100*(-x1**2 + x2)**2 + 100*(-x2**2 + x3)**2 + 100*(-x3**2 + x4)**2 + 100*(-x4**2 + x5)**2 + 100*(-x5**2 + x6)**2 + 100*(-x6**2 + x7)**2"
      ]
     },
     "metadata": {},
     "output_type": "display_data"
    }
   ],
   "source": [
    "f_x = sum([100 * (variaveis[i+1] - variaveis[i]**2)**2 + (1 - variaveis[i])**2 for i in range(len(variaveis)-1)])\n",
    "\n",
    "print(\"Função 1:\")\n",
    "display(f_x)"
   ]
  },
  {
   "cell_type": "code",
   "execution_count": 25,
   "metadata": {},
   "outputs": [
    {
     "name": "stdout",
     "output_type": "stream",
     "text": [
      "Vetor gradiente da função 1:\n"
     ]
    },
    {
     "data": {
      "text/plain": [
       "[-400*x1*(-x1**2 + x2) + 2*x1 - 2,\n",
       " -200*x1**2 - 400*x2*(-x2**2 + x3) + 202*x2 - 2,\n",
       " -200*x2**2 - 400*x3*(-x3**2 + x4) + 202*x3 - 2,\n",
       " -200*x3**2 - 400*x4*(-x4**2 + x5) + 202*x4 - 2,\n",
       " -200*x4**2 - 400*x5*(-x5**2 + x6) + 202*x5 - 2,\n",
       " -200*x5**2 - 400*x6*(-x6**2 + x7) + 202*x6 - 2,\n",
       " -200*x6**2 + 200*x7]"
      ]
     },
     "metadata": {},
     "output_type": "display_data"
    }
   ],
   "source": [
    "from algoritmos import calcula_gradiente\n",
    "\n",
    "grad_f_x = calcula_gradiente(f_x, variaveis)\n",
    "\n",
    "print(\"Vetor gradiente da função 1:\")\n",
    "display(grad_f_x)"
   ]
  },
  {
   "cell_type": "code",
   "execution_count": 26,
   "metadata": {},
   "outputs": [
    {
     "name": "stdout",
     "output_type": "stream",
     "text": [
      "Matriz Hessiana da função 1:\n"
     ]
    },
    {
     "data": {
      "text/latex": [
       "$\\displaystyle \\left[\\begin{matrix}1200 x_{1}^{2} - 400 x_{2} + 2 & - 400 x_{1} & 0 & 0 & 0 & 0 & 0\\\\- 400 x_{1} & 1200 x_{2}^{2} - 400 x_{3} + 202 & - 400 x_{2} & 0 & 0 & 0 & 0\\\\0 & - 400 x_{2} & 1200 x_{3}^{2} - 400 x_{4} + 202 & - 400 x_{3} & 0 & 0 & 0\\\\0 & 0 & - 400 x_{3} & 1200 x_{4}^{2} - 400 x_{5} + 202 & - 400 x_{4} & 0 & 0\\\\0 & 0 & 0 & - 400 x_{4} & 1200 x_{5}^{2} - 400 x_{6} + 202 & - 400 x_{5} & 0\\\\0 & 0 & 0 & 0 & - 400 x_{5} & 1200 x_{6}^{2} - 400 x_{7} + 202 & - 400 x_{6}\\\\0 & 0 & 0 & 0 & 0 & - 400 x_{6} & 200\\end{matrix}\\right]$"
      ],
      "text/plain": [
       "Matrix([\n",
       "[1200*x1**2 - 400*x2 + 2,                   -400*x1,                         0,                         0,                         0,                         0,       0],\n",
       "[                -400*x1, 1200*x2**2 - 400*x3 + 202,                   -400*x2,                         0,                         0,                         0,       0],\n",
       "[                      0,                   -400*x2, 1200*x3**2 - 400*x4 + 202,                   -400*x3,                         0,                         0,       0],\n",
       "[                      0,                         0,                   -400*x3, 1200*x4**2 - 400*x5 + 202,                   -400*x4,                         0,       0],\n",
       "[                      0,                         0,                         0,                   -400*x4, 1200*x5**2 - 400*x6 + 202,                   -400*x5,       0],\n",
       "[                      0,                         0,                         0,                         0,                   -400*x5, 1200*x6**2 - 400*x7 + 202, -400*x6],\n",
       "[                      0,                         0,                         0,                         0,                         0,                   -400*x6,     200]])"
      ]
     },
     "metadata": {},
     "output_type": "display_data"
    }
   ],
   "source": [
    "from algoritmos import calcula_hessiana\n",
    "\n",
    "hess_f_x = calcula_hessiana(f_x, variaveis)\n",
    "\n",
    "print(\"Matriz Hessiana da função 1:\")\n",
    "display(hess_f_x)"
   ]
  },
  {
   "cell_type": "code",
   "execution_count": 27,
   "metadata": {},
   "outputs": [],
   "source": [
    "# TODO: Estudo da função: pontos críticos, convexidade, existência de ponto(s) ótimo(s), além de plotar sua função, etc."
   ]
  },
  {
   "cell_type": "code",
   "execution_count": 28,
   "metadata": {},
   "outputs": [],
   "source": [
    "# TODO: Achar os melhores valores de gamma e eta"
   ]
  },
  {
   "cell_type": "code",
   "execution_count": 29,
   "metadata": {},
   "outputs": [
    {
     "name": "stdout",
     "output_type": "stream",
     "text": [
      "Pontos a serem testados:\n"
     ]
    },
    {
     "data": {
      "text/plain": [
       "[array([2.9, 2.1, 3.9, 4.9, 5.9, 6.9, 7.9])]"
      ]
     },
     "metadata": {},
     "output_type": "display_data"
    }
   ],
   "source": [
    "import numpy as np\n",
    "import pandas as pd\n",
    "\n",
    "colunas = ['Algoritmo', 'Ponto inicial', '# de iteracoes', '# de cham. de armijo', 'Ponto otimo', 'Valor otimo', 'Erro de aproximação', 'Tempo de exec (s)']\n",
    "df_base = pd.DataFrame(columns=colunas)\n",
    "\n",
    "pontos = [\n",
    "  np.array([2.9, 2.1, 3.9, 4.9, 5.9, 6.9, 7.9]),\n",
    "  ]\n",
    "\n",
    "print(\"Pontos a serem testados:\")\n",
    "display(pontos)"
   ]
  },
  {
   "cell_type": "markdown",
   "metadata": {},
   "source": [
    "### Gradiente"
   ]
  },
  {
   "cell_type": "code",
   "execution_count": 30,
   "metadata": {},
   "outputs": [
    {
     "ename": "KeyboardInterrupt",
     "evalue": "",
     "output_type": "error",
     "traceback": [
      "\u001b[0;31m---------------------------------------------------------------------------\u001b[0m",
      "\u001b[0;31mKeyboardInterrupt\u001b[0m                         Traceback (most recent call last)",
      "Cell \u001b[0;32mIn[30], line 9\u001b[0m\n\u001b[1;32m      7\u001b[0m \u001b[38;5;28;01mfor\u001b[39;00m ponto \u001b[38;5;129;01min\u001b[39;00m pontos:\n\u001b[1;32m      8\u001b[0m     tic \u001b[38;5;241m=\u001b[39m time\u001b[38;5;241m.\u001b[39mtime()\n\u001b[0;32m----> 9\u001b[0m     ponto_otimo, n_iteracoes, n_iteracoes_armijo \u001b[38;5;241m=\u001b[39m \u001b[43mmetodo_do_gradiente\u001b[49m\u001b[43m(\u001b[49m\u001b[43mf_x\u001b[49m\u001b[43m,\u001b[49m\u001b[43m \u001b[49m\u001b[43mgrad_f_x\u001b[49m\u001b[43m,\u001b[49m\u001b[43m \u001b[49m\u001b[43mvariaveis\u001b[49m\u001b[43m,\u001b[49m\u001b[43m \u001b[49m\u001b[43mponto\u001b[49m\u001b[43m,\u001b[49m\u001b[43m \u001b[49m\u001b[43mgamma\u001b[49m\u001b[38;5;241;43m=\u001b[39;49m\u001b[38;5;241;43m0.5\u001b[39;49m\u001b[43m,\u001b[49m\u001b[43m \u001b[49m\u001b[43meta\u001b[49m\u001b[38;5;241;43m=\u001b[39;49m\u001b[38;5;241;43m0.25\u001b[39;49m\u001b[43m)\u001b[49m\n\u001b[1;32m     10\u001b[0m     tac \u001b[38;5;241m=\u001b[39m time\u001b[38;5;241m.\u001b[39mtime()\n\u001b[1;32m     11\u001b[0m     valor_otimo \u001b[38;5;241m=\u001b[39m substitui_variaveis_funcao(f_x, variaveis, ponto_otimo)\n",
      "File \u001b[0;32m~/UFRJ/otm/cos360-optimization/algoritmos.py:93\u001b[0m, in \u001b[0;36mmetodo_do_gradiente\u001b[0;34m(funcao, gradiente, variaveis, ponto_inicial, gamma, eta, maximo_iteracoes, valor_minimo)\u001b[0m\n\u001b[1;32m     88\u001b[0m \u001b[38;5;28;01mwhile\u001b[39;00m (\n\u001b[1;32m     89\u001b[0m     np\u001b[38;5;241m.\u001b[39mlinalg\u001b[38;5;241m.\u001b[39mnorm(substitui_variaveis_gradiente(gradiente, variaveis, ponto))\n\u001b[1;32m     90\u001b[0m     \u001b[38;5;241m>\u001b[39m valor_minimo\n\u001b[1;32m     91\u001b[0m ):\n\u001b[1;32m     92\u001b[0m     d \u001b[38;5;241m=\u001b[39m \u001b[38;5;241m-\u001b[39msubstitui_variaveis_gradiente(gradiente, variaveis, ponto)\n\u001b[0;32m---> 93\u001b[0m     t, iteracoes_armijo_tmp \u001b[38;5;241m=\u001b[39m \u001b[43mbusca_de_armijo\u001b[49m\u001b[43m(\u001b[49m\n\u001b[1;32m     94\u001b[0m \u001b[43m        \u001b[49m\u001b[43mfuncao\u001b[49m\u001b[43m,\u001b[49m\u001b[43m \u001b[49m\u001b[43mgradiente\u001b[49m\u001b[43m,\u001b[49m\u001b[43m \u001b[49m\u001b[43mvariaveis\u001b[49m\u001b[43m,\u001b[49m\u001b[43m \u001b[49m\u001b[43mponto\u001b[49m\u001b[43m,\u001b[49m\u001b[43m \u001b[49m\u001b[43md\u001b[49m\u001b[43m,\u001b[49m\u001b[43m \u001b[49m\u001b[43mgamma\u001b[49m\u001b[43m,\u001b[49m\u001b[43m \u001b[49m\u001b[43meta\u001b[49m\n\u001b[1;32m     95\u001b[0m \u001b[43m    \u001b[49m\u001b[43m)\u001b[49m\n\u001b[1;32m     96\u001b[0m     iteracoes_armijo \u001b[38;5;241m+\u001b[39m\u001b[38;5;241m=\u001b[39m iteracoes_armijo_tmp\n\u001b[1;32m     97\u001b[0m     ponto \u001b[38;5;241m=\u001b[39m ponto \u001b[38;5;241m+\u001b[39m t \u001b[38;5;241m*\u001b[39m d\n",
      "File \u001b[0;32m~/UFRJ/otm/cos360-optimization/algoritmos.py:46\u001b[0m, in \u001b[0;36mbusca_de_armijo\u001b[0;34m(funcao, gradiente, variaveis, ponto_inicial, d, gamma, eta)\u001b[0m\n\u001b[1;32m     44\u001b[0m t \u001b[38;5;241m=\u001b[39m \u001b[38;5;241m1\u001b[39m\n\u001b[1;32m     45\u001b[0m iteracoes \u001b[38;5;241m=\u001b[39m \u001b[38;5;241m1\u001b[39m\n\u001b[0;32m---> 46\u001b[0m \u001b[38;5;28;01mwhile\u001b[39;00m \u001b[43msubstitui_variaveis_funcao\u001b[49m\u001b[43m(\u001b[49m\n\u001b[1;32m     47\u001b[0m \u001b[43m    \u001b[49m\u001b[43mfuncao\u001b[49m\u001b[43m,\u001b[49m\u001b[43m \u001b[49m\u001b[43mvariaveis\u001b[49m\u001b[43m,\u001b[49m\u001b[43m \u001b[49m\u001b[43mponto_inicial\u001b[49m\u001b[43m \u001b[49m\u001b[38;5;241;43m+\u001b[39;49m\u001b[43m \u001b[49m\u001b[43mt\u001b[49m\u001b[43m \u001b[49m\u001b[38;5;241;43m*\u001b[39;49m\u001b[43m \u001b[49m\u001b[43md\u001b[49m\n\u001b[1;32m     48\u001b[0m \u001b[43m\u001b[49m\u001b[43m)\u001b[49m \u001b[38;5;241m>\u001b[39m substitui_variaveis_funcao(funcao, variaveis, ponto_inicial) \u001b[38;5;241m+\u001b[39m eta \u001b[38;5;241m*\u001b[39m t \u001b[38;5;241m*\u001b[39m np\u001b[38;5;241m.\u001b[39mdot(\n\u001b[1;32m     49\u001b[0m     substitui_variaveis_gradiente(gradiente, variaveis, ponto_inicial), d\n\u001b[1;32m     50\u001b[0m ):\n\u001b[1;32m     51\u001b[0m     t \u001b[38;5;241m=\u001b[39m gamma \u001b[38;5;241m*\u001b[39m t\n\u001b[1;32m     52\u001b[0m     iteracoes \u001b[38;5;241m+\u001b[39m\u001b[38;5;241m=\u001b[39m \u001b[38;5;241m1\u001b[39m\n",
      "File \u001b[0;32m~/UFRJ/otm/cos360-optimization/utils.py:5\u001b[0m, in \u001b[0;36msubstitui_variaveis_funcao\u001b[0;34m(funcao, variaveis, ponto)\u001b[0m\n\u001b[1;32m      4\u001b[0m \u001b[38;5;28;01mdef\u001b[39;00m \u001b[38;5;21msubstitui_variaveis_funcao\u001b[39m(funcao, variaveis, ponto):\n\u001b[0;32m----> 5\u001b[0m     \u001b[38;5;28;01mreturn\u001b[39;00m \u001b[43mfuncao\u001b[49m\u001b[38;5;241;43m.\u001b[39;49m\u001b[43msubs\u001b[49m\u001b[43m(\u001b[49m\u001b[38;5;28;43mdict\u001b[39;49m\u001b[43m(\u001b[49m\u001b[38;5;28;43mzip\u001b[39;49m\u001b[43m(\u001b[49m\u001b[43mvariaveis\u001b[49m\u001b[43m,\u001b[49m\u001b[43m \u001b[49m\u001b[43mponto\u001b[49m\u001b[43m)\u001b[49m\u001b[43m)\u001b[49m\u001b[43m)\u001b[49m\n",
      "File \u001b[0;32m~/Library/Python/3.9/lib/python/site-packages/sympy/core/basic.py:1123\u001b[0m, in \u001b[0;36mBasic.subs\u001b[0;34m(self, *args, **kwargs)\u001b[0m\n\u001b[1;32m   1121\u001b[0m rv \u001b[38;5;241m=\u001b[39m \u001b[38;5;28mself\u001b[39m\n\u001b[1;32m   1122\u001b[0m \u001b[38;5;28;01mfor\u001b[39;00m old, new \u001b[38;5;129;01min\u001b[39;00m sequence:\n\u001b[0;32m-> 1123\u001b[0m     rv \u001b[38;5;241m=\u001b[39m \u001b[43mrv\u001b[49m\u001b[38;5;241;43m.\u001b[39;49m\u001b[43m_subs\u001b[49m\u001b[43m(\u001b[49m\u001b[43mold\u001b[49m\u001b[43m,\u001b[49m\u001b[43m \u001b[49m\u001b[43mnew\u001b[49m\u001b[43m,\u001b[49m\u001b[43m \u001b[49m\u001b[38;5;241;43m*\u001b[39;49m\u001b[38;5;241;43m*\u001b[39;49m\u001b[43mkwargs\u001b[49m\u001b[43m)\u001b[49m\n\u001b[1;32m   1124\u001b[0m     \u001b[38;5;28;01mif\u001b[39;00m \u001b[38;5;129;01mnot\u001b[39;00m \u001b[38;5;28misinstance\u001b[39m(rv, Basic):\n\u001b[1;32m   1125\u001b[0m         \u001b[38;5;28;01mbreak\u001b[39;00m\n",
      "File \u001b[0;32m~/Library/Python/3.9/lib/python/site-packages/sympy/core/cache.py:72\u001b[0m, in \u001b[0;36m__cacheit.<locals>.func_wrapper.<locals>.wrapper\u001b[0;34m(*args, **kwargs)\u001b[0m\n\u001b[1;32m     69\u001b[0m \u001b[38;5;129m@wraps\u001b[39m(func)\n\u001b[1;32m     70\u001b[0m \u001b[38;5;28;01mdef\u001b[39;00m \u001b[38;5;21mwrapper\u001b[39m(\u001b[38;5;241m*\u001b[39margs, \u001b[38;5;241m*\u001b[39m\u001b[38;5;241m*\u001b[39mkwargs):\n\u001b[1;32m     71\u001b[0m     \u001b[38;5;28;01mtry\u001b[39;00m:\n\u001b[0;32m---> 72\u001b[0m         retval \u001b[38;5;241m=\u001b[39m \u001b[43mcfunc\u001b[49m\u001b[43m(\u001b[49m\u001b[38;5;241;43m*\u001b[39;49m\u001b[43margs\u001b[49m\u001b[43m,\u001b[49m\u001b[43m \u001b[49m\u001b[38;5;241;43m*\u001b[39;49m\u001b[38;5;241;43m*\u001b[39;49m\u001b[43mkwargs\u001b[49m\u001b[43m)\u001b[49m\n\u001b[1;32m     73\u001b[0m     \u001b[38;5;28;01mexcept\u001b[39;00m \u001b[38;5;167;01mTypeError\u001b[39;00m \u001b[38;5;28;01mas\u001b[39;00m e:\n\u001b[1;32m     74\u001b[0m         \u001b[38;5;28;01mif\u001b[39;00m \u001b[38;5;129;01mnot\u001b[39;00m e\u001b[38;5;241m.\u001b[39margs \u001b[38;5;129;01mor\u001b[39;00m \u001b[38;5;129;01mnot\u001b[39;00m e\u001b[38;5;241m.\u001b[39margs[\u001b[38;5;241m0\u001b[39m]\u001b[38;5;241m.\u001b[39mstartswith(\u001b[38;5;124m'\u001b[39m\u001b[38;5;124munhashable type:\u001b[39m\u001b[38;5;124m'\u001b[39m):\n",
      "File \u001b[0;32m~/Library/Python/3.9/lib/python/site-packages/sympy/core/basic.py:1237\u001b[0m, in \u001b[0;36mBasic._subs\u001b[0;34m(self, old, new, **hints)\u001b[0m\n\u001b[1;32m   1235\u001b[0m rv \u001b[38;5;241m=\u001b[39m \u001b[38;5;28mself\u001b[39m\u001b[38;5;241m.\u001b[39m_eval_subs(old, new)\n\u001b[1;32m   1236\u001b[0m \u001b[38;5;28;01mif\u001b[39;00m rv \u001b[38;5;129;01mis\u001b[39;00m \u001b[38;5;28;01mNone\u001b[39;00m:\n\u001b[0;32m-> 1237\u001b[0m     rv \u001b[38;5;241m=\u001b[39m \u001b[43mfallback\u001b[49m\u001b[43m(\u001b[49m\u001b[38;5;28;43mself\u001b[39;49m\u001b[43m,\u001b[49m\u001b[43m \u001b[49m\u001b[43mold\u001b[49m\u001b[43m,\u001b[49m\u001b[43m \u001b[49m\u001b[43mnew\u001b[49m\u001b[43m)\u001b[49m\n\u001b[1;32m   1238\u001b[0m \u001b[38;5;28;01mreturn\u001b[39;00m rv\n",
      "File \u001b[0;32m~/Library/Python/3.9/lib/python/site-packages/sympy/core/basic.py:1214\u001b[0m, in \u001b[0;36mBasic._subs.<locals>.fallback\u001b[0;34m(self, old, new)\u001b[0m\n\u001b[1;32m   1212\u001b[0m         args[i] \u001b[38;5;241m=\u001b[39m arg\n\u001b[1;32m   1213\u001b[0m \u001b[38;5;28;01mif\u001b[39;00m hit:\n\u001b[0;32m-> 1214\u001b[0m     rv \u001b[38;5;241m=\u001b[39m \u001b[38;5;28;43mself\u001b[39;49m\u001b[38;5;241;43m.\u001b[39;49m\u001b[43mfunc\u001b[49m\u001b[43m(\u001b[49m\u001b[38;5;241;43m*\u001b[39;49m\u001b[43margs\u001b[49m\u001b[43m)\u001b[49m\n\u001b[1;32m   1215\u001b[0m     hack2 \u001b[38;5;241m=\u001b[39m hints\u001b[38;5;241m.\u001b[39mget(\u001b[38;5;124m'\u001b[39m\u001b[38;5;124mhack2\u001b[39m\u001b[38;5;124m'\u001b[39m, \u001b[38;5;28;01mFalse\u001b[39;00m)\n\u001b[1;32m   1216\u001b[0m     \u001b[38;5;28;01mif\u001b[39;00m hack2 \u001b[38;5;129;01mand\u001b[39;00m \u001b[38;5;28mself\u001b[39m\u001b[38;5;241m.\u001b[39mis_Mul \u001b[38;5;129;01mand\u001b[39;00m \u001b[38;5;129;01mnot\u001b[39;00m rv\u001b[38;5;241m.\u001b[39mis_Mul:  \u001b[38;5;66;03m# 2-arg hack\u001b[39;00m\n",
      "File \u001b[0;32m~/Library/Python/3.9/lib/python/site-packages/sympy/core/cache.py:72\u001b[0m, in \u001b[0;36m__cacheit.<locals>.func_wrapper.<locals>.wrapper\u001b[0;34m(*args, **kwargs)\u001b[0m\n\u001b[1;32m     69\u001b[0m \u001b[38;5;129m@wraps\u001b[39m(func)\n\u001b[1;32m     70\u001b[0m \u001b[38;5;28;01mdef\u001b[39;00m \u001b[38;5;21mwrapper\u001b[39m(\u001b[38;5;241m*\u001b[39margs, \u001b[38;5;241m*\u001b[39m\u001b[38;5;241m*\u001b[39mkwargs):\n\u001b[1;32m     71\u001b[0m     \u001b[38;5;28;01mtry\u001b[39;00m:\n\u001b[0;32m---> 72\u001b[0m         retval \u001b[38;5;241m=\u001b[39m \u001b[43mcfunc\u001b[49m\u001b[43m(\u001b[49m\u001b[38;5;241;43m*\u001b[39;49m\u001b[43margs\u001b[49m\u001b[43m,\u001b[49m\u001b[43m \u001b[49m\u001b[38;5;241;43m*\u001b[39;49m\u001b[38;5;241;43m*\u001b[39;49m\u001b[43mkwargs\u001b[49m\u001b[43m)\u001b[49m\n\u001b[1;32m     73\u001b[0m     \u001b[38;5;28;01mexcept\u001b[39;00m \u001b[38;5;167;01mTypeError\u001b[39;00m \u001b[38;5;28;01mas\u001b[39;00m e:\n\u001b[1;32m     74\u001b[0m         \u001b[38;5;28;01mif\u001b[39;00m \u001b[38;5;129;01mnot\u001b[39;00m e\u001b[38;5;241m.\u001b[39margs \u001b[38;5;129;01mor\u001b[39;00m \u001b[38;5;129;01mnot\u001b[39;00m e\u001b[38;5;241m.\u001b[39margs[\u001b[38;5;241m0\u001b[39m]\u001b[38;5;241m.\u001b[39mstartswith(\u001b[38;5;124m'\u001b[39m\u001b[38;5;124munhashable type:\u001b[39m\u001b[38;5;124m'\u001b[39m):\n",
      "File \u001b[0;32m~/Library/Python/3.9/lib/python/site-packages/sympy/core/operations.py:52\u001b[0m, in \u001b[0;36mAssocOp.__new__\u001b[0;34m(cls, evaluate, _sympify, *args)\u001b[0m\n\u001b[1;32m     48\u001b[0m \u001b[38;5;18m__slots__\u001b[39m: \u001b[38;5;28mtuple\u001b[39m[\u001b[38;5;28mstr\u001b[39m, \u001b[38;5;241m.\u001b[39m\u001b[38;5;241m.\u001b[39m\u001b[38;5;241m.\u001b[39m] \u001b[38;5;241m=\u001b[39m (\u001b[38;5;124m'\u001b[39m\u001b[38;5;124mis_commutative\u001b[39m\u001b[38;5;124m'\u001b[39m,)\n\u001b[1;32m     50\u001b[0m _args_type: \u001b[38;5;28mtype\u001b[39m[Basic] \u001b[38;5;241m|\u001b[39m \u001b[38;5;28;01mNone\u001b[39;00m \u001b[38;5;241m=\u001b[39m \u001b[38;5;28;01mNone\u001b[39;00m\n\u001b[0;32m---> 52\u001b[0m \u001b[38;5;129m@cacheit\u001b[39m\n\u001b[1;32m     53\u001b[0m \u001b[38;5;28;01mdef\u001b[39;00m \u001b[38;5;21m__new__\u001b[39m(\u001b[38;5;28mcls\u001b[39m, \u001b[38;5;241m*\u001b[39margs, evaluate\u001b[38;5;241m=\u001b[39m\u001b[38;5;28;01mNone\u001b[39;00m, _sympify\u001b[38;5;241m=\u001b[39m\u001b[38;5;28;01mTrue\u001b[39;00m):\n\u001b[1;32m     54\u001b[0m     \u001b[38;5;66;03m# Allow faster processing by passing ``_sympify=False``, if all arguments\u001b[39;00m\n\u001b[1;32m     55\u001b[0m     \u001b[38;5;66;03m# are already sympified.\u001b[39;00m\n\u001b[1;32m     56\u001b[0m     \u001b[38;5;28;01mif\u001b[39;00m _sympify:\n\u001b[1;32m     57\u001b[0m         args \u001b[38;5;241m=\u001b[39m \u001b[38;5;28mlist\u001b[39m(\u001b[38;5;28mmap\u001b[39m(_sympify_, args))\n",
      "\u001b[0;31mKeyboardInterrupt\u001b[0m: "
     ]
    }
   ],
   "source": [
    "from algoritmos import metodo_do_gradiente\n",
    "from utils import substitui_variaveis_funcao, substitui_variaveis_gradiente\n",
    "import time\n",
    "\n",
    "df_gradiente = df_base.copy()\n",
    "\n",
    "for ponto in pontos:\n",
    "    tic = time.time()\n",
    "    ponto_otimo, n_iteracoes, n_iteracoes_armijo = metodo_do_gradiente(f_x, grad_f_x, variaveis, ponto, gamma=0.5, eta=0.25)\n",
    "    tac = time.time()\n",
    "    valor_otimo = substitui_variaveis_funcao(f_x, variaveis, ponto_otimo)\n",
    "    erro_aproximacao = np.linalg.norm(substitui_variaveis_gradiente(grad_f_x, variaveis, ponto_otimo))\n",
    "    df_gradiente = pd.concat([df_gradiente, pd.DataFrame([['gradiente', ponto, n_iteracoes, n_iteracoes_armijo, ponto_otimo, valor_otimo, erro_aproximacao, tac - tic]], columns=colunas)])\n",
    "\n",
    "df_gradiente"
   ]
  },
  {
   "cell_type": "markdown",
   "metadata": {},
   "source": [
    "### Newton"
   ]
  },
  {
   "cell_type": "code",
   "execution_count": null,
   "metadata": {},
   "outputs": [
    {
     "ename": "TypeError",
     "evalue": "Cannot convert expression to float",
     "output_type": "error",
     "traceback": [
      "\u001b[0;31m---------------------------------------------------------------------------\u001b[0m",
      "\u001b[0;31mTypeError\u001b[0m                                 Traceback (most recent call last)",
      "Cell \u001b[0;32mIn[20], line 6\u001b[0m\n\u001b[1;32m      4\u001b[0m \u001b[38;5;28;01mfor\u001b[39;00m ponto \u001b[38;5;129;01min\u001b[39;00m pontos:\n\u001b[1;32m      5\u001b[0m     tic \u001b[38;5;241m=\u001b[39m time\u001b[38;5;241m.\u001b[39mtime()\n\u001b[0;32m----> 6\u001b[0m     ponto_otimo, n_iteracoes, n_iteracoes_armijo \u001b[38;5;241m=\u001b[39m \u001b[43mmetodo_de_newton\u001b[49m\u001b[43m(\u001b[49m\u001b[43mf_x\u001b[49m\u001b[43m,\u001b[49m\u001b[43m \u001b[49m\u001b[43mgrad_f_x\u001b[49m\u001b[43m,\u001b[49m\u001b[43m \u001b[49m\u001b[43mhess_f_x\u001b[49m\u001b[43m,\u001b[49m\u001b[43m \u001b[49m\u001b[43mvariaveis\u001b[49m\u001b[43m,\u001b[49m\u001b[43m \u001b[49m\u001b[43mponto\u001b[49m\u001b[43m,\u001b[49m\u001b[43m \u001b[49m\u001b[43mgamma\u001b[49m\u001b[38;5;241;43m=\u001b[39;49m\u001b[38;5;241;43m0.1\u001b[39;49m\u001b[43m,\u001b[49m\u001b[43m \u001b[49m\u001b[43meta\u001b[49m\u001b[38;5;241;43m=\u001b[39;49m\u001b[38;5;241;43m0.1\u001b[39;49m\u001b[43m)\u001b[49m\n\u001b[1;32m      7\u001b[0m     tac \u001b[38;5;241m=\u001b[39m time\u001b[38;5;241m.\u001b[39mtime()\n\u001b[1;32m      8\u001b[0m     valor_otimo \u001b[38;5;241m=\u001b[39m substitui_variaveis_funcao(f_x, variaveis, ponto_otimo)\n",
      "File \u001b[0;32m~/UFRJ/otm/cos360-optimization/algoritmos.py:141\u001b[0m, in \u001b[0;36mmetodo_de_newton\u001b[0;34m(funcao, gradiente, hessiana, variaveis, ponto_inicial, gamma, eta, maximo_iteracoes, valor_minimo)\u001b[0m\n\u001b[1;32m    137\u001b[0m iteracoes_armijo \u001b[38;5;241m=\u001b[39m \u001b[38;5;241m0\u001b[39m\n\u001b[1;32m    138\u001b[0m ponto \u001b[38;5;241m=\u001b[39m ponto_inicial\n\u001b[1;32m    140\u001b[0m \u001b[38;5;28;01mwhile\u001b[39;00m (\n\u001b[0;32m--> 141\u001b[0m     np\u001b[38;5;241m.\u001b[39mlinalg\u001b[38;5;241m.\u001b[39mnorm(\u001b[43msubstitui_variaveis_gradiente\u001b[49m\u001b[43m(\u001b[49m\u001b[43mgradiente\u001b[49m\u001b[43m,\u001b[49m\u001b[43m \u001b[49m\u001b[43mvariaveis\u001b[49m\u001b[43m,\u001b[49m\u001b[43m \u001b[49m\u001b[43mponto\u001b[49m\u001b[43m)\u001b[49m)\n\u001b[1;32m    142\u001b[0m     \u001b[38;5;241m>\u001b[39m valor_minimo\n\u001b[1;32m    143\u001b[0m ):\n\u001b[1;32m    144\u001b[0m     d \u001b[38;5;241m=\u001b[39m \u001b[38;5;241m-\u001b[39mnp\u001b[38;5;241m.\u001b[39mlinalg\u001b[38;5;241m.\u001b[39minv(\n\u001b[1;32m    145\u001b[0m         substitui_variaveis_hessiana(hessiana, variaveis, ponto)\n\u001b[1;32m    146\u001b[0m     ) \u001b[38;5;241m@\u001b[39m substitui_variaveis_gradiente(gradiente, variaveis, ponto)\n\u001b[1;32m    147\u001b[0m     t, iteracoes_armijo_tmp \u001b[38;5;241m=\u001b[39m busca_de_armijo(\n\u001b[1;32m    148\u001b[0m         funcao, gradiente, variaveis, ponto, d, gamma, eta\n\u001b[1;32m    149\u001b[0m     )\n",
      "File \u001b[0;32m~/UFRJ/otm/cos360-optimization/utils.py:9\u001b[0m, in \u001b[0;36msubstitui_variaveis_gradiente\u001b[0;34m(gradiente, variaveis, ponto)\u001b[0m\n\u001b[1;32m      8\u001b[0m \u001b[38;5;28;01mdef\u001b[39;00m \u001b[38;5;21msubstitui_variaveis_gradiente\u001b[39m(gradiente, variaveis, ponto):\n\u001b[0;32m----> 9\u001b[0m     \u001b[38;5;28;01mreturn\u001b[39;00m \u001b[43mnp\u001b[49m\u001b[38;5;241;43m.\u001b[39;49m\u001b[43marray\u001b[49m\u001b[43m(\u001b[49m\n\u001b[1;32m     10\u001b[0m \u001b[43m        \u001b[49m\u001b[43m[\u001b[49m\u001b[43mgradiente_i\u001b[49m\u001b[38;5;241;43m.\u001b[39;49m\u001b[43msubs\u001b[49m\u001b[43m(\u001b[49m\u001b[38;5;28;43mdict\u001b[39;49m\u001b[43m(\u001b[49m\u001b[38;5;28;43mzip\u001b[39;49m\u001b[43m(\u001b[49m\u001b[43mvariaveis\u001b[49m\u001b[43m,\u001b[49m\u001b[43m \u001b[49m\u001b[43mponto\u001b[49m\u001b[43m)\u001b[49m\u001b[43m)\u001b[49m\u001b[43m)\u001b[49m\u001b[43m \u001b[49m\u001b[38;5;28;43;01mfor\u001b[39;49;00m\u001b[43m \u001b[49m\u001b[43mgradiente_i\u001b[49m\u001b[43m \u001b[49m\u001b[38;5;129;43;01min\u001b[39;49;00m\u001b[43m \u001b[49m\u001b[43mgradiente\u001b[49m\u001b[43m]\u001b[49m\n\u001b[1;32m     11\u001b[0m \u001b[43m    \u001b[49m\u001b[43m)\u001b[49m\u001b[38;5;241;43m.\u001b[39;49m\u001b[43mastype\u001b[49m\u001b[43m(\u001b[49m\u001b[43mnp\u001b[49m\u001b[38;5;241;43m.\u001b[39;49m\u001b[43mfloat64\u001b[49m\u001b[43m)\u001b[49m\n",
      "File \u001b[0;32m~/Library/Python/3.9/lib/python/site-packages/sympy/core/expr.py:340\u001b[0m, in \u001b[0;36mExpr.__float__\u001b[0;34m(self)\u001b[0m\n\u001b[1;32m    338\u001b[0m \u001b[38;5;28;01mif\u001b[39;00m result\u001b[38;5;241m.\u001b[39mis_number \u001b[38;5;129;01mand\u001b[39;00m result\u001b[38;5;241m.\u001b[39mas_real_imag()[\u001b[38;5;241m1\u001b[39m]:\n\u001b[1;32m    339\u001b[0m     \u001b[38;5;28;01mraise\u001b[39;00m \u001b[38;5;167;01mTypeError\u001b[39;00m(\u001b[38;5;124m\"\u001b[39m\u001b[38;5;124mCannot convert complex to float\u001b[39m\u001b[38;5;124m\"\u001b[39m)\n\u001b[0;32m--> 340\u001b[0m \u001b[38;5;28;01mraise\u001b[39;00m \u001b[38;5;167;01mTypeError\u001b[39;00m(\u001b[38;5;124m\"\u001b[39m\u001b[38;5;124mCannot convert expression to float\u001b[39m\u001b[38;5;124m\"\u001b[39m)\n",
      "\u001b[0;31mTypeError\u001b[0m: Cannot convert expression to float"
     ]
    }
   ],
   "source": [
    "from algoritmos import metodo_de_newton\n",
    "df_newton = df_base.copy()\n",
    "\n",
    "for ponto in pontos:\n",
    "    tic = time.time()\n",
    "    ponto_otimo, n_iteracoes, n_iteracoes_armijo = metodo_de_newton(f_x, grad_f_x, hess_f_x, variaveis, ponto, gamma=0.1, eta=0.1)\n",
    "    tac = time.time()\n",
    "    valor_otimo = substitui_variaveis_funcao(f_x, variaveis, ponto_otimo)\n",
    "    erro_aproximacao = np.linalg.norm(substitui_variaveis_gradiente(grad_f_x, variaveis, ponto_otimo))\n",
    "    df_newton = pd.concat([df_newton, pd.DataFrame([['newton', ponto, n_iteracoes, n_iteracoes_armijo, ponto_otimo, valor_otimo, erro_aproximacao, tac - tic]], columns=colunas)])\n",
    "\n",
    "display(df_newton)"
   ]
  },
  {
   "cell_type": "markdown",
   "metadata": {},
   "source": [
    "### Quase-Newton"
   ]
  },
  {
   "cell_type": "code",
   "execution_count": null,
   "metadata": {},
   "outputs": [
    {
     "ename": "TypeError",
     "evalue": "Cannot convert expression to float",
     "output_type": "error",
     "traceback": [
      "\u001b[0;31m---------------------------------------------------------------------------\u001b[0m",
      "\u001b[0;31mTypeError\u001b[0m                                 Traceback (most recent call last)",
      "Cell \u001b[0;32mIn[21], line 11\u001b[0m\n\u001b[1;32m      9\u001b[0m \u001b[38;5;28;01mfor\u001b[39;00m ponto \u001b[38;5;129;01min\u001b[39;00m pontos:\n\u001b[1;32m     10\u001b[0m     tic \u001b[38;5;241m=\u001b[39m time\u001b[38;5;241m.\u001b[39mtime()\n\u001b[0;32m---> 11\u001b[0m     ponto_otimo, n_iteracoes, n_iteracoes_armijo \u001b[38;5;241m=\u001b[39m \u001b[43mmetodo_de_quase_newton\u001b[49m\u001b[43m(\u001b[49m\u001b[43mf_x\u001b[49m\u001b[43m,\u001b[49m\u001b[43m \u001b[49m\u001b[38;5;28;43mlen\u001b[39;49m\u001b[43m(\u001b[49m\u001b[43mvariaveis\u001b[49m\u001b[43m)\u001b[49m\u001b[43m,\u001b[49m\u001b[43m \u001b[49m\u001b[43mgrad_f_x\u001b[49m\u001b[43m,\u001b[49m\u001b[43m \u001b[49m\u001b[43mvariaveis\u001b[49m\u001b[43m,\u001b[49m\u001b[43m \u001b[49m\u001b[43mponto\u001b[49m\u001b[43m,\u001b[49m\u001b[43m \u001b[49m\u001b[43mgamma\u001b[49m\u001b[38;5;241;43m=\u001b[39;49m\u001b[43mmetodo\u001b[49m\u001b[43m[\u001b[49m\u001b[38;5;241;43m1\u001b[39;49m\u001b[43m]\u001b[49m\u001b[43m[\u001b[49m\u001b[38;5;124;43m'\u001b[39;49m\u001b[38;5;124;43mgamma\u001b[39;49m\u001b[38;5;124;43m'\u001b[39;49m\u001b[43m]\u001b[49m\u001b[43m,\u001b[49m\u001b[43m \u001b[49m\u001b[43meta\u001b[49m\u001b[38;5;241;43m=\u001b[39;49m\u001b[43mmetodo\u001b[49m\u001b[43m[\u001b[49m\u001b[38;5;241;43m1\u001b[39;49m\u001b[43m]\u001b[49m\u001b[43m[\u001b[49m\u001b[38;5;124;43m'\u001b[39;49m\u001b[38;5;124;43meta\u001b[39;49m\u001b[38;5;124;43m'\u001b[39;49m\u001b[43m]\u001b[49m\u001b[43m,\u001b[49m\u001b[43m \u001b[49m\u001b[43mmetodo\u001b[49m\u001b[38;5;241;43m=\u001b[39;49m\u001b[43mmetodo\u001b[49m\u001b[43m[\u001b[49m\u001b[38;5;241;43m0\u001b[39;49m\u001b[43m]\u001b[49m\u001b[43m)\u001b[49m\n\u001b[1;32m     12\u001b[0m     tac \u001b[38;5;241m=\u001b[39m time\u001b[38;5;241m.\u001b[39mtime()\n\u001b[1;32m     13\u001b[0m     valor_otimo \u001b[38;5;241m=\u001b[39m substitui_variaveis_funcao(f_x, variaveis, ponto_otimo)\n",
      "File \u001b[0;32m~/UFRJ/otm/cos360-optimization/algoritmos.py:198\u001b[0m, in \u001b[0;36mmetodo_de_quase_newton\u001b[0;34m(funcao, n_variaveis, gradiente, variaveis, ponto_inicial, gamma, eta, maximo_iteracoes, valor_minimo, metodo)\u001b[0m\n\u001b[1;32m    194\u001b[0m ponto \u001b[38;5;241m=\u001b[39m ponto_inicial\n\u001b[1;32m    195\u001b[0m H \u001b[38;5;241m=\u001b[39m np\u001b[38;5;241m.\u001b[39meye(n_variaveis)\n\u001b[1;32m    197\u001b[0m \u001b[38;5;28;01mwhile\u001b[39;00m (\n\u001b[0;32m--> 198\u001b[0m     np\u001b[38;5;241m.\u001b[39mlinalg\u001b[38;5;241m.\u001b[39mnorm(\u001b[43msubstitui_variaveis_gradiente\u001b[49m\u001b[43m(\u001b[49m\u001b[43mgradiente\u001b[49m\u001b[43m,\u001b[49m\u001b[43m \u001b[49m\u001b[43mvariaveis\u001b[49m\u001b[43m,\u001b[49m\u001b[43m \u001b[49m\u001b[43mponto\u001b[49m\u001b[43m)\u001b[49m)\n\u001b[1;32m    199\u001b[0m     \u001b[38;5;241m>\u001b[39m valor_minimo\n\u001b[1;32m    200\u001b[0m ):\n\u001b[1;32m    201\u001b[0m     d \u001b[38;5;241m=\u001b[39m \u001b[38;5;241m-\u001b[39mH \u001b[38;5;241m@\u001b[39m substitui_variaveis_gradiente(gradiente, variaveis, ponto)\n\u001b[1;32m    202\u001b[0m     t, iteracoes_armijo_tmp \u001b[38;5;241m=\u001b[39m busca_de_armijo(\n\u001b[1;32m    203\u001b[0m         funcao, gradiente, variaveis, ponto, d, gamma, eta\n\u001b[1;32m    204\u001b[0m     )\n",
      "File \u001b[0;32m~/UFRJ/otm/cos360-optimization/utils.py:9\u001b[0m, in \u001b[0;36msubstitui_variaveis_gradiente\u001b[0;34m(gradiente, variaveis, ponto)\u001b[0m\n\u001b[1;32m      8\u001b[0m \u001b[38;5;28;01mdef\u001b[39;00m \u001b[38;5;21msubstitui_variaveis_gradiente\u001b[39m(gradiente, variaveis, ponto):\n\u001b[0;32m----> 9\u001b[0m     \u001b[38;5;28;01mreturn\u001b[39;00m \u001b[43mnp\u001b[49m\u001b[38;5;241;43m.\u001b[39;49m\u001b[43marray\u001b[49m\u001b[43m(\u001b[49m\n\u001b[1;32m     10\u001b[0m \u001b[43m        \u001b[49m\u001b[43m[\u001b[49m\u001b[43mgradiente_i\u001b[49m\u001b[38;5;241;43m.\u001b[39;49m\u001b[43msubs\u001b[49m\u001b[43m(\u001b[49m\u001b[38;5;28;43mdict\u001b[39;49m\u001b[43m(\u001b[49m\u001b[38;5;28;43mzip\u001b[39;49m\u001b[43m(\u001b[49m\u001b[43mvariaveis\u001b[49m\u001b[43m,\u001b[49m\u001b[43m \u001b[49m\u001b[43mponto\u001b[49m\u001b[43m)\u001b[49m\u001b[43m)\u001b[49m\u001b[43m)\u001b[49m\u001b[43m \u001b[49m\u001b[38;5;28;43;01mfor\u001b[39;49;00m\u001b[43m \u001b[49m\u001b[43mgradiente_i\u001b[49m\u001b[43m \u001b[49m\u001b[38;5;129;43;01min\u001b[39;49;00m\u001b[43m \u001b[49m\u001b[43mgradiente\u001b[49m\u001b[43m]\u001b[49m\n\u001b[1;32m     11\u001b[0m \u001b[43m    \u001b[49m\u001b[43m)\u001b[49m\u001b[38;5;241;43m.\u001b[39;49m\u001b[43mastype\u001b[49m\u001b[43m(\u001b[49m\u001b[43mnp\u001b[49m\u001b[38;5;241;43m.\u001b[39;49m\u001b[43mfloat64\u001b[49m\u001b[43m)\u001b[49m\n",
      "File \u001b[0;32m~/Library/Python/3.9/lib/python/site-packages/sympy/core/expr.py:340\u001b[0m, in \u001b[0;36mExpr.__float__\u001b[0;34m(self)\u001b[0m\n\u001b[1;32m    338\u001b[0m \u001b[38;5;28;01mif\u001b[39;00m result\u001b[38;5;241m.\u001b[39mis_number \u001b[38;5;129;01mand\u001b[39;00m result\u001b[38;5;241m.\u001b[39mas_real_imag()[\u001b[38;5;241m1\u001b[39m]:\n\u001b[1;32m    339\u001b[0m     \u001b[38;5;28;01mraise\u001b[39;00m \u001b[38;5;167;01mTypeError\u001b[39;00m(\u001b[38;5;124m\"\u001b[39m\u001b[38;5;124mCannot convert complex to float\u001b[39m\u001b[38;5;124m\"\u001b[39m)\n\u001b[0;32m--> 340\u001b[0m \u001b[38;5;28;01mraise\u001b[39;00m \u001b[38;5;167;01mTypeError\u001b[39;00m(\u001b[38;5;124m\"\u001b[39m\u001b[38;5;124mCannot convert expression to float\u001b[39m\u001b[38;5;124m\"\u001b[39m)\n",
      "\u001b[0;31mTypeError\u001b[0m: Cannot convert expression to float"
     ]
    }
   ],
   "source": [
    "from algoritmos import metodo_de_quase_newton\n",
    "\n",
    "df_quase_newton = df_base.copy()\n",
    "\n",
    "for metodo in [\n",
    "    ('bfgs', { 'gamma': 0.1, 'eta': 0.1 }),\n",
    "    ('dfp', { 'gamma': 0.9, 'eta': 0.25 })\n",
    "]:\n",
    "    for ponto in pontos:\n",
    "        tic = time.time()\n",
    "        ponto_otimo, n_iteracoes, n_iteracoes_armijo = metodo_de_quase_newton(f_x, len(variaveis), grad_f_x, variaveis, ponto, gamma=metodo[1]['gamma'], eta=metodo[1]['eta'], metodo=metodo[0])\n",
    "        tac = time.time()\n",
    "        valor_otimo = substitui_variaveis_funcao(f_x, variaveis, ponto_otimo)\n",
    "        erro_aproximacao = np.linalg.norm(substitui_variaveis_gradiente(grad_f_x, variaveis, ponto_otimo))\n",
    "        df_quase_newton = pd.concat([df_quase_newton, pd.DataFrame([[f'quase-newtown ({metodo[0]})', ponto, n_iteracoes, n_iteracoes_armijo, ponto_otimo, valor_otimo, erro_aproximacao, tac - tic]], columns=colunas)])\n",
    "\n",
    "display(df_quase_newton)"
   ]
  },
  {
   "cell_type": "markdown",
   "metadata": {},
   "source": [
    "## Tabela geral"
   ]
  },
  {
   "cell_type": "code",
   "execution_count": null,
   "metadata": {},
   "outputs": [
    {
     "data": {
      "text/html": [
       "<div>\n",
       "<style scoped>\n",
       "    .dataframe tbody tr th:only-of-type {\n",
       "        vertical-align: middle;\n",
       "    }\n",
       "\n",
       "    .dataframe tbody tr th {\n",
       "        vertical-align: top;\n",
       "    }\n",
       "\n",
       "    .dataframe thead th {\n",
       "        text-align: right;\n",
       "    }\n",
       "</style>\n",
       "<table border=\"1\" class=\"dataframe\">\n",
       "  <thead>\n",
       "    <tr style=\"text-align: right;\">\n",
       "      <th></th>\n",
       "      <th>Algoritmo</th>\n",
       "      <th>Ponto inicial</th>\n",
       "      <th># de iteracoes</th>\n",
       "      <th># de cham. de armijo</th>\n",
       "      <th>Ponto otimo</th>\n",
       "      <th>Valor otimo</th>\n",
       "      <th>Erro de aproximação</th>\n",
       "    </tr>\n",
       "  </thead>\n",
       "  <tbody>\n",
       "    <tr>\n",
       "      <th>0</th>\n",
       "      <td>gradiente</td>\n",
       "      <td>[2.9, 2.1, 3.9, 4.9, 5.9, 6.9, 7.9]</td>\n",
       "      <td>1000</td>\n",
       "      <td>4742</td>\n",
       "      <td>[0.006992746163843586, -0.7099349068493341, 1....</td>\n",
       "      <td>92.9721245930694</td>\n",
       "      <td>3.360583e+00</td>\n",
       "    </tr>\n",
       "    <tr>\n",
       "      <th>0</th>\n",
       "      <td>newton</td>\n",
       "      <td>[2.9, 2.1, 3.9, 4.9, 5.9, 6.9, 7.9]</td>\n",
       "      <td>178</td>\n",
       "      <td>344</td>\n",
       "      <td>[1.0000000000707099, 1.000000000141737, 1.0000...</td>\n",
       "      <td>6.93455489685290e-18</td>\n",
       "      <td>5.888488e-09</td>\n",
       "    </tr>\n",
       "    <tr>\n",
       "      <th>0</th>\n",
       "      <td>quase-newtown (bfgs)</td>\n",
       "      <td>[2.9, 2.1, 3.9, 4.9, 5.9, 6.9, 7.9]</td>\n",
       "      <td>108</td>\n",
       "      <td>159</td>\n",
       "      <td>[0.999999999892512, 0.9999999998147001, 0.9999...</td>\n",
       "      <td>1.69996716984094e-17</td>\n",
       "      <td>1.368225e-07</td>\n",
       "    </tr>\n",
       "    <tr>\n",
       "      <th>0</th>\n",
       "      <td>quase-newtown (dfp)</td>\n",
       "      <td>[2.9, 2.1, 3.9, 4.9, 5.9, 6.9, 7.9]</td>\n",
       "      <td>1000</td>\n",
       "      <td>16842</td>\n",
       "      <td>[1.7170574862324475, 1.1857484596600392, 1.956...</td>\n",
       "      <td>3010.90422095069</td>\n",
       "      <td>4.568595e+03</td>\n",
       "    </tr>\n",
       "  </tbody>\n",
       "</table>\n",
       "</div>"
      ],
      "text/plain": [
       "              Algoritmo                        Ponto inicial # de iteracoes  \\\n",
       "0             gradiente  [2.9, 2.1, 3.9, 4.9, 5.9, 6.9, 7.9]           1000   \n",
       "0                newton  [2.9, 2.1, 3.9, 4.9, 5.9, 6.9, 7.9]            178   \n",
       "0  quase-newtown (bfgs)  [2.9, 2.1, 3.9, 4.9, 5.9, 6.9, 7.9]            108   \n",
       "0   quase-newtown (dfp)  [2.9, 2.1, 3.9, 4.9, 5.9, 6.9, 7.9]           1000   \n",
       "\n",
       "  # de cham. de armijo                                        Ponto otimo  \\\n",
       "0                 4742  [0.006992746163843586, -0.7099349068493341, 1....   \n",
       "0                  344  [1.0000000000707099, 1.000000000141737, 1.0000...   \n",
       "0                  159  [0.999999999892512, 0.9999999998147001, 0.9999...   \n",
       "0                16842  [1.7170574862324475, 1.1857484596600392, 1.956...   \n",
       "\n",
       "            Valor otimo  Erro de aproximação  \n",
       "0      92.9721245930694         3.360583e+00  \n",
       "0  6.93455489685290e-18         5.888488e-09  \n",
       "0  1.69996716984094e-17         1.368225e-07  \n",
       "0      3010.90422095069         4.568595e+03  "
      ]
     },
     "execution_count": 21,
     "metadata": {},
     "output_type": "execute_result"
    }
   ],
   "source": [
    "df_all = pd.concat([df_gradiente, df_newton, df_quase_newton])\n",
    "df_all"
   ]
  }
 ],
 "metadata": {
  "kernelspec": {
   "display_name": ".venv",
   "language": "python",
   "name": "python3"
  },
  "language_info": {
   "codemirror_mode": {
    "name": "ipython",
    "version": 3
   },
   "file_extension": ".py",
   "mimetype": "text/x-python",
   "name": "python",
   "nbconvert_exporter": "python",
   "pygments_lexer": "ipython3",
   "version": "3.9.6"
  }
 },
 "nbformat": 4,
 "nbformat_minor": 2
}
